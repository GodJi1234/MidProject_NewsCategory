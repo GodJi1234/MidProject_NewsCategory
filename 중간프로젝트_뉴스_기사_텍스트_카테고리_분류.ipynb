{
  "nbformat": 4,
  "nbformat_minor": 0,
  "metadata": {
    "colab": {
      "provenance": [],
      "authorship_tag": "ABX9TyNaN+d7coBfW+dA/hjDqKXf",
      "include_colab_link": true
    },
    "kernelspec": {
      "name": "python3",
      "display_name": "Python 3"
    },
    "language_info": {
      "name": "python"
    },
    "widgets": {
      "application/vnd.jupyter.widget-state+json": {
        "eabb049cb72345ff93a19b5e85403121": {
          "model_module": "@jupyter-widgets/controls",
          "model_name": "HBoxModel",
          "model_module_version": "1.5.0",
          "state": {
            "_dom_classes": [],
            "_model_module": "@jupyter-widgets/controls",
            "_model_module_version": "1.5.0",
            "_model_name": "HBoxModel",
            "_view_count": null,
            "_view_module": "@jupyter-widgets/controls",
            "_view_module_version": "1.5.0",
            "_view_name": "HBoxView",
            "box_style": "",
            "children": [
              "IPY_MODEL_1dd33ac1b4974493aac6479a2dcc86af",
              "IPY_MODEL_abd338f73172475093e53159ea6495b4",
              "IPY_MODEL_c6f62bac78dd4da5bde2ea2b024bfe29"
            ],
            "layout": "IPY_MODEL_0c3ff4baa40c4ff0b7c48f5dde43f6da"
          }
        },
        "1dd33ac1b4974493aac6479a2dcc86af": {
          "model_module": "@jupyter-widgets/controls",
          "model_name": "HTMLModel",
          "model_module_version": "1.5.0",
          "state": {
            "_dom_classes": [],
            "_model_module": "@jupyter-widgets/controls",
            "_model_module_version": "1.5.0",
            "_model_name": "HTMLModel",
            "_view_count": null,
            "_view_module": "@jupyter-widgets/controls",
            "_view_module_version": "1.5.0",
            "_view_name": "HTMLView",
            "description": "",
            "description_tooltip": null,
            "layout": "IPY_MODEL_9edc9f4623a641c4ab73b7a80c48e27f",
            "placeholder": "​",
            "style": "IPY_MODEL_d026f518a0784fdb86a6fa28cfd785c8",
            "value": ""
          }
        },
        "abd338f73172475093e53159ea6495b4": {
          "model_module": "@jupyter-widgets/controls",
          "model_name": "FloatProgressModel",
          "model_module_version": "1.5.0",
          "state": {
            "_dom_classes": [],
            "_model_module": "@jupyter-widgets/controls",
            "_model_module_version": "1.5.0",
            "_model_name": "FloatProgressModel",
            "_view_count": null,
            "_view_module": "@jupyter-widgets/controls",
            "_view_module_version": "1.5.0",
            "_view_name": "ProgressView",
            "bar_style": "danger",
            "description": "",
            "description_tooltip": null,
            "layout": "IPY_MODEL_b50b41527da44af8b76c68b559e4a867",
            "max": 1,
            "min": 0,
            "orientation": "horizontal",
            "style": "IPY_MODEL_6ddc13106b6845c79e530d9f7c684cd5",
            "value": 1
          }
        },
        "c6f62bac78dd4da5bde2ea2b024bfe29": {
          "model_module": "@jupyter-widgets/controls",
          "model_name": "HTMLModel",
          "model_module_version": "1.5.0",
          "state": {
            "_dom_classes": [],
            "_model_module": "@jupyter-widgets/controls",
            "_model_module_version": "1.5.0",
            "_model_name": "HTMLModel",
            "_view_count": null,
            "_view_module": "@jupyter-widgets/controls",
            "_view_module_version": "1.5.0",
            "_view_name": "HTMLView",
            "description": "",
            "description_tooltip": null,
            "layout": "IPY_MODEL_697704b49f7a4aab8a3a42e75bd9482f",
            "placeholder": "​",
            "style": "IPY_MODEL_547ddf1f883d4a83bd0c4a3f1e0bb233",
            "value": " 50/? [00:00&lt;00:00, 836.56it/s]"
          }
        },
        "0c3ff4baa40c4ff0b7c48f5dde43f6da": {
          "model_module": "@jupyter-widgets/base",
          "model_name": "LayoutModel",
          "model_module_version": "1.2.0",
          "state": {
            "_model_module": "@jupyter-widgets/base",
            "_model_module_version": "1.2.0",
            "_model_name": "LayoutModel",
            "_view_count": null,
            "_view_module": "@jupyter-widgets/base",
            "_view_module_version": "1.2.0",
            "_view_name": "LayoutView",
            "align_content": null,
            "align_items": null,
            "align_self": null,
            "border": null,
            "bottom": null,
            "display": null,
            "flex": null,
            "flex_flow": null,
            "grid_area": null,
            "grid_auto_columns": null,
            "grid_auto_flow": null,
            "grid_auto_rows": null,
            "grid_column": null,
            "grid_gap": null,
            "grid_row": null,
            "grid_template_areas": null,
            "grid_template_columns": null,
            "grid_template_rows": null,
            "height": null,
            "justify_content": null,
            "justify_items": null,
            "left": null,
            "margin": null,
            "max_height": null,
            "max_width": null,
            "min_height": null,
            "min_width": null,
            "object_fit": null,
            "object_position": null,
            "order": null,
            "overflow": null,
            "overflow_x": null,
            "overflow_y": null,
            "padding": null,
            "right": null,
            "top": null,
            "visibility": null,
            "width": null
          }
        },
        "9edc9f4623a641c4ab73b7a80c48e27f": {
          "model_module": "@jupyter-widgets/base",
          "model_name": "LayoutModel",
          "model_module_version": "1.2.0",
          "state": {
            "_model_module": "@jupyter-widgets/base",
            "_model_module_version": "1.2.0",
            "_model_name": "LayoutModel",
            "_view_count": null,
            "_view_module": "@jupyter-widgets/base",
            "_view_module_version": "1.2.0",
            "_view_name": "LayoutView",
            "align_content": null,
            "align_items": null,
            "align_self": null,
            "border": null,
            "bottom": null,
            "display": null,
            "flex": null,
            "flex_flow": null,
            "grid_area": null,
            "grid_auto_columns": null,
            "grid_auto_flow": null,
            "grid_auto_rows": null,
            "grid_column": null,
            "grid_gap": null,
            "grid_row": null,
            "grid_template_areas": null,
            "grid_template_columns": null,
            "grid_template_rows": null,
            "height": null,
            "justify_content": null,
            "justify_items": null,
            "left": null,
            "margin": null,
            "max_height": null,
            "max_width": null,
            "min_height": null,
            "min_width": null,
            "object_fit": null,
            "object_position": null,
            "order": null,
            "overflow": null,
            "overflow_x": null,
            "overflow_y": null,
            "padding": null,
            "right": null,
            "top": null,
            "visibility": null,
            "width": null
          }
        },
        "d026f518a0784fdb86a6fa28cfd785c8": {
          "model_module": "@jupyter-widgets/controls",
          "model_name": "DescriptionStyleModel",
          "model_module_version": "1.5.0",
          "state": {
            "_model_module": "@jupyter-widgets/controls",
            "_model_module_version": "1.5.0",
            "_model_name": "DescriptionStyleModel",
            "_view_count": null,
            "_view_module": "@jupyter-widgets/base",
            "_view_module_version": "1.2.0",
            "_view_name": "StyleView",
            "description_width": ""
          }
        },
        "b50b41527da44af8b76c68b559e4a867": {
          "model_module": "@jupyter-widgets/base",
          "model_name": "LayoutModel",
          "model_module_version": "1.2.0",
          "state": {
            "_model_module": "@jupyter-widgets/base",
            "_model_module_version": "1.2.0",
            "_model_name": "LayoutModel",
            "_view_count": null,
            "_view_module": "@jupyter-widgets/base",
            "_view_module_version": "1.2.0",
            "_view_name": "LayoutView",
            "align_content": null,
            "align_items": null,
            "align_self": null,
            "border": null,
            "bottom": null,
            "display": null,
            "flex": null,
            "flex_flow": null,
            "grid_area": null,
            "grid_auto_columns": null,
            "grid_auto_flow": null,
            "grid_auto_rows": null,
            "grid_column": null,
            "grid_gap": null,
            "grid_row": null,
            "grid_template_areas": null,
            "grid_template_columns": null,
            "grid_template_rows": null,
            "height": null,
            "justify_content": null,
            "justify_items": null,
            "left": null,
            "margin": null,
            "max_height": null,
            "max_width": null,
            "min_height": null,
            "min_width": null,
            "object_fit": null,
            "object_position": null,
            "order": null,
            "overflow": null,
            "overflow_x": null,
            "overflow_y": null,
            "padding": null,
            "right": null,
            "top": null,
            "visibility": null,
            "width": "20px"
          }
        },
        "6ddc13106b6845c79e530d9f7c684cd5": {
          "model_module": "@jupyter-widgets/controls",
          "model_name": "ProgressStyleModel",
          "model_module_version": "1.5.0",
          "state": {
            "_model_module": "@jupyter-widgets/controls",
            "_model_module_version": "1.5.0",
            "_model_name": "ProgressStyleModel",
            "_view_count": null,
            "_view_module": "@jupyter-widgets/base",
            "_view_module_version": "1.2.0",
            "_view_name": "StyleView",
            "bar_color": null,
            "description_width": ""
          }
        },
        "697704b49f7a4aab8a3a42e75bd9482f": {
          "model_module": "@jupyter-widgets/base",
          "model_name": "LayoutModel",
          "model_module_version": "1.2.0",
          "state": {
            "_model_module": "@jupyter-widgets/base",
            "_model_module_version": "1.2.0",
            "_model_name": "LayoutModel",
            "_view_count": null,
            "_view_module": "@jupyter-widgets/base",
            "_view_module_version": "1.2.0",
            "_view_name": "LayoutView",
            "align_content": null,
            "align_items": null,
            "align_self": null,
            "border": null,
            "bottom": null,
            "display": null,
            "flex": null,
            "flex_flow": null,
            "grid_area": null,
            "grid_auto_columns": null,
            "grid_auto_flow": null,
            "grid_auto_rows": null,
            "grid_column": null,
            "grid_gap": null,
            "grid_row": null,
            "grid_template_areas": null,
            "grid_template_columns": null,
            "grid_template_rows": null,
            "height": null,
            "justify_content": null,
            "justify_items": null,
            "left": null,
            "margin": null,
            "max_height": null,
            "max_width": null,
            "min_height": null,
            "min_width": null,
            "object_fit": null,
            "object_position": null,
            "order": null,
            "overflow": null,
            "overflow_x": null,
            "overflow_y": null,
            "padding": null,
            "right": null,
            "top": null,
            "visibility": null,
            "width": null
          }
        },
        "547ddf1f883d4a83bd0c4a3f1e0bb233": {
          "model_module": "@jupyter-widgets/controls",
          "model_name": "DescriptionStyleModel",
          "model_module_version": "1.5.0",
          "state": {
            "_model_module": "@jupyter-widgets/controls",
            "_model_module_version": "1.5.0",
            "_model_name": "DescriptionStyleModel",
            "_view_count": null,
            "_view_module": "@jupyter-widgets/base",
            "_view_module_version": "1.2.0",
            "_view_name": "StyleView",
            "description_width": ""
          }
        },
        "64ca4eb424384ac1b5a2147755a2b028": {
          "model_module": "@jupyter-widgets/controls",
          "model_name": "HBoxModel",
          "model_module_version": "1.5.0",
          "state": {
            "_dom_classes": [],
            "_model_module": "@jupyter-widgets/controls",
            "_model_module_version": "1.5.0",
            "_model_name": "HBoxModel",
            "_view_count": null,
            "_view_module": "@jupyter-widgets/controls",
            "_view_module_version": "1.5.0",
            "_view_name": "HBoxView",
            "box_style": "",
            "children": [
              "IPY_MODEL_91291b827e4d4ba0af9a1a64f50c3837",
              "IPY_MODEL_cbda051b942a4e81a08319f6893eb944",
              "IPY_MODEL_6a4fbfd8a240486e9a3bfcbf34ca96cf"
            ],
            "layout": "IPY_MODEL_2c90e845567247459b3220d7d0bb796f"
          }
        },
        "91291b827e4d4ba0af9a1a64f50c3837": {
          "model_module": "@jupyter-widgets/controls",
          "model_name": "HTMLModel",
          "model_module_version": "1.5.0",
          "state": {
            "_dom_classes": [],
            "_model_module": "@jupyter-widgets/controls",
            "_model_module_version": "1.5.0",
            "_model_name": "HTMLModel",
            "_view_count": null,
            "_view_module": "@jupyter-widgets/controls",
            "_view_module_version": "1.5.0",
            "_view_name": "HTMLView",
            "description": "",
            "description_tooltip": null,
            "layout": "IPY_MODEL_e3f5972f7eff4ae09a2dba4a0fcc1c71",
            "placeholder": "​",
            "style": "IPY_MODEL_a70148ac1135469592aa3173b0825a70",
            "value": ""
          }
        },
        "cbda051b942a4e81a08319f6893eb944": {
          "model_module": "@jupyter-widgets/controls",
          "model_name": "FloatProgressModel",
          "model_module_version": "1.5.0",
          "state": {
            "_dom_classes": [],
            "_model_module": "@jupyter-widgets/controls",
            "_model_module_version": "1.5.0",
            "_model_name": "FloatProgressModel",
            "_view_count": null,
            "_view_module": "@jupyter-widgets/controls",
            "_view_module_version": "1.5.0",
            "_view_name": "ProgressView",
            "bar_style": "danger",
            "description": "",
            "description_tooltip": null,
            "layout": "IPY_MODEL_0746c857c4c1496baf06114897ac27c6",
            "max": 1,
            "min": 0,
            "orientation": "horizontal",
            "style": "IPY_MODEL_58db7d1705a947038ed012b9f54570fe",
            "value": 1
          }
        },
        "6a4fbfd8a240486e9a3bfcbf34ca96cf": {
          "model_module": "@jupyter-widgets/controls",
          "model_name": "HTMLModel",
          "model_module_version": "1.5.0",
          "state": {
            "_dom_classes": [],
            "_model_module": "@jupyter-widgets/controls",
            "_model_module_version": "1.5.0",
            "_model_name": "HTMLModel",
            "_view_count": null,
            "_view_module": "@jupyter-widgets/controls",
            "_view_module_version": "1.5.0",
            "_view_name": "HTMLView",
            "description": "",
            "description_tooltip": null,
            "layout": "IPY_MODEL_20ae1e7613334efda56980b882f0f717",
            "placeholder": "​",
            "style": "IPY_MODEL_5a077f93106c453ebdb237373964569b",
            "value": " 50/? [00:00&lt;00:00, 615.58it/s]"
          }
        },
        "2c90e845567247459b3220d7d0bb796f": {
          "model_module": "@jupyter-widgets/base",
          "model_name": "LayoutModel",
          "model_module_version": "1.2.0",
          "state": {
            "_model_module": "@jupyter-widgets/base",
            "_model_module_version": "1.2.0",
            "_model_name": "LayoutModel",
            "_view_count": null,
            "_view_module": "@jupyter-widgets/base",
            "_view_module_version": "1.2.0",
            "_view_name": "LayoutView",
            "align_content": null,
            "align_items": null,
            "align_self": null,
            "border": null,
            "bottom": null,
            "display": null,
            "flex": null,
            "flex_flow": null,
            "grid_area": null,
            "grid_auto_columns": null,
            "grid_auto_flow": null,
            "grid_auto_rows": null,
            "grid_column": null,
            "grid_gap": null,
            "grid_row": null,
            "grid_template_areas": null,
            "grid_template_columns": null,
            "grid_template_rows": null,
            "height": null,
            "justify_content": null,
            "justify_items": null,
            "left": null,
            "margin": null,
            "max_height": null,
            "max_width": null,
            "min_height": null,
            "min_width": null,
            "object_fit": null,
            "object_position": null,
            "order": null,
            "overflow": null,
            "overflow_x": null,
            "overflow_y": null,
            "padding": null,
            "right": null,
            "top": null,
            "visibility": null,
            "width": null
          }
        },
        "e3f5972f7eff4ae09a2dba4a0fcc1c71": {
          "model_module": "@jupyter-widgets/base",
          "model_name": "LayoutModel",
          "model_module_version": "1.2.0",
          "state": {
            "_model_module": "@jupyter-widgets/base",
            "_model_module_version": "1.2.0",
            "_model_name": "LayoutModel",
            "_view_count": null,
            "_view_module": "@jupyter-widgets/base",
            "_view_module_version": "1.2.0",
            "_view_name": "LayoutView",
            "align_content": null,
            "align_items": null,
            "align_self": null,
            "border": null,
            "bottom": null,
            "display": null,
            "flex": null,
            "flex_flow": null,
            "grid_area": null,
            "grid_auto_columns": null,
            "grid_auto_flow": null,
            "grid_auto_rows": null,
            "grid_column": null,
            "grid_gap": null,
            "grid_row": null,
            "grid_template_areas": null,
            "grid_template_columns": null,
            "grid_template_rows": null,
            "height": null,
            "justify_content": null,
            "justify_items": null,
            "left": null,
            "margin": null,
            "max_height": null,
            "max_width": null,
            "min_height": null,
            "min_width": null,
            "object_fit": null,
            "object_position": null,
            "order": null,
            "overflow": null,
            "overflow_x": null,
            "overflow_y": null,
            "padding": null,
            "right": null,
            "top": null,
            "visibility": null,
            "width": null
          }
        },
        "a70148ac1135469592aa3173b0825a70": {
          "model_module": "@jupyter-widgets/controls",
          "model_name": "DescriptionStyleModel",
          "model_module_version": "1.5.0",
          "state": {
            "_model_module": "@jupyter-widgets/controls",
            "_model_module_version": "1.5.0",
            "_model_name": "DescriptionStyleModel",
            "_view_count": null,
            "_view_module": "@jupyter-widgets/base",
            "_view_module_version": "1.2.0",
            "_view_name": "StyleView",
            "description_width": ""
          }
        },
        "0746c857c4c1496baf06114897ac27c6": {
          "model_module": "@jupyter-widgets/base",
          "model_name": "LayoutModel",
          "model_module_version": "1.2.0",
          "state": {
            "_model_module": "@jupyter-widgets/base",
            "_model_module_version": "1.2.0",
            "_model_name": "LayoutModel",
            "_view_count": null,
            "_view_module": "@jupyter-widgets/base",
            "_view_module_version": "1.2.0",
            "_view_name": "LayoutView",
            "align_content": null,
            "align_items": null,
            "align_self": null,
            "border": null,
            "bottom": null,
            "display": null,
            "flex": null,
            "flex_flow": null,
            "grid_area": null,
            "grid_auto_columns": null,
            "grid_auto_flow": null,
            "grid_auto_rows": null,
            "grid_column": null,
            "grid_gap": null,
            "grid_row": null,
            "grid_template_areas": null,
            "grid_template_columns": null,
            "grid_template_rows": null,
            "height": null,
            "justify_content": null,
            "justify_items": null,
            "left": null,
            "margin": null,
            "max_height": null,
            "max_width": null,
            "min_height": null,
            "min_width": null,
            "object_fit": null,
            "object_position": null,
            "order": null,
            "overflow": null,
            "overflow_x": null,
            "overflow_y": null,
            "padding": null,
            "right": null,
            "top": null,
            "visibility": null,
            "width": "20px"
          }
        },
        "58db7d1705a947038ed012b9f54570fe": {
          "model_module": "@jupyter-widgets/controls",
          "model_name": "ProgressStyleModel",
          "model_module_version": "1.5.0",
          "state": {
            "_model_module": "@jupyter-widgets/controls",
            "_model_module_version": "1.5.0",
            "_model_name": "ProgressStyleModel",
            "_view_count": null,
            "_view_module": "@jupyter-widgets/base",
            "_view_module_version": "1.2.0",
            "_view_name": "StyleView",
            "bar_color": null,
            "description_width": ""
          }
        },
        "20ae1e7613334efda56980b882f0f717": {
          "model_module": "@jupyter-widgets/base",
          "model_name": "LayoutModel",
          "model_module_version": "1.2.0",
          "state": {
            "_model_module": "@jupyter-widgets/base",
            "_model_module_version": "1.2.0",
            "_model_name": "LayoutModel",
            "_view_count": null,
            "_view_module": "@jupyter-widgets/base",
            "_view_module_version": "1.2.0",
            "_view_name": "LayoutView",
            "align_content": null,
            "align_items": null,
            "align_self": null,
            "border": null,
            "bottom": null,
            "display": null,
            "flex": null,
            "flex_flow": null,
            "grid_area": null,
            "grid_auto_columns": null,
            "grid_auto_flow": null,
            "grid_auto_rows": null,
            "grid_column": null,
            "grid_gap": null,
            "grid_row": null,
            "grid_template_areas": null,
            "grid_template_columns": null,
            "grid_template_rows": null,
            "height": null,
            "justify_content": null,
            "justify_items": null,
            "left": null,
            "margin": null,
            "max_height": null,
            "max_width": null,
            "min_height": null,
            "min_width": null,
            "object_fit": null,
            "object_position": null,
            "order": null,
            "overflow": null,
            "overflow_x": null,
            "overflow_y": null,
            "padding": null,
            "right": null,
            "top": null,
            "visibility": null,
            "width": null
          }
        },
        "5a077f93106c453ebdb237373964569b": {
          "model_module": "@jupyter-widgets/controls",
          "model_name": "DescriptionStyleModel",
          "model_module_version": "1.5.0",
          "state": {
            "_model_module": "@jupyter-widgets/controls",
            "_model_module_version": "1.5.0",
            "_model_name": "DescriptionStyleModel",
            "_view_count": null,
            "_view_module": "@jupyter-widgets/base",
            "_view_module_version": "1.2.0",
            "_view_name": "StyleView",
            "description_width": ""
          }
        }
      }
    }
  },
  "cells": [
    {
      "cell_type": "markdown",
      "metadata": {
        "id": "view-in-github",
        "colab_type": "text"
      },
      "source": [
        "<a href=\"https://colab.research.google.com/github/JISOO0213/MidProject_NewsCategory/blob/main/%EC%A4%91%EA%B0%84%ED%94%84%EB%A1%9C%EC%A0%9D%ED%8A%B8_%EB%89%B4%EC%8A%A4_%EA%B8%B0%EC%82%AC_%ED%85%8D%EC%8A%A4%ED%8A%B8_%EC%B9%B4%ED%85%8C%EA%B3%A0%EB%A6%AC_%EB%B6%84%EB%A5%98.ipynb\" target=\"_parent\"><img src=\"https://colab.research.google.com/assets/colab-badge.svg\" alt=\"Open In Colab\"/></a>"
      ]
    },
    {
      "cell_type": "code",
      "execution_count": null,
      "metadata": {
        "colab": {
          "base_uri": "https://localhost:8080/"
        },
        "id": "k0aQgiaBpVPd",
        "outputId": "20411cf7-ed3d-4d6c-e5a6-18f031dbbd1c"
      },
      "outputs": [
        {
          "output_type": "stream",
          "name": "stdout",
          "text": [
            "NVIDIA-SMI has failed because it couldn't communicate with the NVIDIA driver. Make sure that the latest NVIDIA driver is installed and running.\n",
            "\n"
          ]
        }
      ],
      "source": [
        "!nvidia-smi"
      ]
    },
    {
      "cell_type": "code",
      "source": [
        "!pip install sentencepiece # 토크나이저 인스톨"
      ],
      "metadata": {
        "colab": {
          "base_uri": "https://localhost:8080/"
        },
        "id": "RPPh_hV89SU-",
        "outputId": "d08e4b22-d34d-44a0-8661-2311d7269ed8"
      },
      "execution_count": null,
      "outputs": [
        {
          "output_type": "stream",
          "name": "stdout",
          "text": [
            "Looking in indexes: https://pypi.org/simple, https://us-python.pkg.dev/colab-wheels/public/simple/\n",
            "Collecting sentencepiece\n",
            "  Downloading sentencepiece-0.1.97-cp37-cp37m-manylinux_2_17_x86_64.manylinux2014_x86_64.whl (1.3 MB)\n",
            "\u001b[K     |████████████████████████████████| 1.3 MB 18.2 MB/s \n",
            "\u001b[?25hInstalling collected packages: sentencepiece\n",
            "Successfully installed sentencepiece-0.1.97\n"
          ]
        }
      ]
    },
    {
      "cell_type": "code",
      "source": [
        "# imports\n",
        "import argparse # 자주 사용하게 될 SEED 값이나 경로 등을 딕셔너리 형태로 저장해주는 모듈 \n",
        "import os  # 운영체제 제어 \n",
        "import random  # 랜덤\n",
        "import shutil # 쉘 명령어 등을 대신 실행해주는 유틸 \n",
        "import json\n",
        "import zipfile # 압축 푸는 애\n",
        "import math \n",
        "import copy\n",
        "import collections  # dict 형태의 자료들을 좀더 쉽게 사용할 수 있게 만들어주는 패키지  - counter: 각 dict에 있는 빈도 세어주는 역할\n",
        "import re  # 정규식에 의해 텍스트 데이터를 찾을 때 사용\n",
        "\n",
        "import matplotlib.pyplot as plt\n",
        "import pandas as pd\n",
        "import numpy as np\n",
        "import sentencepiece as spm  # 토크나이저\n",
        "import tensorflow as tf\n",
        "import tensorflow.keras.backend as K\n",
        "\n",
        "from tqdm.notebook import tqdm, trange   # 작업량을 막대그래프로 표시 "
      ],
      "metadata": {
        "id": "MXtBX5S39Gi-"
      },
      "execution_count": null,
      "outputs": []
    },
    {
      "cell_type": "code",
      "source": [
        "import tensorflow as tf\n",
        "import tensorflow_datasets as tfds #Dataset API\n",
        "import numpy as np #Linear Algebra\n",
        "import matplotlib.pyplot as plt #Data visualization\n",
        "import os #Manipulate Files\n",
        "from PIL import Image #Manipulate Images\n",
        "\n",
        "import warnings\n",
        "warnings.filterwarnings('ignore') #ignores warnings\n",
        "\n",
        "#Make sure Tensorflow is version 2.0 or higher\n",
        "print('Tensorflow Version:', tf.__version__)"
      ],
      "metadata": {
        "colab": {
          "base_uri": "https://localhost:8080/"
        },
        "id": "LdK7qgHxpdE7",
        "outputId": "04846394-ec27-49db-bd0f-4790f51d4775"
      },
      "execution_count": null,
      "outputs": [
        {
          "output_type": "stream",
          "name": "stdout",
          "text": [
            "Tensorflow Version: 2.9.2\n"
          ]
        }
      ]
    },
    {
      "cell_type": "markdown",
      "metadata": {
        "id": "Q0uHvRbvLVyk"
      },
      "source": [
        "# 1. 파일확인"
      ]
    },
    {
      "cell_type": "code",
      "source": [
        "from google.colab import drive\n",
        "drive.mount('/content/drive')"
      ],
      "metadata": {
        "colab": {
          "base_uri": "https://localhost:8080/"
        },
        "id": "evkVyzlJpxaf",
        "outputId": "ff7b2e7a-463f-42e2-820d-dffa91d0a8db"
      },
      "execution_count": null,
      "outputs": [
        {
          "output_type": "stream",
          "name": "stdout",
          "text": [
            "Mounted at /content/drive\n"
          ]
        }
      ]
    },
    {
      "cell_type": "code",
      "execution_count": null,
      "metadata": {
        "id": "oBIIu_Vxpfe9",
        "colab": {
          "base_uri": "https://localhost:8080/"
        },
        "outputId": "62c0ac3d-8c15-498b-eb30-4e2d9ec470f7"
      },
      "outputs": [
        {
          "output_type": "stream",
          "name": "stdout",
          "text": [
            "/content/drive/MyDrive/ITStudy/data\n"
          ]
        }
      ],
      "source": [
        "%cd /content/drive/MyDrive/ITStudy/data/\n",
        "\n",
        "!unzip -qq \"/content/drive/MyDrive/ITStudy/data/mid_proj.zip\""
      ]
    },
    {
      "cell_type": "code",
      "source": [
        "%cd /content/drive/MyDrive/ITStudy/04_DL\n",
        "\n",
        "!unzip -qq \"/content/drive/MyDrive/ITStudy/data/[└┌┐м╛ю└╠┴ЎAI]▒т╗ч┼╪╜║╞о─л┼╫░э╕о║╨╖∙_test.zip\""
      ],
      "metadata": {
        "id": "9NY1A78Dpnar",
        "colab": {
          "base_uri": "https://localhost:8080/"
        },
        "outputId": "3c0aa8e5-17ed-4331-8185-0ded071aafee"
      },
      "execution_count": null,
      "outputs": [
        {
          "output_type": "stream",
          "name": "stdout",
          "text": [
            "/content/drive/MyDrive/ITStudy/04_DL\n"
          ]
        }
      ]
    },
    {
      "cell_type": "code",
      "source": [
        "%cd /content/drive/MyDrive/ITStudy/04_DL\n",
        "\n",
        "!unzip -qq \"/content/drive/MyDrive/ITStudy/data/[└┌┐м╛ю└╠┴ЎAI]▒т╗ч┼╪╜║╞о─л┼╫░э╕о║╨╖∙_train.zip\""
      ],
      "metadata": {
        "colab": {
          "base_uri": "https://localhost:8080/"
        },
        "id": "4bLxGFHNB36P",
        "outputId": "184f560b-473a-4666-f082-773116524a45"
      },
      "execution_count": null,
      "outputs": [
        {
          "output_type": "stream",
          "name": "stdout",
          "text": [
            "/content/drive/MyDrive/ITStudy/04_DL\n"
          ]
        }
      ]
    },
    {
      "cell_type": "markdown",
      "source": [
        "# 2. 내용확인"
      ],
      "metadata": {
        "id": "j3gODZ7GCUNi"
      }
    },
    {
      "cell_type": "code",
      "source": [
        "# data 경로 저장\n",
        "data_dir = '/content/drive/MyDrive/ITStudy/data/'"
      ],
      "metadata": {
        "id": "osoB0Jx0DCE7"
      },
      "execution_count": null,
      "outputs": []
    },
    {
      "cell_type": "code",
      "execution_count": null,
      "metadata": {
        "id": "BF-NLGZTGvTR",
        "colab": {
          "base_uri": "https://localhost:8080/"
        },
        "outputId": "7e352cae-6eb7-4a20-da77-29384a15faad"
      },
      "outputs": [
        {
          "output_type": "stream",
          "name": "stdout",
          "text": [
            "Namespace(seed=1234)\n"
          ]
        }
      ],
      "source": [
        "# 환경 설정\n",
        "args = {\n",
        "    # random seed value\n",
        "    \"seed\": 1234\n",
        "}\n",
        "args = argparse.Namespace(**args)   # seed 필요하면 여기서 갖고오면 됨\n",
        "\n",
        "print(args)"
      ]
    },
    {
      "cell_type": "code",
      "source": [
        "args.seed"
      ],
      "metadata": {
        "colab": {
          "base_uri": "https://localhost:8080/"
        },
        "id": "BOTOp9WllY9L",
        "outputId": "0dddaf05-2b69-4dbb-e123-6d3e454291cb"
      },
      "execution_count": null,
      "outputs": [
        {
          "output_type": "execute_result",
          "data": {
            "text/plain": [
              "1234"
            ]
          },
          "metadata": {},
          "execution_count": 35
        }
      ]
    },
    {
      "cell_type": "code",
      "execution_count": null,
      "metadata": {
        "id": "nvjyruUlXtlR"
      },
      "outputs": [],
      "source": [
        "# random seed 설정\n",
        "random.seed(args.seed)\n",
        "np.random.seed(args.seed)\n",
        "tf.random.set_seed(args.seed)"
      ]
    },
    {
      "cell_type": "code",
      "execution_count": null,
      "metadata": {
        "id": "QCNQOED0QGGU"
      },
      "outputs": [],
      "source": [
        "args.corpus1 = os.path.join(data_dir, \"[└┌┐м╛ю└╠┴ЎAI]▒т╗ч┼╪╜║╞о─л┼╫░э╕о║╨╖∙_test.zip\")\n",
        "args.corpus2 = os.path.join(data_dir, \"[└┌┐м╛ю└╠┴ЎAI]▒т╗ч┼╪╜║╞о─л┼╫░э╕о║╨╖∙_train.zip\")"
      ]
    },
    {
      "cell_type": "code",
      "execution_count": null,
      "metadata": {
        "id": "imantRIuuVpv",
        "colab": {
          "base_uri": "https://localhost:8080/",
          "height": 35
        },
        "outputId": "7d8dcd40-b28a-4067-9d0f-927573b7a8ed"
      },
      "outputs": [
        {
          "output_type": "execute_result",
          "data": {
            "text/plain": [
              "'/content/drive/MyDrive/ITStudy/data/[└┌┐м╛ю└╠┴ЎAI]▒т╗ч┼╪╜║╞о─л┼╫░э╕о║╨╖∙_test.zip'"
            ],
            "application/vnd.google.colaboratory.intrinsic+json": {
              "type": "string"
            }
          },
          "metadata": {},
          "execution_count": 39
        }
      ],
      "source": [
        "args.corpus1"
      ]
    },
    {
      "cell_type": "code",
      "source": [
        "args.corpus2"
      ],
      "metadata": {
        "colab": {
          "base_uri": "https://localhost:8080/",
          "height": 35
        },
        "id": "TzjnplSZDT66",
        "outputId": "0c0c9eaf-7b4e-4323-dee0-94c00e65a01f"
      },
      "execution_count": null,
      "outputs": [
        {
          "output_type": "execute_result",
          "data": {
            "text/plain": [
              "'/content/drive/MyDrive/ITStudy/data/[└┌┐м╛ю└╠┴ЎAI]▒т╗ч┼╪╜║╞о─л┼╫░э╕о║╨╖∙_train.zip'"
            ],
            "application/vnd.google.colaboratory.intrinsic+json": {
              "type": "string"
            }
          },
          "metadata": {},
          "execution_count": 40
        }
      ]
    },
    {
      "cell_type": "code",
      "source": [
        "args    # 라이브러리처럼 사용"
      ],
      "metadata": {
        "colab": {
          "base_uri": "https://localhost:8080/"
        },
        "id": "NXqKBqqHl63c",
        "outputId": "da112e3f-fd0a-49e4-8aa6-785d11511d24"
      },
      "execution_count": null,
      "outputs": [
        {
          "output_type": "execute_result",
          "data": {
            "text/plain": [
              "Namespace(corpus1='/content/drive/MyDrive/ITStudy/data/[└┌┐м╛ю└╠┴ЎAI]▒т╗ч┼╪╜║╞о─л┼╫░э╕о║╨╖∙_test.zip', corpus2='/content/drive/MyDrive/ITStudy/data/[└┌┐м╛ю└╠┴ЎAI]▒т╗ч┼╪╜║╞о─л┼╫░э╕о║╨╖∙_train.zip', seed=1234)"
            ]
          },
          "metadata": {},
          "execution_count": 41
        }
      ]
    },
    {
      "cell_type": "code",
      "source": [
        "# test 내용 확인 - 맨 앞부터 50줄만\n",
        "with zipfile.ZipFile(args.corpus1) as z:\n",
        "    with z.open('test.csv') as f:\n",
        "        for i, line in enumerate(tqdm(f)):\n",
        "            if i >= 50 :\n",
        "                break\n",
        "            line = line.decode('utf-8').strip()     \n",
        "            print(line)"
      ],
      "metadata": {
        "colab": {
          "base_uri": "https://localhost:8080/",
          "height": 977,
          "referenced_widgets": [
            "eabb049cb72345ff93a19b5e85403121",
            "1dd33ac1b4974493aac6479a2dcc86af",
            "abd338f73172475093e53159ea6495b4",
            "c6f62bac78dd4da5bde2ea2b024bfe29",
            "0c3ff4baa40c4ff0b7c48f5dde43f6da",
            "9edc9f4623a641c4ab73b7a80c48e27f",
            "d026f518a0784fdb86a6fa28cfd785c8",
            "b50b41527da44af8b76c68b559e4a867",
            "6ddc13106b6845c79e530d9f7c684cd5",
            "697704b49f7a4aab8a3a42e75bd9482f",
            "547ddf1f883d4a83bd0c4a3f1e0bb233"
          ]
        },
        "id": "9y5LuPCDCT1h",
        "outputId": "d354c110-debe-4a44-baa8-ce9fa4e80604"
      },
      "execution_count": null,
      "outputs": [
        {
          "output_type": "display_data",
          "data": {
            "text/plain": [
              "0it [00:00, ?it/s]"
            ],
            "application/vnd.jupyter.widget-view+json": {
              "version_major": 2,
              "version_minor": 0,
              "model_id": "eabb049cb72345ff93a19b5e85403121"
            }
          },
          "metadata": {}
        },
        {
          "output_type": "stream",
          "name": "stdout",
          "text": [
            "ID,text\n",
            "0,\"\"\"[기자] 지난 24일 국회 국방위원회에서 현역 대령인 기무부대장이 송영무 국방장관이 계엄 문건을 심각하게 받아들이지 않았다고 폭로성 발언을 했는데요, 기무사령관까지 합세해 국방장관을 공격하면서 공방이 벌어졌었죠. 먼저 당시 화면을 보시겠습니다. [민병삼/기무사 100부대장/지난 24일/국회 국방위원회 : 위수령은 잘못된 것이 아니다.법조계에 문의해보니 최악의 사태를 대비한 계획은 문제가 될 것이 없다고 한다. 장관도 마찬가지 생각이다.] [송영무/국방부장관/지난 24일 : 완벽한 거짓말입니다. 대한민국의 대장까지 마치고 장관하고 있는 사람이 거짓말을 하겠습니까?] 자, 누구 말이 맞는지는 추가 조사를 통해 밝혀야 하겠지만요, 군이라는 조직에서 상관을 그것도 국방장관에 대해 공개적으로 하극상이 벌어진 건 선을 넘어도 너무 넘었다는 지적이 나옵니다. 급기야 대통령이 직접 교통정리에 나섰는데요, 대통령의 입장은 이렇습니다. 이번 사안의 본질은 왜 기무사가 촛불정국에 계엄 실행계획을 세웠는가를 철저히 밝혀내야 것이다. 따라서 국방장관이 계엄 문건을 심각하게 받아들이지 않는 말을 했는지 안 했는지가 핵심은 아니라는 거죠. 그러면서 이번 일을 계기로 기무사 개혁 필요성이 더 커졌다면서, &기무사 개혁안을 서둘러 제출하라&고 지시했습니다. 계엄 문건을 둘러싼 국방장관의 발언 진실 공방은 기무사 개혁안 보고를 받은 뒤에 책임의 경중을 가려 합당한 조처를 취하겠다고도 했는데요, 국방장관의 잘잘못을 따져봐야 한다고도 언급을 한 걸로 볼때 국방장관 경질 가능성도 배제하지 않은 것으로 풀이가 됩니다. 그렇다면 왜 기무사는 이런 사태까지 오도록 한 걸까요? 기무사가 국방 장관 발언을 물고 늘어지는 건 계엄 문건 파동으로 해체 위기에 몰린 기무사 조직 보호를 위한 저항이었다는 시각이 있습니다. 국방 장관이 계엄령 문건 자체를 큰 문제로 인식하지 않았다는 점을 부각시켜서 기무사에 초점이 맞춰진 이번 사안의 본질을 흐리게 하려는 의도가 있었던게 아니냐는 건데요, 실제로 국회 국방위원회에서는 계엄 문건의 위법성을 놓고 격론이 예상됐었는데요, 결과적으로 기무사 현역 대령이 장관 발언을 폭로하면서 계엄 문건 위법 논란은 잠시 수면 아래로 묻히게 됐는데요, 하지만 어떤 의도이었든지간에 공개적인 자리에서 그것도 대령이 장관에 대해 하극상을 할수 있는 조직이 기무사라는 걸 온 국민에게 보여줬다는 점은 실망스러울수 밖에 없다는 지적도 있는데요, 군 관계자는 이번 사태가 국방 장관의 리더십에는 큰 상처를 줬지만, 역설적으로 기무사 개혁의 필요성을 보여줬다고 말했습니다. 따라서 기무사는 국방부의 한 본부 조직으로 흡수되는 등 사실상 해체 수순을 밟을 가능성이 더 높아졌는데요, 계엄 문건 수사도 속도를 내고 있습니다. 기무사의 계엄령 문건 작성 당시 총책임자였던 소강원 참모장이 어제 피의자 신분으로 국방부 특별수사단에 출석했는데요, 민군 합동수사단도 공식 출범을 했는데요, 그러면서 계엄 문건 작성을 지시한 것으로 알려진 한민구 전 국방장관이 조만간 소환될 가능성이 커지고 있습니다. 친절한 뉴스였습니다.\"\"\"\n",
            "1,\"[IMG1] 한예슬-에릭 커플의 드라마 '스파이명월'의 시청률이 3회연속 하락세를 보이고 있다. 19일 시청률조사회사 AGB닐슨미디어리서치에 따르면 지난 18일 방송된 '스파이명월'의 시청률은 6.7%(전국 기준)를 기록했다. 이는 지난 12일 방송분 8.3%보다도 1.6%포인트 하락한 수치. '스파이명월'은 지난 11일 첫방송 뒤부터 내내 시청률 하락세를 나타냈다. 이날 방송에서는 한명월(한예슬 분)은 선배 간첩 리옥순(유지인 분)으로부터 지시를 받으며 강우(문정혁 분)를 미인계로 사로잡는 작전을 세웠다. 그러나 명월의 오랜 군인 생활로 인해 여성성이 부족해 실패로 돌아갔다. 또 명월이 앞으로 강우의 경호원으로 채용됨에 따라 앞으로 둘 사이의 좌충우돌 로맨스가 기대된다. 한편 SBS측은 \"\"5회부터는 '순풍산부인과'를 집필한 전현진 작가가 메인작가로 나선다\"\"고 밝혔다. 전 작가는 처음부터 대본을 쓴 김은령, 김정아 작가 등과 함께 작업. 스토리에 새로운 활력을 불어 넣을 것으로 보인다. 한편 19일 종영을 앞둔 '미스 리플리'는 15.0%, '무사 백동수'는 14.3%를 각각 기록했다. [이슈데일리 박상준기자]\"\n",
            "2,\"\"\"디지털 광장입니다. 운전대를 잡는 시간보다 구르고 넘어지는 시간이 더 많은 극한의 모터사이클 대회가 오스트리아의 한 광산에서 열려 눈길을 끌고 있습니다. [리포트] 그냥 걷기도 힘든 바위 더미와 진흙탕 길 위에서 고군분투 중인 오토바이 선수들! 달리는 것보다 여기저기서 구르고, 미끄러지고, 넘어지느라 정신이 없습니다. 그야말로 선수들의 고행을 엿보는 듯한 이 현장! 현지시간으로 지난 3일, 오스트리아에서 개최된 2018 &하드 앤듀로& 대횝니다. 전 세계 모터스포츠 경기 가운데 가장 악명 높고 거칠기로 손꼽히는 레이스인데요. 예선전을 통해 선별된 모터사이클 고수 500명에게만 참가 자격이 주어진다고 합니다. 하지만 폐쇄된 철광산 언덕과 덤프트럭이 다니던 계단식 비포장도로가 이 대회의 주요 코스이다 보니, 매년 완주에 성공한 선수도 다섯 손가락 안에 꼽을 만큼 드물다고 합니다. 올해도 계속된 이 극한의 레이스에선 영국의 &그레이엄 자비스&선수가 2시간 5분으로 가장 먼저 결승선을 통과해, 우승을 차지했습니다.\"\"\"\n",
            "3,정부가 최저 임금 인상 대책으로 자영업자와 영세사업자에게 지원하는 일자리 안정자금의 신청이 저조합니다. 국민연금공단이 사회보험료 지원 홍보에 나섰습니다. 이병문 기자가 종합했습니다. [리포트] 올해부터 적용되는 근로자 최저 임금은 시간당 7천530원. 최저 임금이 지난해보다 16.4% 크게 오르자 자영업자와 영세 사업자들은 최저 임금 상승을 감내하지 못해 어려움을 겪고 있습니다. 정부가 고용 인원 30명 미만 사업주를 대상으로 근로자 1인당 13만 원을 지원하기위해 국민연금공단과 고용노동부 고용센터 읍 면 동 주민센터 등에서 접수를 받고 있지만 지금까지 신청한 업체는 전북에서 200곳 미만에 불과합니다. 이는 월급이 190만 원을 넘으면 신청이 안 되고 고용 보험에 가입해야 하는 등 조건이 까다롭기 때문입니다. 이에 따라 국민연금공단은 10인 미만 소규모 사업장에 종사하는 월소득 190만 원 미만 근로자를 대상으로 고용 보험과 국민연금의 최대 90%를 지원하는 두루누리 지원 사업을 홍보했습니다.[김성주/국민연금공단 이사장 : 아직도 연금에 가입하지 못한 소위 사각지대에 500만 명 정도 될것으로 추정합니다. 지금같이 저임금 불안전 소득 상태에서는 가입할 수 없거든요.] 정부는 서비스업 근로자도 포함시키는 방안을 논의하고 있지만 영세 사업장의 현실을 정책에 더 반영해야 한다는 목소리가 높습니다. KBS 뉴스 이병문입니다.\n",
            "4,\"청와대가 1박2일간 숨가빴던 방북 일정을 마치고 돌아온 대북특별사절단의 후일담을 8일 공개했다. 특사단은 접견·만찬 당시 드러난 김정은 북한 노동당 위원장과 북한 최고위급들의 환대를 통해 “일이 잘 풀리겠구나”라고 느꼈다고 청와대는 밝혔다. ①첫날 숙소서 ‘김정은 접견’ 통보한 김영철 당초 특사단은 방북 첫날인 5일 김 위원장 접견이 어려울 것으로 예상했다. 북측이 과거 남북정상회담 조율차 방북한 특사들에게 최고지도자의 일정을 미리 알려주지 않아 애를 먹었던 경험이 있었던 탓이다. 청와대 관계자는 “김여정 노동당 중앙위 제1부부장이나 김영철 통일전선부장이 왔을 때 우리도 오찬, 만찬만 정해놓고 언제할지는 미리 알려주지 않았다”면서 “특사단도 오늘(5일)보다는 내일(6일)이 될거라 짐작했다”고 말했다. 하지만 기우였다. 특사단 숙소인 고방산 초대소에서 짐을 풀고나니 김 통전부장이 찾아왔다고 한다. 그는 자리에 앉자마자 특사단에 접견과 만찬 일정을 알려주면서 김 위원장이 참석한다고 전했다. 전례없는 파격의 시작이었다. ②솔직·대담한 김정은 스타일 조선노동당사 본관에서 열린 김 위원장과의 접견은 일사천리로 진행됐다. 청와대는 앞서 특사단이 북측과 합의한 ‘6개 항목’은 김 위원장과의 접견 자리에서 사실상 다 만들어졌다고 밝힌 바 있다. 당시 김 위원장은 한·미 연합군사훈련 등 민감한 현안 관련 해법으로 고심하던 특사단에게 먼저 “(여러분의) 어려움을 잘 알고 있다” “이해한다”며 대화를 주도했다. 특사단은 “북한으로서도 쉽지 않은 몇 가지 난제를 말끔히 풀어가는 과정에서 김 위원장의 리더십을 확인할 수 있었다”는 소감을 밝혔다고 청와대는 전했다. 수석대북특사인 정의용 청와대 국가안보실장이 문 대통령의 친서를 김 위원장에게 전달할 때도 마찬가지였다. 청와대 관계자는 “맞은편에 앉은 정 실장이 테이블을 돌아서 친서를 주려하자 김 위원장도 같이 일어서서 테이블 중간에 만나 친서를 주고받았다”고 말했다. ③김정은·리설주·김여정의 ‘세심한 환대’ 접견에 이어 이어진 만찬에서도 북측의 세심한 환대가 이어졌다. 약 1시간의 접견이 끝나고 만찬장으로 이동하는 과정에서도 파격의 연속이었다. 청와대 관계자는 “특사단이 10분 정도 쉬고 안내를 받아 옆방의 만찬장으로 가는데 그 방에서 나가자마자 만찬장 문 밖에서 김 위원장과 부인 리설주가 기다리고 있었다”며 “특사단 5명에게 한명한명 손잡고 따뜻하게 인사를 나눴다”고 말했다. 만찬 때는 평창 동계올림픽 때 방남해 낯이 익은 김 제1부부장도 “북한 음식이 입에 맞습니까”라며 특사단을 배려했다. 특사단 경호도 국빈급이었다고 청와대는 밝혔다. 청와대 관계자는 “예전에 평양을 가면 일대일 마크맨이 있었는데 그런 게 전혀 없었다”며 “특사단을 보호하면서도 부담을 주지 않는 방식으로 자유를 보장했다”고 설명했다. 또 “(숙소인) 고방산 초대소 한 층을 특사단이 다 쓰도록 비워줬는데 경호원이 그 층에는 아예 모습을 드러내지 않고 양쪽 입구만 지켜 자유로운 행동이 가능했다”고 덧붙였다. 초대소에는 국내 지상파와 뉴스채널 뿐 아니라 미국과 중국 방송을 골라볼 수 있었고, 네이버와 다음 등 국내 포털도 연결돼 있어 특사단이 뉴스를 자유롭게 검색할 수 있었다고 청와대는 밝혔다. 백상진 기자 sharky@kmib.co.kr\"\n",
            "5,\"서울시는 올해 2000억원을 포함해 2022년까지 민관이 참여하는 혁신성장펀드 1조2000억원을 조성한다. 이를 통해 해마다 1300여개 창업기업에 투자하고 6300여개 일자리를 창출한다는 계획이다. 서울시는 5일 이 같은 내용을 담은 ‘창업지원 종합계획’을 발표하고 “시가 1조원이 넘는 규모의 창업펀드를 조성하는 것은 이번이 처음”이라고 밝혔다. 혁신성장펀드는 4차산업혁명 기술창업, 창업 3년 미만 초기 벤처·창업기업, 재기창업자, 바이오·문화콘텐츠 분야 창업기업 등에 투자된다. 일단 올해는 서울시(서울산업진흥원)에서 200억원을 출자하고 중앙정부와 민간을 통해 총 2000억원 규모로 조성할 예정이다. 서울시는 또 서울 전역에 창업생태계 인프라를 지속적으로 확충해 5년간 8000개 스타트업을 지원한다. 이달 말 서울창업허브 별관동, 11월엔 서울바이오허브 연구실험동(신관)이 개관한다. 내년에는 홍릉 BT-IT센터가 문을 열고, 2020년 동북권창업센터(첨단제조업), 2021년 마곡 공공산업지원시설(첨단D) 등이 예정돼 있다. 이밖에도 중국의 하드웨어 스타트업 지원기관인 ‘대공방(大公坊)’, 아시아 창업기업의 미국 진출을 지원하는 미국 I-LAB 등을 유치해 서울시 창업기업들에 투자연계를 도모한다. 김남중 기자\"\n",
            "6,\"\"\"성폭행 의혹을 받는 안희정 전 충남지사가 오늘(8일) 오후에 예정됐던 기자회견을 갑자기 취소했습니다.추가 성폭행 폭로와 검찰 소환을 앞두고 공개적인 입장 발표에 대한 부담감 때문으로 보이는데 거센 비판이 쏟아지고 있습니다.황정환 기자가 보도합니다. [리포트] 안희정 전 충남지사의 기자회견이 열릴 예정이었던 충남도청 100여 명의 취재진과 시민단체 관계자 등이 몰렸습니다. 기자회견 2시간 전, 갑자기 안 전 지사 측은 문자 메시지로 취소를 통보해 왔습니다.[한준섭/충청남도 공보관 : 검찰에 출석해 수사에 성실하게 협조하는 것이 국민 앞에 속죄 드리는 우선적인 의무라는 판단에 따라...] 검찰에는, 한시라도 빨리 자신을 소환해달라고 했습니다. 압수수색 등 예상보다 빠르게 진행되는 검찰수사와 추가 성폭행 폭로가 부담으로 작용했다는 분석이 나오고 있습니다. 성폭행 파문이 불거진 뒤 잠적과 SNS를 통한 사과, 기자회견 취소 등. 안 전 지사가 보여주고 있는 대처 방법에 대한 비판도 쏟아지고 있습니다.[김태신/충청남도 공무원노조 위원장 : 기자회견조차 일방적으로 파기하고 또 숨어버렸습니다. 참으로 비겁합니다.] 이런 가운데 안 전 지사의 지난 대선 경선캠프에서도 성폭력이 만연했다는 일부 캠프 참가자들의 입장 발표가 나오기도 했습니다. KBS 뉴스 황정환입니다.\"\"\"\n",
            "7,\"소지섭♡손예진 ‘지만갑’의 아역 김지환, 또 다른 숨은 주인공영화 ‘지금 만나러 갑니다’에서 ‘우진’과 ‘수아’의 아들 ‘지호’ 역을 맡아 천진난만한 모습과 순수한 연기를 선보인 신예 아역 김지환에 대한 호평이 쏟아지고 있다.‘지금 만나러 갑니다’는 세상을 떠난 ‘수아’(손예진)가 기억을 잃은 채 ‘우진’(소지섭) 앞에 나타나면서 시작되는 이야기를 그린 영화다. 대한민국을 대표하는 두 남녀배우 소지섭과 손예진의 감성 케미스트리, 풍성한 캐릭터, 아름다운 영상과 추억을 소환하는 볼거리로 개봉과 동시에 만장일치 뜨거운 호평을 불러일으키고 있는 영화 ‘지금 만나러 갑니다’에서 소지섭과 손예진의 아들 ‘지호’ 역을 맡은 신예 아역 김지환이 풍부한 감성과 자연스러운 연기력으로 관객들의 마음을 사로잡고 있다.치열한 오디션 경쟁률을 뚫고 ‘우진’과 ‘수아’의 하나뿐인 아들 ‘지호’ 역에 발탁된 신예 아역 김지환이 풍부한 감성과 사랑스러운 연기로 관객들을 사로잡으며 2018년 주목해야 할 명품 아역 배우의 탄생을 예고한다. ‘지금 만나러 갑니다’에서 아빠 ‘우진’과 함께 씩씩하게 살아가며 세상을 떠난 엄마 ‘수아’를 간절히 기다리는 아들 ‘지호’를 연기한 김지환은 비가 오면 돌아오겠다는 약속을 지킨 엄마와 함께하는 것이 그저 행복하기만 한 아이의 천진난만한 모습부터 엄마를 오래도록 붙잡아두고픈 순수한 마음까지 완벽히 소화했다.수많은 아역 배우들 중 소지섭, 손예진과 이장훈 감독의 만장일치로 선택된 김지환은 소지섭-손예진과의 자연스러운 감정 호흡은 물론, 보는 이들의 마음을 울리는 눈물 연기까지 첫 데뷔작임에도 불구하고 탁월한 연기력으로 극의 몰입도를 높인다. 이에 이장훈 감독은 “오디션 영상을 본 뒤 직접 만나봤으면 좋겠다고 생각했고, 눈물이 그렁그렁 고인 채로 대사를 읽어 나가는 모습에 완전히 반했다”고 캐스팅에 대한 만족감을 전했고, 함께 호흡을 맞춘 소지섭과 손예진 또한 “100% 이상 해주었다”, “순수한 모습, 전형적이지 않은 연기가 인상 깊었다”고 전한 바 있다. 세상을 떠난 후 다시 돌아온 아내와의 만남이라는 신선한 설정에 소지섭, 손예진의 감성 케미를 더해 극장가를 촉촉하게 채워줄 영화 ‘지금 만나러 갑니다’는 전국 극장에서 절찬 상영중이다.동아닷컴 정희연 기자 shine2562@donga.com / - Copyrights ⓒ 무단 전재 및 재배포 금지 -\"\n",
            "8,\"이이경(30)과의 열애를 인정한 배우 정인선(28)이 화제인 가운데 과거 이력도 주목받고 있다, 정씨는 1996년 KBS1 ‘당신’으로 데뷔해 KBS2 ‘매직키드 마수리’를 통해 이름을 알리기 시작했다. ‘순풍산부인과’에서도 ‘미달이’와 같은 반 친구로 등장했다. 이어 MBC ‘위기의 남자’, EBS1 ‘네 손톱 끝에 빛이 남아있어’, MBC ‘영웅시대’, tvN ‘빠스껫 볼’, JTBC ‘12년만의 재회: 달래 된, 장국’ 등의 TV 방송에 출연했다. 최근에는 JTBC ‘으라차차 와이키키’에서 한유아 역할을 맡았다. 영화계에서도 활약했다. 특히 영화 ‘살인의 추억’에서 수로를 뒤지는 송강호에게 “거기 뭐 있어요?”라고 말을 걸던 여자 초등학생 역을 맡아 단역임에도 ‘엔딩 여자애’로 이름을 알렸다. 또 ‘안녕! 유에프오’ ‘카페 느와르’ ‘도시의 밤’ ‘무서운 이야기2’ ‘한공주’ ‘경주’ ‘오픈 유어 아이즈’ ‘천당의 밤과 안개’ 등에 주연, 조연으로 나서기도 했다. 정씨는 2013년 한 매체와의 인터뷰에서 “연기를 시작하게 된 건 오빠 때문”이라며 “오빠가 하는 모든 걸 다 하고 싶어 오빠가 연기학원에 등록할 때 나도 등록해달라고 부모님께 고집을 피웠다”고 했다. 또 “술을 많이 마시는 편은 아니지만 술자리를 좋아하며, 소주는 잘 못 마시고 소맥을 마시는 편”이라고도 말했다. 정씨의 인스타그램에는 일상 모습과 출연 작품에서 연기하는 모습 등 다양한 사진이 게시돼 있다. 2016년 11월에 게시된 사진과 영상도 확인할 수 있어 광화문 촛불시위에 참가했던 것으로도 보인다. 한편 이이경과 정인선 두 배우는 지난해 지인 소개로 만나 연인 관계로 발전했다. 교제 중 우연히 ‘으라차차 와이키키’에 섭외돼 출연하고 있다. ‘으라차차 와이키키’는 17 오후 11시 마지막 20회를 방송한다. 이이경의 소속사 HB엔터테인먼트 관계자는 17일 “두 배우가 1년째 만나고 있다”고 밝혔다 . 정인선의 소속사 씨제스엔터테인먼트도 같은 입장을 밝힌 것으로 알려졌다. 온라인뉴스부\"\n",
            "9,\"“불투명한 회계 문제가 원인 국책硏 이제 경각심 가져야” 청와대도 압력설 전면 부인… 한국당 “文정부 블랙리스트” 성경륭(사진) 경제·인문사회연구회(경사연) 이사장은 8일 문재인정부의 미국 존스홉킨스대 국제관계대학원 산하 한미연구소(USKI) 구재회 소장 교체 외압 논란과 관련, “구 소장 교체는 경사연 이사회의 결정 사안으로 (교체) 결론을 바꾸기 어렵다”고 말했다. 성 이사장은 국민일보와의 통화에서 “그 사안(구 소장 교체)은 대외경제연구원(KIEP)이 종합 판단해 결론을 내리고 경사연 이사회에 보고해 승인된 것”이라며 “결론은 이미 정리된 상태”라고 말했다. 구 소장 교체 이유에 대해서는 불투명한 회계 문제를 꼽았다. 성 이사장은 “미국(USKI)과 한국(KIEP) 사이에 어그리먼트(협정)가 분명하게 설정돼야 한다. 그런데 설립 후 오랜 기간이 지나고 정부 지원 금액이 늘어나는 과정에서 명확하게 정리되지 않은 게 있어 보인다”고 말했다. 이어 “USKI는 독자적으로 활동하는 다른 국책연구기관과 달리 국제협력 기관이기 때문에 매우 특별한 케이스”라며 “우리가 USKI에 요구하는 자료들, 사업계획서와 예산 결산 등에서 클리어하지 않은 부분이 있다”고 설명했다. 경사연은 정부출연 연구기관 관리·감독을 총괄하는 국무총리실 산하 기구다. 경제·사회·인문 분야 국책연구기관장은 경사연 이사회를 통해 임면된다. 경사연은 2006년 USKI 설립 이후 12년간 정부 지원금 등에 대한 회계·예산 자료를 분석해 조만간 구 소장 교체 배경을 발표할 예정이다. 성 이사장은 문재인정부가 전임 정부에서 임명된 국책연구기관장에게 사퇴 압력을 가하고 있다는 의혹도 반박했다. 성 이사장은 “과거 정부는 인위적으로 (국책연구기관장을) 조사해서 물러나게 했지만 이번엔 그렇게 된 게 없다”며 “다 임기가 돼서 그만두거나 본인이 대학에 돌아가겠다는 등의 이유로 그만둔 것”이라고 말했다. 이어 “현재 전임 정부에서 임명한 국책연구기관장도 일부 남아 있다. 문재인정부가 자기 사람을 심으려고 자르거나 블랙리스트를 만들었다는 얘기는 전혀 사실과 맞지 않다”고 강조했다. 국내 국책연구기관 역시 개혁이 필요하다는 뜻도 밝혔다. 성 이사장은 “한미연구소의 사례를 보고 국내 연구기관도 경각심을 가져야 한다”며 “식사비 등을 비롯한 내부 예산 집행, 김영란법 준수 여부, 공정한 채용, 여성 연구원 존중 등 혁신 과제를 내면화하고 정책될 때까지 노력해야 한다”고 말했다. 청와대도 압력설을 전면 부인했다. 청와대 고위 관계자는 “한미연구소는 연간 정부 지원금이 20억원 정도 들어가는 작은 곳”이라며 “한미연구소 인사 문제는 청와대 내부 논의 대상에 오른 적이 없다”고 밝혔다. 하지만 장제원 자유한국당 수석대변인은 “문재인정권이 집권 1년도 채 안 돼 블랙리스트 의혹을 낳고 있으니 그 대담성이 놀라울 따름”이라며 “머지않아 진실이 밝혀질 것”이라고 주장했다. 로버트 갈루치 한미연구소 이사장은 지난 7일 언론 인터뷰에서 “한국 정부가 구 소장 해임 압박을 하고 있다”며 “학문의 자유에 대한 부적절한 개입”이라고 비판했다. 강준구 이종선 기자 eyes@kmib.co.kr\"\n",
            "10,\"원 의원 홈페이지에서 ‘대림동민’은 “난 진보쪽에 가깝지만 원 의원의 그동안의 언행을 봤는데 정말 보수답다”며 “한나라당에도 당신같은 진짜보수들이 들어서야하는데 반공이데올로기가 보수인 줄만 아는 꼴통 극우들이 한나라에 있는 한 당신만 힘들 것 같다. 앞으로 지켜보고 응원하겠다”고 말했다. 반면 ‘유권자’는 “원 의원이 자칭 젊은 보수라는데 그 젊은 보수의 정체성이 무엇인지 명확히 밝혀야 한다”며 “그렇지 않고 사안마다 왔다갔다 하면서 젊은 보수나 찾는다면 소위 당내에서 사라져 달라고 요구한 강경 보수파보다도 원 의원은 더 기회주의적이고 낡은 사람이라고 인식될 수 잇다”고 원 의원을 비판했다. 또 ‘대구에서’는 “시스템클럽에 들어가서 많은 글을 읽어 보았으나 지만원씨와 토론을 하는 건 시간 낭비라는 생각이 앞선다”고 반대의 뜻을 전했다. 한편, 원희룡 의원의 이왕재 보좌관은 “양쪽이 공개토론에 대해 원칙적으로 합의한 상태”라며 “과 〈CBS〉에서 연락이 왔고 이번 주중으로 생방송으로 진행하게 될 것”이라고 밝혔다. 이 보좌관은 “두 사람이 보수주의를 표방하고 있지만 이념적 지향이 상이한 만큼 불꽃 튀는, 재미있는 토론이 될 것”이라고 덧붙였다. ▶ 원희룡 의원 블로그 글 전문보기 온라인뉴스부\"\n",
            "11,\"배우 최민용이 자신의 소신이 가득한 근황을 전한다.15일(목) 방송되는 MBN '리얼마켓토크, 카트쇼'(이하 '카트쇼')는 '홀로남' 특집으로 꾸며진다. 한 예능 프로그램에서 호흡을 맞추며 돈독한 우정을 쌓은 배우 최민용과 가수 에릭남이 출연, 보고있으면 빠질 수 밖에 없는 마성의 매력을 발산하며 남남케미를 차랑했다는 후문이다.이날 방송에선 긴 공백기를 가진 최민용의 근황이 공개돼 모두의 관심이 집중 됐다. 그는 \"\"10년 정도 활동을 쉬었더니 나를 볼때마다 사람들이 근황만 물어본다. 나는 근황의 아이콘이다\"\"라 운을 떼 모두를 폭소케 했다. 이어 그는 \"\"그중 2년은 사람에게 이로운 환경에서 생활을 하고 싶어 산 속에 흙으로 된 작업실을 지었다\"\"고 밝혀 모두를 놀라게 했다. 또한 최민용은 \"\"내가 유일하게 자신 있는 요리가 백숙이다. 그래서인지 산 속 생활을 하고 있을 때 지인들이 내 생사를 확인한다는 핑계로 많이 찾아왔다\"\"고 폭로해 현장을 웃음 바다로 만들었다. 한편, 최민용은 통조림 등 유통기한이 긴 식품에 많은 관심을 보여 주위 사람들의 호기심을 자극했다. 그는 \"\"만약의 상황을 대비해 식량을 비축하고 있다. 유통기한이 보통 수 년이 되기 때문에 좋다\"\"며 이유를 전했다. 이어 그는 코너 속의 코너 '최민용의 비상식량'을 진행, 뜨거운 물만 있으면 간편하게 먹을 수 있는 제품을 직접 조리해 웃음 짓게 만들었다.이를 지켜보던 에릭남은 \"\"최민용 형을 작년부터 알게 됐는데, 자신의 삶에 확고한 신념이 있다. 옆에서 지켜보며 많은 것을 느끼고 있다\"\"며 최민용을 치켜세웠다. 이에 이수근은 \"\"그렇지만 배우고 싶지는 않죠?\"\"라는 촌철살인의 멘트로 현장을 초토화시켰다.'카트쇼' 12회는 15일(목) 밤 8시 30분에 방송 된다.디지털콘텐츠팀 multi@\"\n",
            "12,\"강현욱 전북지사가 26일 “새만금사업이 표류하면 즉각 도지사직을 물러나겠으며, 도민들과 함께 끝까지 투쟁할 것”이라고 공식 천명했다. 강 지사는 이날 오후 2시 전북도청앞 광장에서 열린 ‘새만금 중단 획책 전북죽이기 규탄 범전북도민 총궐기대회’에서 “정부가 새만금 조정권고안을 받아들여 공사가 중단되면 대재앙을 부르고, 전북의 꿈도 꺾일 것”이라며 “그 책임은 반드시 정부가 져야 한다”고 주장했다. 이날 행사에서 참석자들은 전주시청까지 약 1.5㎞ 구간을 시가행진하며 새만금 추진을 요구했다. 반면, 새만금연안 피해주민들은 법원의 새만금 조정권고안 수용을 촉구했다. 새만금연안 피해주민 대표 10명은 이날 도청기자실에서 “새만금 방조제 공사가 진행되면서 방조제 밖인 위도·격포·곰소 등지의 어장들이 계속 황폐화하고 있고 어민들의 빚도 늘어나고 있는 실정”이라고 주장했다. 어민들은 또 “600~700만원 등 1년 생계비도 못미치는 보상금에 삶의 터전을 빼앗긴 것을 뒤늦게야 깨달았다”며 “만경강과 동진강의 농경지에도 침수피해가 늘고 있는 만큼, 총체적 부실공사인 새만금사업을 중단해야 할 것”이라고 촉구했다. 전주/ pik007\"\n",
            "13,\"한 사람이 있다. 그는 초대 대법원장의 손자다. 전두환 정권 시절 민정당 국회의원 8년, 노태우 정부 시절 장관과 청와대 수석. 민자당 국회의원을 지내다 비리혐의로 1994년 사직. 2004년 구민주당의 비례대표 국회의원. 2011년 새누리당 비상대책위원, 2012년 박근혜 후보 캠프 선대위원장. 대단한 스펙이고, 놀라운 생명력이다. 김종인 전 의원을 두고 하는 말이다. 며칠 전 어떤 칼럼에서 남재희 전 장관은 '김종인 프레임'이란 표현을 썼다. 그가 헌법 119조 2항에 경제민주화란 '낱말'을 집어넣었다고 알려져 있기 때문이다. 그런데 그가 경제민주화의 원조라는 인식이 과연 합당한 것일까? 그가 헌법 조항에 '경제의 민주화'란 단어를 넣은 건 맞다. 하지만 사실 그 이전 헌법에도 경제민주화를 담은 조항은 있었다. 쿠데타로 집권한 5공 헌법에도 '경제 민주화' 들어 있어 1948년의 제헌헌법 제84조에 이런 조항이 있었다. \"\"대한민국의 경제질서는 모든 국민에게 생활의 기본적 수요를 충족할 수 있게 하는 사회정의의 실현과 균형 있는 국민경제의 발전을 기함을 기본으로 삼는다. 각인의 경제상 자유는 이 한계 내에서 보장된다.\"\" 이 조항은 비록 문구가 조금 바뀌긴 했지만 1963년 개정이나 심지어 쿠데타로 집권한 5공 헌법에도 들어 있다. 1987년에 개정된 헌법의 제119조 제2항은 이렇다. \"\"국가는 균형 있는 국민경제의 성장 및 안정과 적정한 소득의 분배를 유지하고, 시장의 지배와 경제력의 남용을 방지하며, 경제주체 간의 조화를 통한 경제의 민주화를 위하여 경제에 관한 규제와 조정을 할 수 있다.\"\" 이전과 비교할 때 그리 나아진 것 같지 않다. 키워드가 사회정의에서 경제민주화로 바뀐 것은 내용상 후퇴다. 요컨대 없던 걸 새로 넣은 것도 아니고, 더 강화한 것도 아니다. 게다가 헌법개정 당시 특위의 야당 간사를 지낸 박찬종 전 의원은 경제민주화 조항이 이미 야당의 초안에 담겨 있었고, 김 전 의원이 속한 민정당의 반대를 꺾고 관철시켰다고 한다. 따라서 헌법 119조 2항을 근거로 김종인 전 의원에게 경제민주화 아젠다의 소유권이 있다고 보는 것은 옳지 않다. 김 전 의원이 경제민주화의 전도사로 알려지게 된 배경에는 노태우정권 당시 재벌들을 상대로 한 비업무용 부동산 강제매각 조치를 주도했다는 사정이 있다. 노태우정권이 재벌들에게 베푼 특혜가 얼마인데 이것만 따로 떼어내 경제민주화를 위해 노력했다고 하는 건 납득하기 어렵다. 김 전 의원이 모름지기 경제민주화를 필생의 염원으로 생각하고 있다면 줄기차게 이걸 위해 노력했어야 한다. 하지만 10년 만인 17대 국회에서 다시 법안발의 권한을 쥐었으나 그가 경제민주화의 입법을 위해 분투했다는 소식을 들은 기억이 없다. 더 심각한 것은 그의 접근방식이다. 그가 원하는 것은 대통령의 귀를 잡고 강압적으로 밀어붙이는 것이다. 일종의 포고령(decree) 정치다. 경제민주화도 결국 권력관계의 민주화다. 다시 말해 재벌 대기업의 권력을 제도적으로 제어하는 것이고, 그것은 결국 대항권력을 육성함으로써 실질적인 효과를 발휘할 수 있다는 것이다. 강압에 의한 민주화는 형용모순이다. 이런 사람에게 경제민주화 이슈 빼앗기다니 김종인 전 의원은 '경제민주화라는 게 무엇을 의미하는지 잘 이해를 못하는' 사람들을 공천한 것이 못마땅해 비상대책위원 자리를 내놓았다. 그런 그가 달라진 것은 아무 것도 없는데 다시 박근혜 의원 곁에 섰다. 해명 한줄 없다. 줄·푸·세와 경제민주화가 큰 틀에서 같다고 하는 박 의원과 더불어 개혁을 도모한다니 더욱 가당찮다. 게다가 최근 자신은 재벌개혁에 대해 말해 본 적이 없다고 하니 그가 말하는 경제민주화가 무엇을 뜻하는지 궁금해진다. 오죽하면 남 전 장관이 \"\"머리를 한대 맞은 듯 멍한 느낌\"\"이라고 할까. 이런 사람에게 경제민주화의 이슈 오너십을 빼앗기고, 어영부영하는 민주당이나 드잡이하는 통합진보당을 쳐다보면 답답함을 넘어 화가 치민다. 2012년 여름, 참 덥다. 이철희/두문정치전략연구소 소장\"\n",
            "14,그것은 미국의 자원이 이미 다른 곳에 묶여있는 때 큰 기대를 반영하는 것 같다. 의회는 확실히 그런 대규모 배치의 함축적 의미를 검토하는데 주요 역할을 할 것이다. 그것은 또 매우 적절한 문제를 제기한다. 만일 당신이 우리의 도움이 필요하다면 우리에게 당신의 적이 누구인지 분명히 말해달라는 것이다. 나는 6자회담 틀내의 미래 논의에서 2개의 한국이 평화적으로 통일을 이룰 때까지 서울과 평양의 상호 대표부 개설을 과거 동서독의 경우와 비슷하게 고려할 것을제안한다.한편 우리와 동맹국 한국은 함께 단결해야 한다.어떤 잠재적인 의사소통의 오류도 평양의 계략에 빠질 뿐이다. ◇ 랜토스 = 나는 6자회담이 재개될 것으로 본다.미국은 북한을 존중하고 진심으로 북한의 협상자들을 다뤄야 한다. 북한이 길 끝에 미국과의 새롭고 다면적인 관계가 있다는 것을 느끼도록 해야 한다.그러기 위해서는 대통령이 6자회담에 실질적협상권을 갖고 대통령을 대신해 말할 수 있는 사람을 6자회담에 보내야 한다. 6자회담은 중국과 한국이 과거의 실수로부터 배우지 않는 한 성공하지 못할 것이다.북한 에너지 수요의 90%를 지원하는 중국이 북한에 대한 경제적 일반적 지렛대를 행사하지 않는 한 포괄적 합의를 얻지 못할 것이라는 강한느낌이 든다. 한국과의 동맹은 강력하다.그러나 우리는 북핵문제에 대해 서울과 공동의 전선을 다시 만들어야 한다.평양에 제공되는 다양한 형태의 경제지원은 북한이 현실적인 합의를 위해 갖는 유인책을 상당히 감소했다.\n",
            "15,\"\"\"다음은 연예계 소식을 알아보는 연예수첩 시간입니다. 강승화 아나운서 자리에 나와 있습니다. 대한민국에서 ‘맛집’을 가장 많이 알고 있을 것 같은 분이시죠? 개그우먼 이영자 씨 소식, 잠시 후에 전해드리고요. 어제 많은 이들의 축복 속에서 인생 2막을 시작한 한채아 씨 소식부터 바로 만나보시죠![리포트] 배우 한채아 씨와 차범근 전 축구국가대표팀 감독의 셋째 아들 차세찌 씨가 어제 오후 결혼식을 올렸습니다. 지난해 3월, 차세찌 씨와 열애중임을 깜짝 고백했던 한채아 씨.[한채아 : 기자님들 앞에서 제가 용기 내서 말씀을 올리겠습니다. 열애설 났던 그분과 좋은 만남을 가지고 있는 게 사실입니다.] 이후, 공개 연애 1년여 만에 한채아 씨는 SNS를 통해 결혼 계획과 함께 임신 사실을 밝혀 팬들을 놀라게 했었죠? 서울의 한 호텔에서 진행된 두 사람의 결혼식은 비공개로 치러졌는데요. 한채아 씨와 같은 소속사 식구인 윤종신 씨가 축가를 맡아 새 출발하는 두 사람을 축복해 줬다고 합니다. 결혼식을 마친 후 한복 디자이너 박술녀 씨가 SNS를 통해 공개한 새신부 한채아 씨의 모습! 무척이나 행복해 보이는데요~ 임신 중인 한채아 씨의 건강을 감안해 신혼여행 없이 우선 휴식과 안정을 취할 예정이라는데요. 출산 이후에도 연기 활동을 이어갈 계획이라는 한채아 씨, 결혼을 진심으로 축하합니다~\"\"\"\n",
            "16,\"국민은행이 전체 인력의 10%에 해당하는 약 2500명의 직원을 명예퇴직시키기로 했다. 16일 국민은행 관계자는 “최근 명예퇴직 규모를 최대 2500명 선으로 잡고, 국민·주택·국민카드 지부 등 3개 노조의 통합노조가 출범하는 오는 24일부터 노조 쪽과 인력 구조조정에 대한 협의에 착수할 방침”이라고 말했다. 국민은행은 정규직 직원(1만5천여명)과 비정규직 직원(1만3천명)을 각각 10% 정도씩 명예퇴직시킬 계획이다. 명예퇴직 시기와 이에 따른 보상금 지급 내용 등은 아직 확정되지 않았으나, 통합노조와의 노사 합의 뒤 이르면 이달 말께부터 명예퇴직 신청을 받을 것으로 예상된다. 또 명예퇴직자에게는 최소 18개월에서 최대 24개월치 월급에 해당하는 명예퇴직 위로금이 추가로 지급될 것으로 보인다. 국민은행 관계자는 “2001년 통합 국민은행 출범 이후 그동안 한차례도 대규모 인력 구조조정을 실시하지 않았다”며 “다만 명예퇴직 규모가 목표치에 미치지 못하더라도 직원들을 강제적으로 내보내기는 어려운 것으로 본다”고 말했다. 이에 대해 국민지부 노조 관계자는 “이번 명예퇴직은 한해 300~400명 선에서 이뤄지던 이전의 명예퇴직과는 규모와 성격 자체가 다르다”며 “부실경영 책임을 직원들에게 전가하는 명예퇴직은 부당하다”고 지적했다.\"\n",
            "17,\"배우 김옥빈이 ‘미투(성폭력 피해 고발) 운동’을 지지하는 ‘위드유 운동’에 동참했다. 김옥빈은 6일 자신의 인스타그램에 “with you, 지지합니다. 미투 운동이 단발성 이슈와 처벌로 끝나지 않고 예방과 교육으로 이어지는 장기적인 플랜을 원합니다”라는 글과 함께 미투(ME TOO) 문구가 적힌 그림을 게재했다. 해당 게시물을 접한 네티즌들은 “김옥빈, 너무 멋지다” “지지하고 연대하자” “문화 예술계에 종사하는 사람으로서 목소리 내기 어려웠을텐데 정말 대단하다. 나도 함께 지지하겠다”는 등의 반응을 보였다. 최근 미투 운동이 연예계까지 확산되며 배우 조민기, 조재현, 오달수, 최일화 등이 차례로 성추행 및 성폭행 의혹을 받고 활동을 중단했다. 한편 김옥빈은 현재 OCN 토일드라마 ‘작은 신의 아이들’에 출연하고 있다. 전형주 객원기자\"\n",
            "18,\"‘다찌마와리’ 에서 ‘쉬리’ 까지 시대별로 본 충무로 액션영화의 공식 한국 액션영화가 ‘으악새’라는 이름으로 불린 때가 있었다. 배우들이 한결같이 ‘으악’ 소리를 내며 뒤로 자빠진다고 해서 붙여진 별칭이다. 약간의 경멸기가 어린 별명에도 불구하고, 액션영화는 수많은 관객들을 스크린 앞으로 불러들이며 1960년대 한국영화의 황금기를 이끈 주요 장르의 하나로 자리잡는다. 케이블티브이 액션 전문 채널 의 창사 4주년 특집 다큐멘터리 2부작은 바로 이 ‘으악새’ 전설로부터 출발한다. 한국 액션영화가 장르의 규칙을 만들어가며 한국 영화의 주류로 등장했다 쇠퇴하기까지, 이어 80년대 후반 다시 중흥기를 맞이하기까지의 역사를 한 눈에 들여다보게 한다. 박노식과 독고성, 박상민과 최민수 등 한국 액션영화 40년을 수놓아온 숱한 별들의 이야기를 통해서다. 7일과 8일 밤 10시 각각 1시간씩 방영된다. 1부 ‘으악새와 다찌마와리’는 한국 액션영화의 뿌리와 역사를 되돌아본다. 시간적으로는 60년대부터 80년대 초반까지다. 이 시기 한국 영화는 ‘으악새’라는 이름에 더해 난투를 뜻하는 ‘다찌마와리’라는 일본식 이름으로도 불렸다. 뒷골목 건달들의 난투극이 액션의 주된 형식을 이뤘기 때문이다. 의 박노식은 이 시기 한국 액션영화사에서 가장 위대한 배우로 손꼽힌다. 무자비한 악행을 일삼는 깡패들에 맞서 쇠주먹을 휘두르는 그의 분노에 찬 표정 연기는 당대 관객들의 심장 박동수를 한껏 높여 놓았다. 70년대 이후론 오지명과 이대근 등이 ‘다찌마와리’ 계보를 잇는 액션스타였다. 이 시기 빠져선 안될 이름으로는 정창화 감독이 있다. 한국과 홍콩을 오가며 무협 액션영화의 지평을 넓힌 인물이다. 임권택과 오우삼 감독이 모두 그의 밑에서 액션영화의 법칙을 공부한 제자들이다. 그가 홍콩에서 만든 은 73년 4월 미국에서 개봉해 과 를 누르고 전미흥행 1위를 기록하기도 했다. 쿠엔틴 타란티노는 이 영화를 자신이 가장 좋아하는 영화 10편의 하나로 꼽으며, 최근작 에 일부 장면을 차용한 바 있다. 한국 배우들의 홍콩영화 진출도 붐을 이뤘다. 이소룡의 유작 의 속편 에서 이소룡 역할을 한 거룡과 청룽의 에서 청룽의 맞수로 나오는 발차기의 달인 황정리 등이 모두 한국 출신이다. 이들은 화려한 손놀림 위주인 홍콩 액션영화에서 태권도의 현란한 발차기로 독특한 무협액션의 경지를 선보였다. 2부 ‘한국 액션의 새로운 도전’은 한국식 액션의 장을 연 임권택 감독의 에서 시작한다. ‘다찌마와리’를 넘어 시대의식과 역사성을 녹여내며 한국 액션영화의 새로운 공식을 만들어낸 작품이다. 한국 액션영화는 이후 홍콩 느와르식 액션에 한국 특유의 조폭 코미디를 결합시켜 한국형 조폭코미디라는 장르를 내놓게 된다. 등 액션과 멜로, 시대극적 특성 등을 다채롭게 뒤섞어 한국 액션영화의 새로운 가능성에 도전한 작품들도 소개한다. 정두홍 무술감독과 싸이더스 차승재 대표, 영화평론가 심영섭씨 등 전문가 인터뷰도 준비된다. 와 의 강제규 감독은 “액션이라는 장르를 가지고 다양하게 활용할 수 있는 주체들이 많이 나와야 한다”고 강조한다. 이 프로그램을 기획한 조대현 책임프로듀서는 “한국 액션영화의 과거를 통해 한국 액션영화의 현재와 미래를 볼 수 있는 기회가 될 것”이라고 말했다.\"\n",
            "19,\"지금 우리는 지식을 쉽게 얻을 수 있는 시대를 살아가고 있습니다. 인터넷이나 스마트폰 검색을 통해 원하는 지식과 정보를 쉽게 얻을 수 있습니다. ‘네이버’가 우리나라에서 가장 큰 인터넷 포털 사이트로 급성장한 데는 쓰는 사람들끼리 궁금한 것을 묻고 답하는 ‘지식인’ 서비스가 큰 도움이 됐습니다. 그러나 세상에는 지식 가운데 가장 중요한 지식을 모르는 사람이 많이 있습니다. 가장 중요한 지식이 무엇이겠습니까. 하나님을 아는 지식입니다. 왜 하나님을 아는 지식이 가장 중요할까요. 무엇보다 우리를 구원에 이르게 하기 때문입니다. 무엇보다 이 지식이 세상보다 귀한 생명을 구하는 지식이기 때문입니다. 본문 4장 6절에는 “내 백성이 지식이 없으므로 망하는도다”라는 말씀이 있는데 이는 하나님을 아는 지식이 없으면 멸망하게 된다는 것을 엄히 경고하고 있는 말씀입니다. 사람이 도움을 받으려면 하나님을 알아야 합니다. 하나님은 창조주요 주권자이시기 때문에 구원도 하시며 멸하기도 하시는 분이십니다(약 4:12). 그러므로 하나님을 알지 못하는 사람에게는 구원이 없습니다. 잠언 기자는 “의인은 그의 지식으로 말미암아 구원을 얻느니라(잠 11:9)”고 증거했습니다. 성경에서 의로운 사람이란 예수님을 믿음으로 말미암아 죄 사함을 받고 의롭게 된 사람을 가리킵니다. 의로운 사람은 하나님을 아는 지식이 있기 때문에 구원을 받을 수 있습니다. 이처럼 하나님을 아는 지식은 구원과 직결됩니다. 그러므로 우리가 도움을 받으려면 반드시 하나님을 아는 지식이 있어야 합니다. 목숨은 하나뿐이기에 세상에는 이보다 더 중요한 지식은 없습니다. 둘째는 바른 신앙으로 인도하기 때문입니다. 하나님을 아는 지식이란 하나님의 존재 그 자체를 아는 것을 말하지는 않습니다. 호세아 선지자는 이스라엘 백성들을 향해 하나님을 아는 지식이 없다고 널리 알렸는데 사실 이스라엘 백성들은 하나님의 존재를 모르지는 않았습니다. 그러나 그들은 하나님이 어떤 분이신지 제대로 알지 못했습니다. 그래서 하나님을 믿지 않고 거짓 신들을 믿는 것에 이른 것입니다. 바른 믿음에서 떠나 죄악의 길을 간 것입니다. 본문 4장 2절에는 “오직 저주와 속임과 살인과 도둑질과 간음뿐이요 포악하여 피가 피를 뒤이음이라”는 말씀이 있는데 이는 하나님을 아는 지식이 없을 때 일어나는 현상입니다. 하나님을 아는 지식은 사람을 바른 신앙으로 인도합니다. 사사시대 이스라엘 사람들이 자기 생각에 옳은 대로 행하며 그릇된 신앙으로 살아간 것은 하나님을 아는 지식이 부족했기 때문입니다. 유럽의 중세시대를 기독교의 암흑시대라고 부르는 것도 당시 사람들이 하나님에 대한 바른 지식이 없었기 때문입니다. 오늘날 온갖 이단과 사이비가 많은 것도 바로 이 때문입니다. 우리가 바른 신앙의 삶을 살아가려면 하나님을 바로 알아야 합니다. 바른 믿음은 하나님을 바로 아는 지식 위에서 형성됩니다. 사랑하는 여러분, “많은 사람이 빨리 왕래하며 지식이 더하리라(단 12:4)”는 하나님의 말씀처럼 이 세상은 지식이 매우 풍요해졌습니다. 그러나 지식 중의 지식인 하나님을 아는 지식이 없는 사람이 적지 않습니다. 하나님을 아는 지식이 가장 중요한 이유는 사람을 도와주는 것에 이르게 하고 바른 신앙으로 갈 수 있게 도와주기 때문입니다. 그러므로 우리가 구원을 받고 바른 신앙의 삶을 살아가려면 성경을 열심히 읽고 바르게 이해하고 교회에 열심히 다님으로써 하나님을 아는 지식을 가져야 합니다. 아무쪼록 성도님이 이 지식을 풍성히 얻으시기를 주님의 이름으로 축원합니다. 김홍식 목사(부여 등애침례교회) 이 설교는 장애인을 위해 사회적 기업 ‘샤프에스이’ 소속 지적 장애인 4명이 필자의 원고를 쉽게 고쳐 쓴 것입니다.\"\n",
            "20,\"조합원 돼야만 취직위원장이 ‘생살여탈권’ 부산항운노조는 1947년 4월 설립된 대한노총 부산부두노동조합에서 출발했으나, 이미 1876년 부산항 개항 때부터 부두노무자들의 조직으로서 그 형태를 갖추고 있었다. 현재 29개 연락소에 9천여명의 조합원을 두고 있다. 이들은 재래식 부두와 냉동창고 등에서 일한 만큼 돈을 받는 도급제 방식의 조합원 7천여명과 5개 터미널로 이뤄진 기계식 부두에서 일하며 월정액을 받는 상용제 방식의 조합원 2천여명 등으로 구성돼 있다. 일반적으로 노조에 가입하려면 먼저 3개월 정도 일용직으로 근무한 뒤 연락소장의 추천을 받아야 한다. 노조 가입뒤 3년이 지나면 반장(연락원)이 될 자격이 생기며, 반장이 된 뒤 3년이 지나면 연락소장이 될 자격을 얻는다. 반장은 조합원 20명당 1명꼴로 450~500명 선에서 유지된다. 대의원대회에서 선출하는 노조위원장은 3년 임기로 무제한 연임할 수 있지만, 60살 정년 전까지만 출마할 수 있다. 3년임기 60살까지 연임도급·상용제 9천명 가입 부산항운노조는 조합원이 되어야만 부두노무자로 일할 수 있도록 제한하는 ‘클로즈드숍’ 형태로 운영되며, 부두노무자들의 채용권과 인사권을 가리키는 항만 노무공급권을 독점하고 있다. 조합원들은 노조 가입 때부터 채용 이후까지 사실상 자신들의 ‘생살여탈권’을 쥐고 있는 노조위원장 등 노조 간부들의 지시에 절대적으로 따를 수밖에 없는 구조라는 것이 이번에 양심선언에 나선 전 집행부 관계자들의 증언이다. 특히, 도급제 조합원들은 조금이라도 많은 일감을 배정받기 위해 사실상 노조에 매여 있는 상황이며, 상용제 조합원이라도 노조에서 퇴출당하지 않기 위해 항상 노조 간부들의 눈치를 살펴야 한다는 것이다. 부산/\"\n",
            "21,\"\"\"오늘까지는 더위가 계속되겠습니다. 서울을 비롯한 전국 대부분 지역에 폭염특보가 내려진 가운데 오늘도 서울 33도 전주 34도 폭염경보가 내려진 대구는 35도까지 치솟겠습니다. 내일은 전국에 장맛비가 내리겠습니다. 수도권엔 최고 120밀리미터의 많은 비가 내리겠고, 충청과 남부지역엔 모레까지 80에서 150밀리미터의 비가 내리겠습니다. 내일은 주로 중부지방에 비가 집중되겠습니다. 내일 새벽 강한 비구름이 중부지방을 지나 시간당 30밀리미터의 국지성 호우가 예상됩니다. 충청과 남부지방은 내일 오후 비가 소강상태에 들다가 모레 새벽부터 강한 비가 시작되겠습니다. 오늘은 가끔 구름이 많겠고 제주도엔 밤부터 비가 시작되겠습니다. 충북과 경남에선 오후에 미세먼지 농도가 다소 높게 나타나겠습니다. 낮기온은 서울 33도 강릉과 부산 30도로 어제보다는 기온이 조금 낮지만 여전히 덥겠습니다. 바다의 물결은 전해상에서 1-2미터로 비교적 낮게 일겠습니다. 중부지방의 비는 모레 새벽 그치겠고 남부지방은 이번 주 비가 오는 날이 많겠습니다. 기상정보였습니다.\"\"\"\n",
            "22,\"\"\"평창올림픽에 참가하는 92개 나라 선수들의 보금자리, 평창선수촌이 전 세계 언론에 공개됐습니다. 선수들의 영양 보충과 휴식은 물론, 우리나라의 전통과 정보통신 기술을 체험할 수 있어 만족도가 높다고 합니다. 박선우 기자가 다녀왔습니다. [리포트] 24시간 내내 만 5천 인분 분량의 뷔페식 메뉴가 제공되는 선수촌 식당입니다. 종교식 등 400가지 요리의 다채로움은 올림픽을 네 차례나 출전했던 유승민 선수촌장이 자랑할 정도입니다. [유승민/평창선수촌장 : 중동 선수까지 배려한 다양한 메뉴 등 선수들의 음식에 대한 만족이 높습니다.] 2천 9백여 선수들의 보금자리는 나라마다 개성을 담은 국기가 걸려 있습니다. 2인 1실로 여섯 명이 함께 머물며 경쟁을 잠시 잊고 쉴 수 있습니다.선수들이 덮는 이불입니다. 평창올림픽 경기종목 픽토그램이 그려져 있는데 대회가 끝난 뒤에는 기념 선물로 주어집니다. 선수촌에선 한국 전통 체험은 물론이고, IT올림픽답게 즐길 거리도 풍성합니다. 가상 현실로 겨울 스포츠를 체험하고, 마스코트 수호랑의 얼굴을 한 로봇이 경기장 안내까지 도맡습니다.[미국 스키선수 : 알파인 스키는 어디서 열리나요?][케이티 오메로드/영국 스노보드 국가대표 : 선수촌 분위기가 매우 활기차고, 전반적인 시설이 훌륭해 즐겁게 지내고 있습니다.] 하나의 도시를 연상시킨 선수촌은 경쟁은 잠시 잊고 우정과 화합을 쌓는 작은 지구촌이었습니다. KBS 뉴스 박선우입니다.\"\"\"\n",
            "23,많은 빚과 신병을 비관해온 노모가 자살하자 아들도 죄책감에 목매 숨진 안타까운 사건이 발생했다. 5일 밤 11시20분께 부산 동구 범일동 장모(46)씨 집에서 장씨와 노모 조모(70)씨가 목을 매 숨져 있는 것을 장씨의 아내와 처남이 발견해 경찰에 신고했다. 경찰에 따르면 이날 오후 7시께 장씨의 아내가 일을 마치고 집에 왔으나 문이 안으로 잠겨 있어 119 구조대의 도움으로 문을 열고 들어가 보니 조씨와 장씨가 안방 문에 헝겊으로 목을 매 숨져 있었다는 것이다. 조사결과 이들 가족은 10여년 전부터 진 빚 가운데 그동안 2억원 가량을 갚았으나 채무가 줄기는 커녕 궁핍한 생활이 계속되자 이를 비관해 왔다는 것이다. 또 최근에는 조씨가 관절염과 고혈압 등으로 거동까지 불편해지자 이를 비관해 가족에게 '미안하다'는 내용의 유서를 남기고 자살한 것으로 경찰은 추정하고 있다. 경찰은 조씨가 숨진 후 외출했다 돌아온 아들이 노모 봉양을 잘못한 죄책감으로 뒤따라 목숨을 끊은 것으로 보고 있다. 경찰은 유족들을 상대로 정확한 사건경위를 조사중이다.\n",
            "24,\"\"\"안동의 하회별신굿탈놀이를 외국의 유사한 탈춤과 묶어 유네스코 인류무형유산에 등재하는 방안이 추진 중입니다. 성공할 경우, 안동은 유네스코 3대 유산을 모두 갖는 전국 최초의 도시가 됩니다. 이하늬 기자입니다. [리포트] 화려한 가면을 쓴 무리들이 흥겨운 몸짓으로 행진합니다. 죽은 영혼이란 뜻의 피타콘 탈춤으로, 태국 남부 로레이 지방의 전통 가면극입니다. 풍농을 기원하고 마을의 복을 비는 탈춤이란 점에서 하회별신굿탈놀이와 유사성을 가집니다. 특히 안동 하회라는 특정 지역에 국한돼 오늘날까지 연희되고 있다는 점도 비슷합니다. 피타콘을 유네스코 인류무형유산에 하회별신굿탈놀이와 공동등재하려는 이유입니다.[윤병진/세계탈문화예술연맹 사무총장 : 하회별신굿탈놀이와 개념과 콘셉트가 비슷한 그런 탈춤을 선정을 해서 함께 공동등재해야만 의미를 갖는 것입니다.] 안동시와 세계탈문화연맹은 태국 피타콘을 비롯해 아시아권 다른 나라들의 탈춤을 비교분석한 뒤 내년 1월 공동 등재신청할 예정입니다. 세계유산인 하회마을, 세계기록유산인 유교책판에 이어 하회탈춤이 인류무형유산에 등재되면, 안동시는 유네스코 3대 카테고리를 모두 가진 유일한 지역이 됩니다.[유홍대/안동시 문화유산과장 : 인류무형유산으로 등재가 될 경우에는 3대 카테고리가 다 완성되는 최초의 그랜드슬램 도시가 될 것입니다. 국내 관광객들뿐만 아니라 외국 관광객들도 우리지역을 많이 찾지 않을까...] 여기에다 봉정사와 도산.병산서원이 각각 올해와 내년 세계유산 추가 등재를 앞두고 있어, 안동이 명실상부한 유네스코 유산의 보고로 자리매김할 것으로 보입니다. KBS 뉴스 이하늬입니다.\"\"\"\n",
            "25,\"\"\"방탄소년단이 우리 문화의 역사를 새로 썼습니다. 미국 빌보드의 가장 인기 있는 앨범을 뽑는 차트에서 1위에 선정됐습니다. 한국 대중가요 100년 역사에서 누구도 이루지 못한 일입니다. 김수영 기자의 보도입니다. [리포트] 방탄소년단의 3집 앨범이 &빌보드 200& 차트 1위에 올랐습니다. 미국 최대 음악 잡지인 빌보드가 일주일마다 판매량 등을 집계해 발표하는 앨범 순위에서, 정상에 등극한 것입니다.[둘, 셋! 방탄!] 안녕하세요. 방탄소년단입니다![알엠(RM)/방탄소년단(BTS) 멤버 : 막상 (1위) 됐다는 소식을 들으니까 실감이 전혀 안 나는 것 같아요. 전 세계 모든 아미들에게 가장 감사드리고, 모든 영광을 돌립니다.] 한국 가수가 부른 우리말 노래가 빌보드 정상에 오른 건 사상 최초. 미국 본토 장르가 아닌 앨범이 1위를 차지한 것도 빌보드 사상 처음입니다. 2천 년대 들어 한국 가수들의 진출이 늘었지만, 대부분 100위 권 안팎에 머물렀습니다. 싸이의 &강남스타일&이 주요 싱글곡 차트에서 2위까지 오른 게 최고 성적이었습니다.[김영대/음악평론가 : (미국 시장은) 아시아를 비롯한 비영어권 음악에 대해서는 대단히 폐쇄적인 곳입니다. 기존의 케이팝이라는 범주로 도달할 수 있는 한계를 뛰어넘었습니다. ] 아시아에서 활동하다 미국으로 건너간 K팝 스타들과는 달리 해외에서 먼저 인정받은 방탄소년단. 팝의 본고장에서 인정을 받은 데는 미국 젊은 팬들의 압도적 지지가 있습니다. 완성도 높은 노래와 춤, 그리고 소셜미디어를 통한 솔직한 의사소통이 주효했습니다.[이지영/&BTS 예술혁명& 저자 : 모바일 기술이 세계에 일으키고 있는 수평적 방향성으로의 변화와 방탄과 팬이 맺는 수평적 관계가 공명에서 생겨난 현상이 BTS 현상입니다.] 가사에 담긴 메시지가 다른 아이돌 그룹과 차별화된다는 평가도 나옵니다.[&쩔어& 中 :난 육포가 좋으니까 6포 세대. 언론과 어른들은 의지가 없다며 우릴 싹 주식처럼 매도해 왜] 불안과 상실감 등 이 시대 젊은이들이 느끼는 아픔을 직접 쓴 가사로 달래주기도 합니다.[&Anpanman&(앙팡맨) 中 : 솔직하게 무서워 넘어지는 게 너희들을 실망시키는 게 그래도 내 온 힘을 다해서라도 나 꼭 너의 곁에 있을게.] 전 세계 청춘들과 공감하며 함께 성장하는 방탄소년단. 한국 대중음악이 가지 못한 길을 열고 있습니다. KBS 뉴스 김수영입니다.\"\"\"\n",
            "26,\"수도권 광역 교통망이 대폭 개선되면서 지하철 연장선 개통예정 인근 지역에 대한 관심이 높아지고 있다. 외곽지역에 위치한 탓에 교통 여건이 좋지 않아 그동안 저평가 됐지만 연장선이 들어서면서 집값이 급등하고 있어서다. 3일 업계에 따르면 대표적인 수혜지역으로 서울 지하철 5호선 연장선 인근 단지가 꼽힌다. 5호선은 기존 방화역에서 마천, 상일동역까지 이어지는 노선이2018년에는 경기 하남시를 관통해 검단산까지 이어지는 연장선이 개통될 예정이다. 5호선 개통이 가시화되자 하남시 집값이 급등했다. 부동산 114에 따르면 하남연장선이 착공에 들어간 2015년부터 현재까지 하남시의 집값은 전용면적 3.3㎡당 1136만원에서 1543만원으로 35.82% 올랐다. 지하철 8호선도 오는 2022년에는 경기 남양주시를 통과해 별내역까지 이어지는 별내선(8호선 연장)이 개통을 목표로 하고 있다. 별내선이 지나는 다산신도시는 인근 공인중개사에 따르면 아파트 분양권에 웃돈이 적게는 4000만원에서 많게는 1억원 이상 붙어 있다. 지하철 7호선도 연장을 계획하고 있다. 남쪽으로는 인천 청라국제도시까지 뻗어나갈 계획이며 북쪽으로는 양주신도시까지 연결된다. 7호선 연장선 수혜지인 청라국제도시의 마지막 분양 단지 청라 호수공원 한신더휴는 지난 7월 청약 결과 평균 14.37대 1로 1순위 마감했다. 이처럼 서울지하철 연장 지역 인근의 집값 상승세가 눈에 띄는 가운데 이달에는 HMG가 시행하고 제일건설㈜가 시공하는 민락2지구 제일풍경채 센텀이 분양을 앞두고 있어 7호선 연장 수혜를 받을 전망이다. 지하철 7호선은 장암역~의정부 민락지구~양주신도시까지 14.99㎞ 연장 계획이 있다. 단지는 민락2지구 마지막 주거상품으로 지하 2층~지상 10층, 전용 64·84㎡ 288실로 구성된다. 지하철 5호선 연장선 수혜지인 하남에서도 분양 소식이 있다. 대우건설이 하남시 현안1지구 1블록에서 하남 힐즈파크 푸르지오를 분양 중이다. 지하 2층~지상 22층, 7개동, 전용 52·59㎡, 총 404가구 규모로 조성된다. 인천지하철 1호선도 연장된다. 총 6.9㎞, 3개 정류장로 구성되는 이 노선은 현재 운행 중인 인천1호선 계양역과 검단신도시를 직결하는 노선이다. 현재 국토교통부의 승인을 받고 본격적인 사업에 돌입할 것으로 보인다. 인천1호선 연장선 송도 랜드마크시티역(2020년 개통예정) 인근에는 대우건설이 송도 랜드마크 푸르지오시티가 분양 중이다. C1블록에 들어서는 이 단지는 지하 4층~지상 최고 36층, 2개동, 총 1990실 규모로 지어지며 전용면적 22~48㎡ 소형으로 구성된다. 검단신도시는 올해부터 분양이 시작될 것으로 보인다. 첫 타자로 대방건설이 AB4블록에 인천 검단 대방노블랜드를 선보인다. 전용면적 84.109㎡, 총 1281가구를 계획하고 있다. 정상희 기자\"\n",
            "27,미국 할리우드의 영화배우와 감독 및 제작자들은 1천만 바트(3억원)가 넘는 지진해일 희생자 구호 성금을 태국 정부에 전달했다. 태국 언론 22일자 보도에 따르면 미국의 중견 배우 마이클 더글러스와 영국 배우 제레미 아이언스가 이끄는 할리우드 영화계 대표단은 21일 탁신 치나왓 태국 총리를 예방해 성금 100만 바트를 직접 전달했다. 이들은 이에 앞서 태국 총리실이 개설한 재난구호 성금용 은행계좌에 900여만바트의 성금을 이체했다. 탁신 총리는 할리우드 대표단에 구호성금을 내줘 고맙다며 잘 활용하겠다고 말했다. 탁신 총리는 또 경치가 아름다운 태국을 할리우드 영화 촬영 장소로 이용해달라며 태국은 곧 방콕 인근에 대규모 영화 촬영단지를 조성할 계획이라고 밝혔다.\n",
            "28,\"[IMG1] 걸그룹 AOA의 지민이 7월 30일 오후 서울 광진구 광장동 악스홀에서 열린 'AOA 쇼케이스'에서 데뷔했다. '천사들의 에이스(Ace Of Angels)'라는 독특한 일곱 천사 콘셉트에 1명의 하프(half) 천사로 구성된 8인조 걸그룹 AOA(설현아리, 유나리아, 초아야, 민아링, 혜정리너스, 지미넬, 찬미티티, Y)는 데뷔전부터 큰 화제를 모았다. AOA 1집 싱글 앨범 'Angels Story'는 제목 그대로 하늘에서 떨어진 지 얼마 안된 '천사들의 이야기'를 고스란히 담은 앨범이다. 특히 '씨엔블루 남매'라는 수식어에 걸맞게 밴드와 댄스를 동시에 선보이며 신선한 멀티형 걸그룹으로 화려하게 데뷔했다. [연예부 황지은기자]\"\n",
            "29,\"\"\"평창 올림픽 개막식 직후, 서울에서 미국과 북한의 회담이 비밀리에 성사됐지만, 북한측이 회담 직전에 취소해 불발됐다고 미국 워싱턴 포스트가 보도했습니다. 회담 상대는 미국의 펜스 부통령과 북한의 김여정이고, 장소는 청와대였던 것으로 전해졌습니다. 워싱턴 이재원 특파원의 보도입니다. [리포트] 평창 동계 올림픽 개막식에 참석한 미국 펜스 부통령, 뒷줄의 김여정 등 북한대표단과 눈도 마주치지 않았지만 다음날 비밀리에 북한과 회담을 준비하고 있었다고 워싱턴포스트는 보도했습니다. 펜스 미 부통령은 방한에 앞서 북한과의 탐색 대화가능성을 열어뒀습니다.[마이크 펜스/ 미 부통령 : 트럼프 대통령은 항상 대화에 대한 믿음이있다고 말했습니다. 나는 어떤 회동도 요청하지는 않았지만, 어떤 일이 일어날지는 한번 봅시다.] 하지만 미국과 북한의 만남은 끝내 성사되지 않았습니다. 워싱턴포스트는 펜스 부통령과 김여정이 청와대에서 회담을 할 계획이었지만 2시간 전에 북한이 취소해 불발됐다고 보도했습니다. 취소 사유는 펜스 부통령이 , 북한에 대한 새로운 제재를 계속 언급했고, 방한 기간 탈북자들을 만났기때문이라고 전해졌습니다. 미 국무부 대변인은 트위터를 통해 북한이 좋은 기회를 놓쳤다며 회동 거부는 유감이라고 밝혔습니다. 워싱턴포스트는 미국이 이번 접촉을 핵문제 해결을 위한 최대의 압박 정책 지속이라는 관점에서 추진한 반면, 북한은 제재 해제를 바라고 있어 처음부터 입장 차가 컸다고 분석하고 있습니다. 워싱턴에서 KBS 뉴스 이재원입니다.\"\"\"\n",
            "30,\"티에이치엔은 투자자들의 관심으로 당일 거래량이 최근 5거래일 거래량의 최고치를 경신했다. 그리고 현재 2.1% 내린 1,635원에 거래중이며 4일 연속 하락흐름을 보이고 있다. 외국인/기관 순매수, 개인은 순매도(한달누적) 전일 외국인이 183주를 순매도했다. 4주간을 기준으로 보면 외국인이 매매관점을 매도에서 매수로 전환하면서 10,143주를 순매수했고, 기관도 초반에 동종목을 순매수한 이후에 최근에는 순매수량이 줄어들고 있음에도 불구하고 1,325주를 순매수했다. 반면 개인들은 매도쪽으로 방향을 잡으면서 11,468주를 순매도한 것으로 나타났다. 퀀트 재무분석, 종합점수 52점으로 상승 지표 항목 값 종합점수 성장성 매출액증가율 -0.05 7.64 자기자본증가율 0.22 안정성 부채비율 406.81 4.44 유동비율 71.65 이익안정성 8.89 수익성 ROA 5.85 6.71 ROE 29.65 영업이익율 3.58 티에이치엔의 퀀트 재무 점수는 18.79점으로 3개월 이전 17.9점보다 올랐다. 지난 분기에 비해 성장성 점수가 상승했다. 이는 자기자본 증가율이 증가하였기 때문이다. 안정성 종합 점수는 부채비율 감소, 실적 안정성 증가로 상승했다. 수익성 측면에서 볼때 ROA, ROE, 영업이익률 모두 개선되어 이전보다 좋은 점수를 받았다. fnRASSI는 증권전문 기업 씽크풀과 파이낸셜뉴스의 협업으로 로봇기자가 실시간으로 생산하는 기사입니다. fnRASSI@fnnews.com fnRASSI\"\n",
            "31,\"[IMG1] 걸그룹 티아라(보람, 지연, 효민, 은정, 큐리, 소연, 화영, 아름) 화영이 7월 14일 오후 서울 동대문구 회기동에 위치한 경희대학교 평화의전당에서 열린 공식 팬클럽 퀸즈(QUEEN'S) 창단식에 앞서 가진 기자간담회에 입장하고 있다. 이날 팬클럽 창단식 무대는 티아라의 흥겨운 퍼포먼스로 채워진다. 이를 위해 멤버들은 밤낮을 가리지 않고 연습해 왔다는 후문. 특히 팬들과 가까이 만날 수 있도록 하이터치회 또한 가질 예정이며 팬들을 위한 포스터 및 각종 선물도 준비됐다. 한편 티아라는 지난 2009년도에 데뷔, 데뷔곡 ‘거짓말’로 시작해 ‘보핍보핍(Bo Peep Bo Peep)’, ‘왜이러니’, ‘너 때문에 미쳐’, ‘롤리폴리(Roly-Poly)’, ‘크라이크라이(Cry Cry)’, ‘우리 사랑했잖아’, ‘러비더비(Lovey-Dovey)’ 등 2년 만에 많은 히트곡들을 만들어 냈다. 지난 3일 발매된 신곡 ‘데이 바이 데이(DAY BY DAY)’는 발매 직후 각종 온라인 음악사이트, 벨소리, 컬러링 차트 순위에서 1위 2위를 다투고 있다. [연예부 송재원기자]\"\n",
            "32,\"성서의 위대한 인물들은 모두 자기 민족을 사랑했던 사람이다. 모세가 40일 동안 시내산에 올라 있을 때 산 아래에서는 이스라엘 백성이 금송아지를 만들어 절하며 야단이 났다. 하나님은 “나는 이 백성들에게 신물이 났다, 이제 내가 이 백성을 멸하리라”(출애굽기 32:10) 말씀하신다. 하지만 모세는 “이 백성을 용서치 않으시고 여기서 죽이신다면 나도 이 백성들과 함께 죽겠다”(출애굽기 32:13)고 결연히 맞선다. 사도 바울도 로마에 있는 교회에 편지를 보내면서 “나는, 육신으로 내 동족인 내 겨레를 위하는 일이면, 내가 저주를 받아서 그리스도에게서 끊어질지라도 달게 받겠습니다”(로마서 9:3)라고 말한다. 성서의 위대한 인물들은 자기 민족의 고난을 끌어안고 깊이 고뇌했던 신앙인들이었다. 윤동주도 그런 인물이었다. 27살 짧은 인생을 살고 간 그의 시들에는 우리의 심금을 울리는 어떤 힘이 있다. 우리 민족이 당하는 고난을 아파하며 한 자 한 자 그것을 아름답게 형상화했기 때문이다. 시인은 성서를 소재로 한 시도 몇 편 남겼다. 그중 하나가 ‘팔복-마태복음 5:13∼22’이다. “슬퍼하는 자는 복이 있나니” 이렇게 시작한 시는 이 구절을 모두 여덟 번 반복한 다음에 “저희가 永遠(영원)히 슬플 것이요”라고 마무리한다. 1940년 12월에 쓴 시다. 조선에 대한 일제의 수탈과 폭압이 극심했던 시절이었다. 어떤 기대도, 어떤 희망도 말할 수 없을 때 시인은 ‘슬퍼하는 자가 위로를 받을 것’이라는 말씀도 감히 거부하고 ‘저희가 영원히 슬플 것’이라고 말한다. 그리고 이 고통의 심연에서 시인은 십자가를 본다. “쫓아오던 햇빛인데 지금 교회당 꼭대기 십자가에 걸리었습니다.” 그가 다니던 북간도 명동교회의 첨탑(尖塔)을 보며 지은 시다. 그리고 만약 자신에게도 십자가가 허락된다면 “모가지를 드리우고 꽃처럼 피어나는 피를 어두워가는 하늘 밑에 조용히 흘리겠습니다”라고 노래한다. 실제 일제 치하 그리스도인들은 민족의 십자가를 지고 조용히 피를 흘렸다. 3·1운동의 주역은 그리스도인들이다. 당시 우리나라의 인구는 1600만명 정도였는데, 그중 그리스도인은 20만명에 불과했다. 1.3%가 채 안 된다. 하지만 이 극소수 그리스도인들은 민족의 빛과 소금의 역할을 다했다. 당시 만세운동의 대부분을 교회가 주도했다. 교회가 독립운동의 혈맥이 되어 전국적인 시위를 주도한 것이다. 하지만 그 대가는 혹독했다. 일제는 교회에 대해 대대적인 보복을 가했다. 제암리 교회 학살 사건이 그 대표적 예일 것이다. 일제는 이 근처 15개 교회에서도 이런 식으로 예배당을 불사르고 교인들을 죽였다. 성서의 하나님은 정의의 하나님이다. 불의를 용납지 않으시고 미워하시며 모든 불의한 세력을 꺾으시는 분이다. 성서의 하나님은 무고한 자들의 고난을 외면치 않으시고 그들의 고난의 의미를 땅에 흩으시지 않으시는 분이다. 3·1운동의 정신은 바로 그런 하나님을 믿는 기독교 신앙이 역사 안에서 행동으로 나타난 사건이다. 결국 고난당하는 우리 민족에게 ‘출애굽의 은총’을 베푸신 것이다. “그리스도께서 우리를 자유롭게 하려고 자유를 주셨으니 그러므로 굳건하게 서서 다시는 종의 멍에를 메지 말라”(갈라디아서 5:1)고 성서는 말한다. 그리고 우리가 “자유를 위하여 부르심을 입었으나 그 자유로 육체의 기회를 삼지 말고 오직 사랑으로 서로 종노릇 하라”(갈라디아서 5:13)고 권면한다. 하지만 이렇게 경고한다. “온 율법은 네 이웃 사랑하기를 네 자신같이 하라 하신 한 말씀에서 이루어졌나니 만일 서로 물고 먹으면 피차 멸망할까 조심하라.”(갈라디아서 5:14-15). 남과 남이, 남과 북이 서로 물고 먹으면 우리는 피차 멸망할 것이다. 다시 종의 멍에를 메게 될지도 모른다. 우리에게 은총으로 주신 이 자유를 각자의 욕망의 기회로 삼지 않고 오직 사랑으로 서로 섬기면서 하나님의 더 큰 복을 받는 민족이 되기를 3·1절 99주년에 간곡히 기원해 본다. 장윤재 이화여대 교목실장\"\n",
            "33,\"지난해 67건, 전체 사건중 16% … 의결서도 작성 안해 공정위가 공정거래법 등 불공정행위 혐의를 잡거나 신고를 받고 조사한 것 중 지난해에만 16%가 무혐의나 단순 행정처벌로 끝난 것으로 나타났다. 게다가 무혐의나 경고처분에 대해서는 의결서를 작성하지 않아 처리사유가 제대로 공개되지 않고 있다. 15일 공정위가 국회 박선숙 의원실에 제출한 자료에 따르면 지난해 공정위가 의결한 사건은 426건이며 이중 무혐의와 경고 처분을 받은 게 각각 14건, 53건이었다. 무혐의 건은 2008년 19건, 2009년 13건에서 소폭 증가했으며 경고를 받은 사건은 26건, 35건에서 급격하게 증가했다. 무혐의·경고 판정을 받은 사건이 전체 사건의 15.7%로 2008년 5.2%, 8.1%에서 가파르게 증가했다. 문제는 무혐의·경고 사건에 대해서는 의결서를 작성하지 않아 이 같은 판결을 내린 구체적인 사유가 비공개된다는 것이다. 박 의원은 이와 관련 무혐의 의결사건에 대해서도 반드시 의결서를 작성토록 하는 것을 골자로 한 공정거래법 개정안을 지난해 7월에 대표발의했다. 2009년 11월 감사원에서는 '중소기업 보호시책 추진실태 감사'결과 \"\"공정위가 불법하도급사건에 대해 과징금을 기각하면서 사유에 대한 기록이 전혀 없다\"\"며 대책마련을 주문했다. [IMG1]공정위 관계자는 \"\"의결서는 행정처분을 전제로 하는데다 무혐의 의결서 공개가 피심인의 명예를 침해할 수 있고 금융위 등 유사기관도 의결서를 작성하지 않는다\"\"고 주장했다. 국회 정무위 전문위원실은 검토보고서를 통해 \"\"의결서가 행정처분을 전제로만 작성된다고 볼 근거가 없고 피심인 역시 무혐의 의결을 공개해 법 위반 혐의를 벗을 수 있을 뿐만 아니라 금융위는 모든 사건에 대해 의결서를 작성하고 있다\"\"면서 '공공기록물 관리에 관한 법률' 제16조를 근거로 \"\"투명하고 책임있는 행정구현과 위원회 운영을 위해 무혐의로 의결하는 경우에도 의결서를 작성하는 것은 원칙적으로 필요하다\"\"고 밝혔다. 이 개정안은 현재 정무위 법안소위에 계류중이며 법사위에 상정돼 있는 공정거래법 개정안이 통과되는 대로 심의에 들어갈 전망이다.\"\n",
            "34,\"미국 캐다나 호주 뿐만 아니라 유럽의 주요국, 남아공, 멕시코까지도 다양한 체감실업률을 발표하고 있는 것으로 나타났다. 22일 국회 기획재정위원회에 따르면 미국과 캐나다 호주는 실업자 분류기준을 단계적으로 확대하면서 체계적인 보조지표를 작성, 공표하고 있다. 공식실업자 외에 비경제활동인구 중 '일이 주어지면 일을 할 수 있는'경계실업자, 취업자 중 비자발적인 단시간 근로자를 별도로 추가해 체감실업률을 만들었다. 미국은 매월 U1(15주이상 실업자)~U6(U5+경제적 이유로 35시간미만 취업자)까지 모두 6개의 실업률을 제시하고 있다. 캐나다는 R1(12개월이상 실업자)~R8(R4+구직단념자+취업대기자+불완전취업자) 등 8가지의 공식실업률과 체감실업률을 매월 내놓는다. 호주는 분기별로 실업률과 함께 우리나라의 취업애로계층을 포함한 불완전활용률을 공개하고 있다. 유럽 주요국들 역시 공식실업자 이외의 한계근로자, 불완전취업자를 이용한 2~3개의 보조지표를 주로 작성하고 있다. 아일랜드는 공식실업률에 구직단념자(S1), 한계근로자+일을 원하면서 재학 중에 있지 않은 사람(S2), S2+불완전취업자(S3) 등 3개의 별도 실업률을 분기별로 내놓고 있다. 오스트리아는 40시간 미만의 일을 하면서 추가로 일하고 싶은 불완전 취업자와 15~64세 비경제활동인구 중 일을 하고 싶은 예비노동력, 실업에 영향을 받는 공식실업자, 등록실업자, 구직단념자, 취업대기자 등도 분기마다 공표된다. 스페인와 덴마크는 분기별로 불완전취업자를 발표하고 독일은 매년 불완전취업률을 공개한다. 프랑스 역시 예비노동력, 불완전취업자 뿐만 아니라 유사고용률 지표, 연령대별 지표 등도 내놓고 있다. 남아공은 불완전취업자, 실업자, 구직단념자, 저활용노동자, 노동가능인구 대비 저활용노동자 비율을 발표한다. 멕시코는 10가지의 비활용률을 제시한다. 국경복 기획재정위 수석전문위원은 \"\"해외사례를 보면 다양한 고용지표를 발표해 고용여건에 대한 정책담당자와 국민들의 이해를 돕고 있다\"\"면서 \"\"우리나라도 체계적인 노동력 저활용 지표를 개발해 실업통계를 보완하고 체감실업과 지표상 실업의 괴리를 좁히면서 일자리 정책의 효과적인 추진을 뒷받침할 필요가 있다\"\"고 강조했다.\"\n",
            "35,\"\"\"경복궁 등 서울 도심의 고궁은 한복을 입고 가면 입장료를 면제해주고 있습니다. 그런데 최근 한 지자체는 &개량한복&에는 이런 혜택을 줘선 안된다고 주장해 찬반 논란이 일고 있습니다. 김소영 기자의 보도입니다. [리포트] 색색깔의 한복을 차려입고 고궁을 찾은 관광객들. 소매엔 레이스가 달렸고, 자수는 드레스처럼 화려합니다. 전통 한복에 현대식 디자인이 더해진 &개량 한복&입니다. [이인경/충북 청주시 : 금박도 있고 반짝반짝 큐빅도 달리고 그래서 조명을 받으면 샵에서 반짝반짝 예쁘게 나와요.] 하지만 심하게 변형돼 전통 의상으로 볼 수 없다는 의견도 있습니다. [정영숙/전남 보성군 : 우리 전통 한복을 입고 오는 모습이 아니고 약간 개량한복 또 국적이 불분명한 한복을 입고 왔기 때문에 좀 보기는 그렇습니다.] 한복을 입으면 고궁에 무료 입장하는 제도는 2013년부터 시작됐는데, 지난해에만 63만 명이 혜택을 누렸습니다. 그런데 경복궁과 창경궁, 창덕궁이 몰려있는 서울 종로구가 앞으로 &개량 한복&에는 무료 입장 혜택을 주지 말아야한다는 의견을 내놨습니다. [김오현/종로구청 문화과장 : 퓨전한복이라는 이름 하에 전혀 전통한복에서 벗어난 한복을 입고 있기 때문에 우리가 한번 나서야겠다는 생각에서 이번에 공론화를 제기한 겁니다.] 한복 대여점들은 업계가 위축되지 않을지 걱정입니다. [김귀식/한복대여업체 대표 : 전통을 지키겠다고 나선게 아니고 놀이문화인데, 놀이문화에 대해서 너무 타이트한 잣대로 바라보는 시각도 문제가 있다고 생각합니다.] 고궁 입장료 징수를 담당하는 문화재청은 좀 더 논의가 필요하다고 밝혔습니다. 종로구청은 다음달부터 개량 한복에 대해선 음식점 할인 혜택도 없애기로 해 논란은 계속될 것으로 보입니다. KBS 뉴스 김소영입니다.\"\"\"\n",
            "36,\"\"\"내륙을 중심으로 한파주의보가 발효 중인 가운데 전국 대부분 지역의 기온이 영하권에 머물러 있습니다. 특히 일부 중부내륙은 영하 10도 내외로 떨어져 추운 날씨를 보이고 있습니다. 오늘 오후에는 온화한 남서풍이 불면서 기온이 올라 한파주의보가 해제되겠고, 추위가 풀리겠습니다. 내일과 모레는 평년보다 높은 기온분포를 보이겠습니다. 정월 대보름인 오늘 전국이 대체로 맑겠습니다. 대부분 지역에서 보름달을 볼 수 있을 것으로 예상되는데요. 서울은 오후 6시 43분에, 대구는 오후 6시 38분에 달이 뜨겠습니다. 현재 전국이 대체로 맑습니다. 오늘은 고기압의 영향으로 전국이 대체로 맑겠습니다. 현재 기온은 어제 이 시각보다 6도에서 9도 가량 낮습니다. 기상 정보였습니다.\"\"\"\n",
            "37,\"안경률·이병석·황우여 출마, '주류후퇴론' 관심 6일 치러지는 한나라당 원내대표 경선은 안경률 의원(정책위 의장 러닝메이트 진영 의원), 이병석 의원(박진 의원), 황우여 의원(이주영 의원)의 3파전으로 압축됐다. 당 내부에서는 원내대표 후보로 나설 예정이었던 황우여, 이주영 의원이 '주류 2선 후퇴론'으로 단일화에 성공, 당선권에 근접하면서 '주류 대 쇄신' 구도가 형성됐다는 관측이 나오고 있다. 한나라당 의원들은 원내대표 경선에서 계파와 지역, 쇄신 등이 전체의원 172명의 표를 가를 주요 변수로 꼽고 있다. 이 가운데 '계파'는 강력한 변수다. 친이재오계 안경률 의원, 친이상득계 이병석 의원이 주류라면 중립성향의 황우여 의원은 비주류로 분류된다. '주류 대 비주류' 사이의 경계선이 비교적 명확하다. 50~60석 정도의 친박계가 어떤 선택을 할지가 관심거리다. 친박계에서는 집단적으로 누구를 지지한다는 입장을 정리하지는 않을 것으로 보이지만 친이계 주류에 대해서는 경계감을 표하고 있다. '지역'도 주요 변수다. 수도권의 경우 지역색이 약하다면 지방은 자기 지역 출신 후보에 대한 결집도가 강한 편이다. 원내대표와 정책위 의장이 2011년 예산에 대한 지분을 행사할 수 있는 만큼 지역예산 확보를 바라는 의원들의 의지가 표로 반영될 수 있다. 다만 부산경남 출신인 안경률 의원과 이주영 의원이 표를 나눌 것으로 보이며, 이병석 의원은 대구경북 의원들의 지지를 기대하고 있지만 친박계의 선택이 변수다. 여기에 전당대회를 통해 지도부 입성을 노리는 중진의원이 지역안배 차원에서 타지역 후보를 지지하는 '역선택'을 할 가능성도 있다. '쇄신'은 4·27재보선 참패와 황우여, 이주영 의원의 단일화로 가장 중요한 변수가 됐다. 안경률, 이병석 의원도 쇄신을 주요 공약으로 담았지만 황우여 의원이 '주류 2선 후퇴론'을 내세우면서 '쇄신후보'로 발돋움했다는 것이 중론이다. 황 의원은 '민본21' 등 소장파 초선의 지지를 얻고 있으며, 재선 이상 의원들도 함께 참여할 예정인 30명 안팎의 '쇄신연대'가 \"\"계파를 초월한 인물이 선출돼야 한다\"\"는 입장을 밝히면서 힘을 얻는 모양새다. 다만 온건파로 분류됐던 황 의원이 '쇄신'을 이끌 지도력을 보여줄 수 있느냐는 의구심을 털어내는 것이 과제다. 반면 안경률 의원은 '혁명적 개혁'을 주장하면서도 \"\"우리가 이명박정부를 만든 사람이고 마지막까지 책임지고 끌고 가야 한다\"\"는 '주류 책임론'을 굽히지 않고 있다. 이병석 의원은 \"\"친이·친박을 아우르는 '이·박연대'로 불러달라\"\"며 계파색깔 지우기에 주력했지만 박진 의원의 '정치자금법 유죄' 전력이 걸림돌이다. 차기 원내대표가 과반수 이상의 득표를 통해 선출되는 만큼 1차 투표에서 결정될지, 결선투표로 이어질지도 관심이다. 당일 선거에는 160여명의 의원이 참석할 것으로 예상되며 80명 이상의 지지를 얻으면 당선 가능하다. 1차 투표 컷오프(탈락) 한계선은 60표 수준으로 예상된다. 수도권 초선의원은 \"\"이번 경선은 한나라당의 쇄신의지가 진정성이 있는지, 아닌지를 국민들에게 보여주는 계기가 될 것\"\"이라며 \"\"쇄신동력과 방향을 결정하는 중요한 지점\"\"이라고 말했다.\"\n",
            "38,\"\"\"막 신입생을 맞은 대학교에서는 요즘, 동아리마다 새 회원 모집에 열을 올리고 있습니다. 하지만 취업난 탓에 &대학 생활의 꽃&이라고 불리는 동아리 활동도 시들하다고 합니다. 하초희 기자가 취재했습니다. [리포트] 개강을 맞은 대학가에 활기가 넘칩니다. 학내 광장에는 동아리마다 자리를 마련하고 신입 회원 유치에 열을 올립니다. [놀이패 한마당입니다. 동아리 보고 가세요!] 하지만 취업 한파가 계속되면서 동아리의 신입생 모집도 예전 같지 않습니다. 구직활동이나 실용성이 있는 동아리 중심으로 신입 회원이 몰립니다. [김도현/신입생 : 토론동아리나 교육봉사처럼 많은 경험과 스펙을 쌓을 수 있는 동아리 위주로 들고 싶어하는 추세인 것 같아요.] 동아리마다 회원을 모으기 위해 열을 올리고 있지만, 신입생 모집뿐만 아니라 재학생 유지에도 어려움을 겪고 있어 동아리 개수와 회원 수 모두 감소 추세입니다. 59년 전통의 산악동아리도 직격타를 맞았습니다. 지난해에는 신입생을 한 명도 받지 못했고 활동하는 재학생도 2명에 불과해 문을 닫을 판입니다. [황선영/강원대학교 산악회 대장 : 취업문제도 있고 개인마다 사정들이. 저희 산악회 같은 경우는 부모님의 반대도 심한 친구들이 많고 하거든요.] 학내 학술동아리와 종교동아리도 학생들의 외면에 고전하고 있습니다. 계속되는 취업 한파에 대학의 추억과 낭만을 키워가던 동아리 활동이 시들해지고 있습니다. KBS 뉴스 하초희 입니다.\"\"\"\n",
            "39,\"2012년 국회의원 선거에서 야당 후보를 지지하겠다는 여론이 높은 것으로 나왔다. 내일신문 7월 정례여론조사에서 '정부와 한나라당 독주 견제를 위해 야당 후보를 지지하겠다' 51.6%, '안정적 국정운영을 위해 한나라당 후보를 지지하겠다' 34.4%로 나왔다. 모름·무응답은 14.0%이다. 특히 지역별 분석에서 이른바 '한나라당 텃밭'으로 불렸던 지역의 민심이 심상치 않은 것으로 나왔다. [IMG1] 부산 울산 경남에서 '야당 후보 지지하겠다'가 45.3%로, '한나라당 후보지지' 42.3%보다 높았다. 대구·경북에서는 두 의견 사이의 격차가 불과 0.2%에 불과했다. 야당 후보지지 43.1%, 여당후보지지 43.3%이다. 반면 광주·전라남북도 등 이른바 '호남' 지역에서는, 야당후보지지 75.6%, 여당후보지지 9.9%로 여전히 야당지지 성향이 압도적으로 강하게 나타났다. 선진당과 한나라당, 민주당이 경쟁하고 있는 대전 충청에서는 야당후보지지 64.7%로, 여당 후보지지 26.9%, 모름 무응답 8.4%이다. 수도권에서는 △서울: 야 47.7% &gt; 야 38.5% &gt; 모름 무응답 13.8% △인천 경기: 야 49.7% &gt; 여 32.9% &gt; 모름 무응답 17.4%으로 나왔다. 한편 여당 후보에 대한 지지 응답이 더 많은 지역은 강원도였다. 여당후보지지 48.5%, 야당후보지지 39.1%, 모름 무응답 12.4%이다. 연령별로는 젊을수록 야당후보 지지 성향이 강했다. 20대 (야당후보지지 64.4% &gt; 여당후보지지 29.3%), 30대 (야 63.2% &gt; 여 18.2%), 40대 (야 58.4% &gt; 여 31.1%)이다. 50대에서는 야당 후보 지지 40.8%, 여당 후보지지 43.0%로 비슷하게 나왔다. 반면 60대에서는 야당 후보를 선택하겠다는 응답이 24.9%에 머물러, 한나라당 후보지지 56.0%와 두배 이상 격차가 났다.\"\n",
            "40,\"이라크총선 160만표 개표알라위 총리쪽은 19% 얻어 이라크 총선 초기 개표 결과 시아파 최고 지도자 아야톨라 알 시스타니가 후원하는 시아파 정당연합인 통일이라크연맹(UIA)이 약 73%를 득표하고 있는 것으로 나타났다. 이라크 선거관리위원회가 바그다드와 남부 시아파 지역 5개주에서 160만표를 개표한 결과 통일이라크연맹이 116만표(72.8%)를 얻은 것으로 나타났다고 〈뉴욕타임스〉 등이 3일 보도했다. 이야드 알라위 총리가 이끄는 이라크리스트는 19%를 얻었으며, 반미 시아파 지도자 무크타다 알 사드르를 추종하는 세력들은 1.5%를 얻었다. 이번 집계에는 북부 쿠르드 자치지역과 서부 수니파 지역의 결과는 포함되지 않았지만, 시아파 지역 투표율이 80%를 넘는 것으로 알려져 통일이라크연맹의 압승이 예상된다. 통합이라크연맹 관계자들은 자신들이 전국적으로 60% 정도를 득표했고, 쿠르드연맹이 20%, 이라크리스트가 13%를 득표했다고 주장하고 있다. 최종 결과는 1주일 뒤께 발표될 예정이다. 새로 구성될 과도정부의 총리 자리를 겨냥한 경쟁도 치열해지고 있다. 미국이 지원하는 알라위 총리는 자리를 지키겠다는 뜻을 강하게 밝혔지만, 통일이라크연맹의 지도자인 압둘 아지즈 알 하킴 이라크이슬람혁명최고평의회(SCIRI) 의장은 2일 당내에서 적절한 총리 후보자들을 낼 것이며 외부 인사는 총리로 받아들이지 않겠다고 말했다. 쿠르드족 지도자 잘랄 탈라바니도 4일 새 정부에서 대통령이나 총리 자리에 도전할 것이라고 말했다. 미국은 이번 선거에 깊숙이 개입하며 시아파 정권 수립에 대비해 많은 작업을 한 것으로 알려지고 있다. 존 매케인 공화당 상원의원이 의장을 맡고 공화당 외교안보전문가들이 참여한 국제공화주의연구소(IRC)와 매들린 올브라이트 전 국무장관이 의장인 전국민주주의연구소(NDI) 등 미국 정부와 관련 깊은 기구들이 이번 선거를 앞두고 후보들을 지원하며 정치인들과 깊은 관계를 맺었다. 공화주의연구소는 홈페이지( www.iri.org )에서 2003년 이후 이라크 정당과 정부 관계자들을 훈련시켜 왔다고 밝히고 있으며, 이라크이슬람혁명최고평의회의 사아드 자와드 킨딜 정치국장도 선거 직전 〈워싱턴포스트〉와 인터뷰에서 “국제공화주의연구소의 지원을 받아 인도네시아, 리투아니아 선거과정을 참가하고, 여론조사 결과를 참조할 수 있었으며 선거 포스터도 제작했다”고 말했다. 한편 이라크선관위는 선거 직후 이번 선거에 800만명(투표율 57%)이 참여했다고 발표했지만, 당시 급하게 전화로 결과를 모아 최종 투표율 집계가 달라질 수 있다고 말하고 있다고 〈뉴욕타임스〉가 전했다. 선관위원 사프와트 라시드는 쿠르드족과 아랍계의 갈등이 심한 니네베주에서는 투표소 330곳중 90곳밖에 문을 열지 못했다고 말했다.\"\n",
            "41,우원식 더불어민주당 원내대표가 사회적 대타협과 위기해소를 위한 연대위원회 구성을 제안했습니다. 부동산 정책과 관련해선 보유세 인상과 분양원가 공개 등 다양한 옵션을 놓고 특단의 대책을 강구하겠다고 밝혔습니다. 2월 임시국회 첫 교섭단체 대표 연설을 김종수 기자가 정리했습니다. [리포트] 우원식 더불어민주당 원내 대표는 국회 교섭단체 대표연설을 통해 초저출산과 인구고령화로 인한 인구절벽 현실화 등을 새로운 위기로 진단했습니다. 그러면서 모든 사회경제주체가 참여하는 가칭 &연대위원회& 설치를 제안했습니다. [우원식/민주당 원내대표 : &사회적 연대 위원회’를 통해 새로운 나라의 미래를 열 수 있도록 정치권과 경제주체 모두의 대승적 결단을 호소합니다.] 부동산 정책과 관련해서는 재건축 부담금을 포함해 보유세 인상과 분양원가 공개 등 모든 옵션을 테이블 위에 올려놓고 특단의 대책을 강구하겠다고 말했습니다. 최저임금 인상에 대해서는 구조화된 저임금에 따른 내수침체와 일자리 축소 등 악순환을 끊기 위한 조치라고 설명했습니다. [우원식/민주당 원내대표 : 최저임금 현실화는 비용의 차원을 넘어서 정의와 상식의 문제입니다.] 재벌개혁에 대해서는 상법 개정안 처리와 노동이사제 도입을 제시했습니다. 우 원내대표는 권력기관 개혁안과 관련해 고위공직자범죄수사처장을 국회가 추천하자는 야당의 요구를 수용하겠다고 밝혔습니다. KBS 뉴스 김종수입니다.\n",
            "42,\"\"\"미국이 북한과의 대화 가능성을 언급하면서 이 대화의 실효성을 위해서라도 대북 압박은 계속 강화하는 모습을 보이고 있습니다. 미국은 유엔 안보리에서 북한이 여전히 핵무기를 포기하려 하지 않는다며, 철저한 대북 제재 이행을 거듭 촉구했습니다. 워싱턴 이재원 특파원입니다. [리포트] 존 켈리 백악관 비서실장은 북핵 문제와 관련해 이제 남은 길은 없다, 우리는 김정은을 상대해야 한다고 밝혔습니다. 김정은과의 대화 가능성을 시사한 겁니다. 북한과의 전쟁으로 가느냐는 질문에는 그러지 않기를 희망한다면서도 그동안 일을 뒤로 미뤄왔다며 북핵 문제 해결 의지를 표명했습니다. 트럼프 대통령은 이미 모호한 언급으로 김정은과의 직접 대화 가능성도 열어 둔 상탭니다. [트럼프/美 대통령/지난 6일 : 나는 항상 대화를 믿어 왔습니다. 하지만 여러분이 아시다시피 우리 입장은 매우 확고합니다. 그러나 대화는 할 겁니다.] 하지만 유엔 안보리 무대에서는 대북 압박의 고삐를 계속 당기고 있습니다.[헤일리/유엔 주재 미국 대사 : 모든 유엔 회원 국가들은 북한에 대한 유엔 안보리 결의를 완벽하게 이해해야 합니다.] 안보리 제재를 위반한 불법 석탄 거래, 선박간 불법 환적의 구체적인 증거까지 언론을 통해 공개됐습니다. 미 하원은 대북 제재를 충실히 이행하지 않는 국가에는 세계은행이 차관을 주지 못하도록 하는 법안까지 통과시켰습니다. 한편에서는 김정은과의 직접 대화 채널을 열어놓고 다른 한편으로는 최대 압박을 강화하는 미국의 대북 양동 작전이 진행되는 모양새입니다. 워싱턴에서 KBS 뉴스 이재원입니다.\"\"\"\n",
            "43,\"전자등 이공계90% 할당기능직 6800명도 뽑아 엘지그룹이 올해 대졸 신입·경력사원 6200명과 기능직 6800명 등 모두 1만3천명을 신규채용한다. 엘지그룹은 전자·화학 등의 주력산업 분야를 강화하고, 세계적인 기업으로 도약하기 위해 올해 대졸자 채용 규모를 지난해보다 100명 늘어난 6200명으로 정했다고 3일 밝혔다. 엘지는 또 2006년 상반기 파주엘시디(LCD) 산업단지가 본격적으로 가동되는 것에 맞춰 엘시디 생산기능직 4500명을 비롯한 기능직 6800명을 뽑는다. 엘지는 올해 대졸 채용 규모의 90%인 5600명을 이공계에서 뽑을 계획이다. 3000명을 뽑는 엘지전자는 정보통신, 디스플레이, 홈네트워크 등 집중육성 분야와 연구개발(R&D) 인력을 주로 뽑는다. 엘지전자는 특히 전체 채용규모 중 20%(600명)를 여성으로 뽑을 계획이다. 엘지필립스엘시디는 대졸자 1300명과 기능직 사원 4500명을 뽑는다. 기능직들은 대부분 수도권 지역에서 선발할 예정이다. 대졸자 1300명도 이공계 인력에서 90%를 뽑는데, 이중 300명~400명은 이공계 석박사에 할당된다. 엘지화학은 600명을 새로 뽑는데, 2차전지와 편광판 등 정보전자소재 사업에 활용할 전기ㆍ전자계열 엔지니어를 주로 뽑는다. 300여명 이상은 석사급 이상으로 충원한다는 계획이다. 전공을 불문하고 사람을 뽑는 곳은 엘지시엔에스(CNS)로 지난해와 비슷한 수준인 400여명을 뽑는다. 엘지생명과학은 영업분야와 신약 및 임상개발 분야의 연구개발 인력 160명을, 엘지이노텍은 광소자와 소형 엘시디 모듈 분야에서 일할 150명을 새로 뽑을 계획이다. 엘지그룹은 그룹 차원의 공개채용이 없기 때문에, 각 회사나 팀별로 홈페이지 등을 통해 채용계획을 수시로 올린다.\"\n",
            "44,\"\"\"폭염특보가 조금 더 확대됐습니다. 일부 강원영서와 강원동해안, 충북북부, 전남내륙, 경상내륙에는 폭염주의보가 내려졌는데요. 폭염 특보가 내려진 지역의 한낮 기온은 33도 안팎까지 오르겠습니다. 일요일인 내일도 맑은 날씨 속에 불볕더위가 이어질 것으로 보입니다. 멕시코전이 열리는 러시아 로스토프 아레나는 대구와 비슷한 날씨가 예상됩니다. 개최 도시 11곳 중 가장 덥기로 유명한데요. 현지 시각 오후 6시 기준으로 기온은 27도에서 29도가 되겠고, 습도는 30%안팎으로 높진 않겠습니다. 다음 주에는 본격적인 장마가 시작됩니다. 월요일 제주도를 시작으로 화요일과 수요일, 전국에 장맛비가 내리겠습니다. 현재 전국이 구름 많은 날씨를 보이는 가운데, 제주도는 약하게 비가 내리고 있습니다. 내륙엔 안개가 짙게 끼어있습니다. 오늘은 전국이 구름 많다가 오후부터 맑아지겠습니다. 제주도는 아침까지 빗방울이 떨어지겠습니다. 현재 기온은 어제 이 시각과 비슷합니다. 한낮 기온은 서울 30도, 대전 31도, 광주 31도, 대구 33도 예상됩니다. 바다의 물결은 모든 해상에서 잔잔하게 일겠습니다. 서해상을 중심으로 안개가 짙게 끼는 곳이 있겠습니다. 기상 정보였습니다.\"\"\"\n",
            "45,\"한국자산관리공사(캠코)는 연소득 2600만원 이하인 저소득층은 신용등급에 관계없이 '바꿔드림론'(구 전환대출)을 이용할 수 있도록 서민금융 지원제도를 개선했다고 9일 밝혔다. 현재는 신용등급이 6~10등급일 경우에만 바꿔드림론을 이용할 수 있다. 캠코는 또 1년 이상 채무를 성실히 이행한 바꿔드림론 이용자에 대해선 소액대출 신청자격도 부여키로 했다. 이와 함께 캠코는 차상위계층에 대한 채무재조정 상환기간을 현행 8년에서 10년으로 늘리고, 실직자 등에 대해서는 채무상환을 최장 2년간 유예키로 했다. 장영철 캠코 사장은 \"\"자활의지가 있는 저소득층을 배려하는 방향으로 캠코의 서민금융 지원제도를 개선해 나갈 것\"\"이라고 말했다.\"\n",
            "46,\"서울 라이브 뮤직페스타(이하 서라페)가 공연계의 이슈로 떠올랐다. 대형 페스티발도 아니고 유명 가수들이 나오는 콘서트도 아닌데 티켓 예매사이트 오픈과 동시에 1위를 기록했다. 공연시장의 패러다임을 바꾸고 있는 서라페는 매월 1회 2만원 대의 부담 없는 가격의 티켓 하나로 홍대인근 10여 개 클럽에서 열리는 속칭 가장 잘 나가는 20여 팀 공연을 자유롭게 관람할 수 있는 박람회 컨셉의 도심 속 음악 축제다. 항상 젊은이들로 넘쳐나는 곳이지만 유흥문화 중심으로 흘러갔던 홍대인근 지역이 서라페가 있는 토요일이면 20대는 물론 새로운 라이브 문화를 즐기기 위한 3~40대의 방문도 늘고 있다. 지난 2월 첫 회를 시작으로 매진의 행렬을 이어온 서라페가 오는 8월 25일 끝나가는 방학과 휴가를 아쉬워하는 많은 이들을 위해 강렬한 추억을 남기려한다. 8월 서라페는 최강 축구팀인 레알 마드리드를 패러디 한 '레알 홍대리드'라는 타이틀 아래 최정예 밴드 베스트 11의 포메이션을 선두로 지난 회에 비해 관람 가능한 클럽 수도 12개(롤링홀, 인디팬, 리디안, 재머스, 프리버드, 사운드홀릭시티, 에반스라운지, 프리즘홀, AOR, 프리버드, 타, 사피엔스)로 늘리고 공연팀도 40여 팀으로 대폭 확대했다. 몽니, 트랜스픽션, 슈퍼키드 등을 필두로 브로큰 발렌타인, 내귀에도청장치, 브리즈, 네미시스 등 밴드음악의 진수를 보여줄 팀들은 물론 김지수, 김사랑, 뎁 등 많은 사랑을 받고 있는솔로 뮤지션 등이 출연한다. 또한 특별히 여름시즌을 맞이해 요즘 한창인기인 우크렐레 악기로만 연주, 노래하는 \"\"우크렐레 하와이 스페셜\"\"(프리버드) 로 꾸며진 공연도 예정되어 있다. '축구 여신'으로 불리우는 차유주 아나운서와 축구해설위원 이주헌, 슈퍼키드의 보컬 허첵이 진행을 맡은 베스트 11 소개 영상은 공개와 동시에 만 여건의 조회수로 보여 이번 서라페에 대한 관심을 증폭시키고 있다.&lt;연예부&gt;\"\n",
            "47,\"갈수록 수위가 높아지는 텔레비전 프로그램의 폭력성과 선정성 뒤에 감추어진 방송의 구조를 학생들과 함께 알아볼 필요가 있다. 방송의 구조를 알면 시청자의 올바른 태도와 역할을 실천할 수 있기 때문이다. 먼저 프로그램 제작비부터 살펴보자. 일반적으로 작가의 원고료, 출연료, 비정규직 인건비, 촬영 경비, 의상비, 세트비 등으로 구성된다. 2003년의 한 연구에 따르면, 유형별 10분당 평균 제작비는 주간 드라마 900만~950만원, 일일 드라마 370만~420만원, 연예오락 370만~400만원, 퀴즈·게임 300만~320만원, 다큐멘터리 350만~380만원, 교양·정보 150만~200만원이라고 한다. 현재 인기리에 방영되고 있는 〈불멸의 이순신〉은 세트 제작비 100억원 등 100부작에 350억원, 〈해신〉은 50부작에 150억원, 〈토지〉는 50부작에 100억원이라는 막대한 제작비가 들어간다. 이런 제작비는 대부분 광고 수입에 의존한다. 공중파 방송 3사의 프로그램별 광고 단가(15초 기준)는 아침 정보 프로그램은 200만원 안팎, 아침 드라마는 400만원 안팎, 주말 드라마와 수목 드라마 등은 1천만원 안팎이며, 일요일 아침 6시 프로그램은 60만~80만원대로 천차만별이다. 인기 드라마는 모두 24개 정도의 광고가 나가므로 한 회당 약 2억4천만원을 받게 된다. 광고주는 방송사에 광고비를 주고 시청자를 대상으로 광고를 해서 물건 판매를 늘리고, 방송사는 광고를 내보내고 받은 광고비로 시청자에게 프로그램을 제공하며, 시청자는 프로그램과 함께 광고를 시청한 뒤 광고주의 물건을 구매하는 것이 방송의 순환 구조다. 따라서 광고비를 더 받기 위해 시청률을 높여야만 한다. 시청률이 낮거나 떨어지면 제작비 삭감이나 조기 종영으로 이어져 기획 및 제작 단계에서 시청률을 고려하지 않을 수 없다. 아무리 유익하고 기획 의도가 좋아도 일정한 시청률이 나올 것 같지 않으면 제작할 수 없는 것이 현실이다. 시청률 조사 결과를 보면, 대체로 폭력적이고 선정적이거나 불륜을 소재로 한 드라마의 시청률이 높다. 내용을 봐도 3각, 4각 관계가 주를 이루고, 천편일률적인 신데렐라 이야기가 주된 소재다. 시청자들의 즉흥적인 채널 선택으로 오락 프로그램의 시청률이 높은 것도 사실이다. 이 때문에 교양과 오락의 경계가 허물어지고 드라마에서도 시트콤이 강세를 보이는 등 거의 모든 프로그램들이 오락화하는 경향이 두드러진다. 시청자의 시청 태도에 따라 방송의 순환 구조가 선순환이 되게 할 수도 있고 악순환이 되게 할 수도 있다. 한마디로 방송의 질은 시청자에게 달려 있다. 프로그램을 고르는 기준을 돌아보게 하고, 유익한 베스트 프로그램 10개 정도를 토의를 통해 선정해 보도록 한다. 청소년들이 프로그램을 비판적으로 수용하고 좋은 프로그램을 적극적으로 찾게 되면 올바른 시청자의 역할을 깨닫고 실천할 수 있다. 김수진/시흥 하중초등학교 교사 깨끗한 미디어를 위한 교사운동 대표\"\n",
            "48,\"\"\"은행 채용비리에 관여한 혐의로 구속 영장이 청구된 함영주 KEB하나은행장이 영장실질심사에 출석했습니다. 함 행장은 특정 입사 지원자에게 특혜를 주고 남성을 뽑기 위해 순위를 조작했다는 혐의도 받고 있습니다. 정유진 기자입니다. [리포트] 함영주 KEB하나은행장이 영장실질심사를 받기 위해 법원에 출석했습니다. 검찰은 하나은행 사외이사나 계열사 사장과 관련된 지원자들의 부정 채용에 관여한 혐의로 함 행장에 대해 구속영장을 청구했습니다. 함 행장은 혐의와 관련된 취재진의 질문에 심문에 성실히 임하겠다는 답변으로 일관했습니다. 다만 김정태 KEB하나금융그룹 회장의 지시는 받은 적이 없다고 말했습니다.[함영주/하나은행장 : (회장님 지시 받으셨습니까?) 없습니다.] 함 행장은 지원자들에게 특별전형을 적용해주거나 임원면접 점수를 높게 주는 방식을 통해 부정채용에 관여한 혐의를 받고 있습니다. 또 특정 대학 출신 지원자들에게 유리하도록 점수를 조정하거나 남성을 합격시키기 위해 순위를 조작했다는 의혹도 받고 있습니다. 금융감독원은 지난해 12월부터 두차례의 특별검사를 통해 하나은행 채용비리 13건을 적발하고 검찰에 수사를 의뢰했습니다. 이에 따라 검찰은 지난 2월부터 세차례에 걸쳐 하나은행 본사 등을 압수수색하고, 채용 관련 자료와 함 은행장의 휴대전화를 확보해 수사해 왔습니다. 또 최흥식 전 금감원장과 김정태 KEB하나금융지주 회장도 피의자 신분으로 소환해 조사했습니다. 전직 KEB 하나은행 인사부장 2명은 업무방해 혐의로 이미 구속 기소됐습니다. 함 행장의 구속 여부는 이르면 오늘 밤 늦게 결정될 전망입니다. KBS 뉴스 정유진입니다.\"\"\"\n"
          ]
        }
      ]
    },
    {
      "cell_type": "code",
      "source": [
        "# train 내용 확인 - 맨 앞부터 50줄만 \n",
        "with zipfile.ZipFile(args.corpus2) as z:\n",
        "    with z.open('train.csv') as f:\n",
        "        for i, line in enumerate(tqdm(f)):\n",
        "            if i >= 50 :\n",
        "                break\n",
        "            line = line.decode('utf-8').strip()     \n",
        "            print(line)"
      ],
      "metadata": {
        "colab": {
          "base_uri": "https://localhost:8080/",
          "height": 977,
          "referenced_widgets": [
            "64ca4eb424384ac1b5a2147755a2b028",
            "91291b827e4d4ba0af9a1a64f50c3837",
            "cbda051b942a4e81a08319f6893eb944",
            "6a4fbfd8a240486e9a3bfcbf34ca96cf",
            "2c90e845567247459b3220d7d0bb796f",
            "e3f5972f7eff4ae09a2dba4a0fcc1c71",
            "a70148ac1135469592aa3173b0825a70",
            "0746c857c4c1496baf06114897ac27c6",
            "58db7d1705a947038ed012b9f54570fe",
            "20ae1e7613334efda56980b882f0f717",
            "5a077f93106c453ebdb237373964569b"
          ]
        },
        "id": "G4GUpnsXDea6",
        "outputId": "141e7ef5-ed1d-4ba7-efbf-f06eaef90375"
      },
      "execution_count": null,
      "outputs": [
        {
          "output_type": "display_data",
          "data": {
            "text/plain": [
              "0it [00:00, ?it/s]"
            ],
            "application/vnd.jupyter.widget-view+json": {
              "version_major": 2,
              "version_minor": 0,
              "model_id": "64ca4eb424384ac1b5a2147755a2b028"
            }
          },
          "metadata": {}
        },
        {
          "output_type": "stream",
          "name": "stdout",
          "text": [
            "text,category\n",
            "이에 따른다면 초등학생들의 소비 문화는 디지털 강국의 ‘개국 공신’이 되려는 몸부림으로 여길 수도 있다. 하지만 지나친 부모의 교육열이 부른 무분별한 소비라는 지적도 만만치 않다. 경기도 수원의 한 초등학교 교사는 “수업 시간에 휴대전화로 문자를 주고받기에 혼냈더니 다음날 부모가 찾아와 ‘내 아이 문제에 끼어들지 말라’고 했다. 요즘 초등학생들은 서구적 가치관도 전통적 가치관도 지니지 못한 경우가 많다”고 고민을 토로했다. 사진 5 BOX ▲ 요즘 아프트 놀이터에서 초등학생을 찾기는 쉽지 않다. 지금 아이들은 학원과 PC방을 전전하고 있는지도 모른다. 요즘 취학하는 아이들은 심각한 주의력 결핍증이 있다고 한다. 유아기 때부터 온갖 시각 영상물에 노출된 탓이다. 다양한 시각 정보를 처리하는 데 익숙하더라도 그 속에서 소비 욕구만 자극받는다면 헛일이다. 인터넷 게임을 넓은 화면에서 즐기고 싶다며 벽걸이형 PDP(Plasma Display Panel) 텔레비전 구입을 요구하는 아이에게 무슨 말을 할 수 있을까. 언제까지 자녀와의 친밀도를 ‘경제력’으로 확인할 수도 없는 일 아닌가. 참교육을 위한 전국 학부모회 장은숙 사무처장은 “올바른 디지털 소비문화 기준을 세워서 적용해야 한다. 적어도 무엇 때문에 필요한지에 대해 ‘식탁 토론’이라도 벌이는 게 중요하다”고 말한다. 글 ▶[한겨레21]바로가기,연예/문화\n",
            "\"\"\"지난 14일 우리정부가 난민 신청을 한 예멘인들에 대해 인도적 체류를 허가했는데요.난민 체류 허가 뒤 맞이한 첫 주말, 서울 도심에선 도로 하나를 사이에 두고난민에 대한 서로 다른 목소리가 터져나왔습니다.강병수 기자가 현장에 다녀왔습니다. [리포트] 정부의 제주도 예멘 난민 일부에 대한 인도적 체류 허가 뒤 맞은 첫 주말. 난민 찬성을 주장하는 집회에서는 인도적 체류만으로는 아직 갈 길이 멀다는 지적이 나왔습니다. [이정원/난민 찬성 집회 참가자 : 예멘 난민들에 대해 난민으로 인정할 수 없다고 결정했습니다. 누구는 난민이고 누구는 난민이 아닐 수 없고 난민이 아니라는 정부의 판단이 잘못됐다고 생각합니다.] 문제는 난민 자체가 아니라, 난민 혐오라는 지적 역시 이어졌습니다. [난민 혐오 반대한다!] 집회에는 단식 농성을 멈춘 이집트 난민들도 함께했습니다. 참석자들은 난민이 한국 사람들과 다르지 않다고 이야기하기도 했습니다. [난민 집회 참가자 : 우리는 한국 사회에 우리 모두가 형제라고 말하고 싶습니다.] 하지만 같은 시각, 도로 하나를 사이에 두고 난민 반대 집회에서는 이들을 내쫓는 소리가 들려왔습니다. [추방하라! 추방하라!] 정부의 인도적 체류 허가에 대한 시각 역시 달랐습니다. 난민이 아니란 결정이 나왔음에도, 여전히 추방당하지 않고 있다는겁니다. [난민 반대 집회 참가자 : 심사 완료자 전원이 난민이 아니라고 결정됐음에도 100% 전원이 인도적 체류라는 이름으로 받아들여졌다...] 두 시간 가까이 날 선 발언이 계속된 난민 찬·반 집회. 양측은 도심을 행진하는 과정에서 서로를 향해 야유를 퍼붓는 등 소란이 빚어지기도 했습니다. [추방하라!] [민혐오 반대한다!] 경찰은 집회 참가자들 사이의 충돌에 대비해 현장에 경력을 배치했지만 우려했던 큰 충돌은 없었습니다. KBS 뉴스 강병수입니다.\"\"\",연예/문화\n",
            "\"인천시 서구와 계양구에서 경기도 부천을 거쳐 서울 홍대까지 지하철이 건설될 것으로 보인다. 유정복 인천시장, 강범석 서구청장, 박형우 계양구청장, 남경필 경기도지사, 김만수 부천시장은 20일 오후 부천시청에서 ‘수도권 서부지역 경인축 광역철도망 확충을 위한 공동업무 추진협약’을 맺었다. 협약에 따라 이들 시‧도와 시·구는 인천시 서구∼계양구∼부천 원종 구간 12.3㎞의 지하철 건설을 공동으로 추진한다. 총 사업비는 1조6347억원이다. 이를 위해 내년 상반기까지 새 노선 발굴을 위한 사전타당성조사 용역을 하고 2021년 상반기 국토교통부의 제4차 국가철도망 구축계획에 반영시킨다는 계획이다. 이어 예비타당성 조사, 기본계획 수립, 실시설계 등을 거쳐 이르면 2026년 착공해 2030년 개통한다는 구상이다. 이 노선은 2026년 개통 예정인 서울지하철 7호선 루원시티 주변 002역(가칭)을 출발해 인천지하철 2호선 가정역과 인천지하철 1호선 작전역과 각각 환승될 것으로 보인다. 새 노선은 경인국철과 공항철도 사이 동서축 지하철로 건설이 확정된 부천 원종∼서울 홍대 사이 16.3㎞의 지하철 노선과 연결돼 인천 서구·계양구와 강서·마포 등 서울 서부지역 사이 교통 편의를 획기적으로 향상시킬 것으로 보인다. 또한 한창 진행 중인 청라국제도시, 검단신도시, 루원시티 개발사업을 촉진하고 물류 비용 감축으로 지역 발전에도 크게 기여할 것으로 기대된다. 유정복 인천시장은 “인천 북부지역은 국제공항과 가깝고 청라국제도시 건설 등으로 인구가 급증하고 있다”며 “인천시민 300만명의 교통 편의와 지역발전을 위해 지하철이 가능한 한 이른 시일 안에 건설되도록 최선을 다할 것”이라고 강조했다. 인천=정창교 기자 jcgyo@kmib.co.kr\",생활\n",
            "\"김성태 자유한국당 의원이 최근 황운하 울산경찰청장과 벌인 ‘미친개’ 공방을 언급하며 몸을 낮췄다. 김 원내대표는 27일 YTN 라디오 ‘출발 새아침’에 출연해 “우리 당 대변인 발언이 좀 강했던 건 사실”이라며 “울산 경찰청의 정치공작적인 일면을 가지고 이야기한 부분이 마치 경찰 전체에게 모욕감을 준 내용처럼 본말이 전도돼 버렸다”고 설명했다. 그러면서 “대단히 안타깝고 가슴 아프게 생각하는 일”이라고 덧붙였다. 이어 ‘미친개 논평’으로 경찰과 각을 세운 것이 ‘검·경 수사권 조정 백지화’ 논란으로까지 번진 것에 대해서도 입장을 밝혔다. 그는 “검경 수사권 조정 문제는 국회 헌정특위·사법개혁특위에서 현재 논의가 되고 있는 사안”이라며 “이 문제는 오랜 문제고, 그렇기 때문에 이번 개헌 논의의 상당이 핵심적인 내용 중 하나”라고 말했다. 또 “이번 국회 개헌 협상의 가장 핵심은 국가 권력 구조 개편과 선거구제 개편, 권력기관 개혁, 개헌투표 시일 등 4가지”라며 “검경 수사권 조정도 상당히 중요한 내용으로 개헌 협상에 자리 잡고 있다”고 언급했다. 앞서 한국당은 울산 경찰이 자당 소속인 김기현 울산시장 측근 비리를 수사하자 논평을 내고 이를 야당 파괴를 위한 정치공작이라고 비난했다. 이 과정에서 장제원 수석 대변인이 경찰을 ‘광견병에 걸린 미친개’라고 표현했고 “미친개는 몽둥이가 약”이라는 다소 거친 발언까지 쏟아내 논란이 됐다. 이후 홍준표 대표는 평소 검찰개혁과 관련해 경찰에 직접 영장 청구권을 주자고 주장하던 당론을 재검토하겠다는 선언을 했다. 또 황 청장의 파면 없이는 검경 수사권 조정에 절대 협조하지 않겠다는 주장도 했다. 문지연 객원기자\",정치\n",
            "\"\"\"지난해 사상 최대 실적을 거뒀던 우리 수출이 새해에도 좋은 흐름을 이어갔습니다. 지난달 수출이 22% 증가해 역대 1월 실적 가운데 최대를 기록했습니다. 보도에 김병용 기자입니다. [리포트] 산업통상자원부는 지난달 수출액이 492억 달러로 잠정 집계됐다고 밝혔습니다. 지난해 같은 기간보다 22% 증가한 것인데, 역대 1월 수출 가운데 최대 실적입니다. 4개월 만에 다시 두 자릿수 증가, 15개월 연속 상승세를 이어갔습니다. 선진국과 개발도상국의 성장세가 꺾이지 않은데다, 유가 상승, 주력 품목 단가 상승 등이 주요 원인이라고 산업부는 설명했습니다. 13대 주력 품목 가운데 반도체, 일반기계 등 9개 품목의 수출이 증가했고, 9개 품목 모두 두 자릿수 증가율을 기록했습니다. 반도체와 일반기계, 석유화학과 컴퓨터는 역대 1월 수출 최대 실적을 기록했습니다. 지역별로는 중국 수출이 24% 늘어 6개월 연속 증가세를 보였고, 아세안과 인도, 중남미, CIS 즉, 독립국가연합 지역 수출도 증가세가 지속됐습니다. 수입은 20% 증가했고, 무역수지는 72개월 연속 흑자입니다. 산업부는 글로벌 경기 확장세에 따른 수요 증가와 주력품목 단가 상승 등으로 수출 호조세는 당분간 지속될 것으로 전망했습니다. 다만, 보호무역주의 강화와 환율 변동성 확대 등이 변수가 될 것으로 내다봤습니다. KBS 뉴스 김병용입니다.\"\"\",스포츠\n",
            "\"\"\"태풍 쁘라삐룬이 북상하면서 부산도 간접 영향권에 들었습니다. 부산 광안리 방파제에 중계차 나가 있습니다.장성길 기자, 현재 상황 자세히 전해주시죠? [리포트] 네, 현재 태풍 예비특보가 내려져 있는 부산에는 가는 빗방울이 떨어지고 있습니다. 바람 세기도 강하지 않아 아직 태풍의 영향을 체감할 수는 없는 상황입니다. 하지만 이번 태풍이 부산에 매우 근접해서 지나갈 것으로 예상되면서, 긴장감은 높아지고 있습니다. 오늘 새벽 3시를 기해, 부산신항과 북항 등 부산의 모든 항만이 폐쇄돼 선박의 입출항이 금지됐고, 어선 천6백여척이 인근 항포구로 긴급 피항하고, 600여척도 결박 등 안전조치를 했습니다. 부산은 내일 새벽까지 40mm에서 100mm의 비가 예보돼 있는 가운데, 해안가를 중심으로 많은 곳은 150mm까지 비가 내릴 전망입니다. 특히 많은 비와 함께 최대 순간 풍속이 초속 25m에 이르는 매우 강한 바람도 예상됩니다. 현재 속도라며 태풍은 오늘 밤 부산에 가장 근접할 것으로 예상되는데요. 늦은 오후부터 자정까지 부산지역의 태풍 최대 고비가 될 전망입니다. 지금까지 부산 광안리 방파제에서 전해드렸습니다.\"\"\",생활\n",
            "\"\"\"초등학교 교사가 길을 건너는 학생을 구하기 위해 달려오는 오토바이를 온몸으로 막았는데요. 결국, 사망했습니다. [리포트] 허난성의 한 초등학교 부근. 학교 옆 건널목을 건너기 위해 많은 학생이 모여 있는데요. 학생들의 안전을 위해 교사들이 매일같이 건널목 앞을 지킵니다. 사고 당일은 사망한 리팡교사가 건널목 당번이었습니다. 과속으로 오토바이 한대가 길을 건너는 학생들을 향해 달려오자, 리팡 교사는 학생들을 밀치고 온몸으로 오토바이를 막았습니다. [차오쟈싱/사고 목격 초등학생 : 오토바이가 빠른 속도로 오니까 선생님이 학생들을 밀쳤어요.] [허화슈/허난성 초등학교 교사 : &차 온다.& 하고 소리를 질렀어요. 리 선생님 목소리였나 봐요. (충돌음이 컸나요?) 네.] 리 선생님은 이틀 동안 혼수상태 끝에 사망했습니다. 29년 동안 교직에 몸담았고 숨지는 순간까지도 학생을 생각한 리 선생님 덕분에 학생 두 명이 목숨을 구할 수 있었습니다.\"\"\",사회\n",
            "\"\"\"10월의 마지막 휴일인 오늘(28일), 전국 대부분 지역에서 하루종일 날씨가 오락가락했습니다. 인천지역에선 강풍으로 대형 컨테이너가 넘어져 한명이 숨졌고, 텐트가 날아가 야영객이 다치기도 했습니다. 수도권 등 중부 일부 지역에선 손톱만한 우박이 내리기도 했습니다. 황정호 기자의 보도입니다. [리포트] 무게 2톤이 족히 넘는 컨테이너 박스가 쓰러져 있습니다. 오늘(28일) 오전 인천항에 시속 70킬로미터 안팎의 강풍이 불면서 쌓아둔 컨테이너가 넘어진 겁니다. 이 사고로 작업 중이던 50대 근로자가 숨졌고, 차량 석 대가 크게 부서졌습니다. 완전히 뒤집힌 텐트가 연못 위로 떨어졌습니다. 인천 중구의 한 글램핑장에서 강한 바람에 텐트 3개가 날아가 야영객 두 명이 다쳤습니다. 사다리차도 강풍에 속수무책이었습니다. 경기도 안성과 서울 은평구에선 이삿짐용 사다리차가 쓰러지는 사고도 잇따랐습니다. 낮시간 중부 지역 곳곳엔 우박도 떨어졌습니다. 햇빛마저 삼켜버린 구름. 얼음 알갱이같은 우박이 쉴 새 없이 내리면서 축구대회가 5분 넘게 중단됐습니다. [이학용/시청자 : 빗줄기가 굵어지나 그랬더니 갑자기 (우박이) 우르르 내리더라고요. 관중이랑 보호자 분들도 깜짝깜짝 놀라 가지고...] 잔뜩 찌푸린 하늘에서 하얀 우박비가 집 마당으로 쏟아집니다. 잔디 위로 툭툭 떨어져 튀어 오르기도 합니다. 집 옥상도 우박으로 금세 하얗게 변합니다. 쏟아지는 비에 우박까지 만난 사람들은 급하게 몸을 피했고, 도로 위를 달리다 우박을 만난 시민은 놀라기에 바쁩니다. [우박, 이렇게 많이 오는 거 서울 살면서 별로 보기가 참 쉽지 않아.] 가로수와 전신주도 쓰러지는 등 전국에서 강풍 피해 37건이 집계됐다고 소방당국은 밝혔습니다. KBS 뉴스 황정호입니다.\"\"\",연예/문화\n",
            "\"\"\"전교조는 지난 2013년 조합원 가운데 해직자 9명이 포함 됐다는 이유로 지난 2013년 법외노조 처분을 받았죠. 이후 법외노조 처분을 취소해달라며 긴 소송전이 이어졌는데 최근 청와대에서 전교조의 합법화 시기와 방향을 가늠할 수 있는 발언이 나왔습니다. 유호윤 기자가 보도합니다. [리포트] 청와대 앞 거리에서 150일 넘게 농성 중인 전교조의 요구사항은 하나입니다. 지난 정부가 통보했던 &법외 노조 처분&을 현 정부가 &직권 취소&해달라는 겁니다. [김학한/전교조 정책실장 : 전임자로서 합법적으로 활동하지 못하게 되면서 34명의 해고자가 발생을 했고 이후에도 많은 전임자들이 직위해제 상태에서 여러 가지 불이익을 받고 있는 그런 상황입니다.] 다섯 달 전, 직권 취소 불가 방침을 밝혔던 청와대가 최근 들어 전교조 합법화의 시한과 방법을 구체적으로 검토 중인 것으로 파악됐습니다. 청와대 고위관계자가 내년 6월에 있을 국제노동기구 ILO 창립 100주년 기념 총회 전에 &합법화& 방향으로 결론 날 것을 기대한다고 밝힌 겁니다. 현 정부 들어 청와대가 전교조 합법화 시한을 언급한 것은 이번이 처음입니다. 문 대통령이 총회 참석을 검토 중인 가운데 전교조 문제가 결사의 자유 원칙에 어긋난다는 ILO 판단을 존중해 풀고 가겠다는 의도로 풀이됩니다. 다만, 직권 취소 방식은 정치권 안팎의 역풍 등을 이유로 여전히 부정적입니다. 대신, 대법원이 전교조의 법적 지위를 인정하는 가처분 결정을 내릴 경우 ILO 핵심협약 국회비준 등 법률 개정을 통해 근본적인 해결에 나선다는 게 청와대의 구상입니다. 실제, 지난 9월에 고용노동부가 대법원에 제출한 의견서에는 법원에 빠른 판단 요청과 동시에 법률 개정 지원에 대한 약속이 포함됐습니다. 다만, 대법원의 판단이 2년 9개월째 나오지 않고 있고, 야당 반대로 관련 법안 처리도 쉽지 않아 보여, 청와대 계획대로 내년 6월 전에 실제 문제가 해결될지는 여전히 미지수입니다. KBS 뉴스 유호윤입니다.\"\"\",정치\n",
            "\"\"\"이제 북미간의 협상이 본격적인 해법찾기 국면에 접어든 게 아닌가 싶습니다. 그럼, 과거 북핵 협상을 진두지휘했던 핵심 당국자를 모시고 북핵 협상 성공의 조건을 알아보겠습니다. 오늘은, 북핵 6자회담 초대 수석대표를 지낸 분이죠. 북핵협상 역사의 산 증인이라고 할 수 있는 더불어민주당 이수혁 의원 모셨습니다. 어서 오십시오.[이수혁/더불어민주당 의원/前 북핵 6자회담 초대 수석대표/前 외교통상부 차관보] 네, 안녕하십니까?[ 앵커] 오늘 나온 소식을 보니까 북한이 풍계리 실험장 파괴를 검증할 사찰단을 초청했습니다. 의미를 어떻게 봐야 될까요?[이수혁/더불어민주당 의원/前 북핵 6자회담 초대 수석대표/前 외교통상부 차관보] 이제 본격적인 북미회담이 열리게 될 것이다. 어떻게 보면 중요한 시설의 사찰이 시작됐다, 그래서 다른 시설들 사찰도 유사한 방법, 또는 그보다 더 진전된 방법으로 폐기를 하게 됐다 그런 신호라고 봅니다. 강경화 장관이 폼페이오 장관 방북에 앞서서 새로운 제안을 내놓지 않았습니까. 그게 일단 핵 신고는 잠시 미뤄두고 먼저 영변 핵폐기와 종전선언을 맞교환하자 이렇게 해서 북미 간에 신뢰를 먼저 쌓고 그 다음에 폐기 절차를 가면 어떻겠느냐 이런 제안인 것 같은데, 그런 제안에 대해서 북미 양측의 공감이 있었다 이렇게 봐도 될까요?[이수혁/더불어민주당 의원/前 북핵 6자회담 초대 수석대표/前 외교통상부 차관보] 여태까지 25년 간 북한이 핵 폐기를 하는 핵 협상이 실패한 가장 큰 원인은 신고 문제였기 때문입니다. 쉽게 얘기하면 폐기에 이를 만한 신뢰가 미·북한 간에 있지 않다. 하는 결론입니다. 신뢰를 쌓는 게 매우 중요할 수 있는데 신뢰를 쌓을 좋은 기회가 지금 왔다는 겁니다. 남북 정상회담에서 9,19 남북 정상회담에서 북한이 세 개의 시설을 영구 폐기하겠다고 지금 얘기를 하고 있습니다. 하나는 스스로 동창리 미사일 엔진 실험장하고 미사일 발사대를 영구 폐기하겠다. 그것도 유관국의 전문가의 감시 하에 영구 폐기하겠다 했습니다. 두 시설이죠. 나머지 셋째는 미국의 상응조치에 따라 북한이 영변 핵시설을 영구 폐기하겠다 했습니다 동결이 아니고. 영구 폐기하겠다고 합니다. 그런 의미에서 핵 신고도 이런 것이 북한이 스스로 하겠다는 것을 하게 만들고 사찰 하에 이뤄지면 만족할 만하게 될 테고 그러면 그 다음 단계에 그 신뢰 하에 북한이 정말 핵 폐기를 할 각오가 돼 있구나. 그래서 확인을 하는 과정에 다시 또 제2단계에 이러한 폐기 수순에 어떤 조치들을 북한이 취하게 되리라고 그렇게 보는 것이죠. 그러니까 불신 하에서 진실되지 못한 핵 신고를 받느니 그것보다 북한이 지금 당장 할 수 있는 영변 핵 폐기 약속한 것들, 그런 것을 상응조치와 교환하면서 신뢰를 쌓으면 이후에 핵 신고든 검증이든 폐기가 더 진실되게 이뤄질 수 있다 이런 말씀이시죠?[이수혁/더불어민주당 의원/前 북핵 6자회담 초대 수석대표/前 외교통상부 차관보] 그렇습니다. 정확하게 지금 이해를 하고 계십니다. 알겠습니다. 이번에 폼페이오 장관이 가서 가급적 빨리 2차 북미 정상회담을 열자. 이렇게 의견 교환을 했습니다. &가급적 빨리&라는 건 언제쯤일까요?[이수혁/더불어민주당 의원/前 북핵 6자회담 초대 수석대표/前 외교통상부 차관보]그것은 시기가 굉장히 임박했다고 볼 때 대개 그런 표현을 쓰죠. 아마 추측건대 예상과 달리 11월 중간선거 그 결과가 좋을 걸로 판단한다면 예단한다면 중간선거 전에도 할 가능성이 있다. 2차 북미 정상회담이 열리면 어떤 결과를 내놔야 된다고 보십니까?[이수혁/더불어민주당 의원/前 북핵 6자회담 초대 수석대표/前 외교통상부 차관보]어쨌든 미국은 북한을 만족시키기 위해서는 우리 문재인 대통령한테 김정은 위원장이 얘기한 상응조치, 북한은 이런 조치를 취할 테니 거의 핵 폐기를 할 테니 상응조치 해달라는 것 아니겠습니까. 물론 미국은 로드맵을 만들고 있다고 해요. 로드맵을 만들고 있기 때문에 그런 요소들이 다 들어가겠지만 그것은 협상의 결과가 밝혀지거나 협상의 과정에 노출할 필요가 있다는 미·북한 간의 합의가 없는 한 내용은 밝혀지지 않을 겁니다. 알겠습니다. 마지막으로 우리 정부는 어떤 역할을 앞으로 해야 될까요?[이수혁/더불어민주당 의원/前 북핵 6자회담 초대 수석대표/前 외교통상부 차관보]우리 한국 정부가 자주 제시하고 있는 대안, 또는 조언 이런 것을 미국이 굉장히 많은 분량으로 수용을 하고 있고 깊게 검토하고 있고 한다는 것을 저희가 직접 들었습니다. 그것이 현실화될 수 있는 제안들이 있어왔고 앞으로도 계속 그런 조언을 기다릴 겁니다. 오늘은 여기까지만 듣도록 하겠습니다. 다시 한번 모시도록 하겠습니다. 말씀 잘 들었습니다.\"\"\",정치\n",
            "\"\"\"일본군 위안소와 달리 탄광 등에 설치됐던 산업 위안소는 지금까지 그 존재가 잘 알려지지 않았는데요. 태평양 전쟁 말기 일본은 한반도에서 사람들을 강제로 동원한 뒤 여기에 맞춰 산업 위안소를 만들었습니다. 일본 홋카이도에서 이승철 특파원이 산업 위안소 건물을 확인했습니다. [리포트] 산 중턱, 한적한 옛 광산촌 한 쪽에 자리잡은 붉은 지붕의 집 한 채. 과거 산업 위안소가 자리잡고 있던 건물입니다. [지금은 이 부분만 남아 있는 겁니다.] 2천 여 명의 한반도 출신 강제 징용자가 있었던 아시베츠 탄광. 1944년 미쓰이 그룹이 이곳 광산을 인수하면서 독신자 숙소를 개량해 위안소를 만들었습니다. 마을 사람들 사이에서 전해오던 이 산업 위안소의 존재는 2006년 한 여성의 증언으로 세상에 명확하게 알려졌습니다. 지난 6월 숨진 아사카 씨는 치마 저고리를 꿰메달라며 도움을 청한 조선 여성을 생생히 기억하고 있었습니다. [하세야마/증언 청취 기록자 : 여성이 4~5명이 있었고, 한복을 입었었다고...] 탄광 측이 쉬지 않고 일한 광부들에게 위안소 할인권을 지급했다는 기록도 남아 있습니다. 홋카이도에 설치된 산업 위안소만 19곳. 일본 정부는 전쟁 말기 물자 부족으로 일반 술집 등은 폐쇄했지만, 탄광이나 군수 공장 지역에서는 정부의 관리 아래 전국적으로 산업 위안소를 설치했습니다. [히구치/일 중앙대 연구원 : 20명의 (조선) 여성이 있으면 위안소로서는 좋겠다면서 현 지사가 직접 동원하기도 하고...] 관련 연구가 최근 활발해지고 있는 가운데, 연구자들은 일본에만 4~5천 명의 산업 위안부가 있었던 것으로 추정하고 있습니다. 홋카이도에서 KBS 뉴스 이승철입니다.\"\"\",연예/문화\n",
            "\"FDA 승인 성교통 치료제가 국내에 상륙한다. 한국팜비오(회장 남봉길·사진 오른쪽)는 일본의 다국적 제약사 시오노기(대표 이사오 테시로기)사와 폐경기 여성의 외음부 및 질 위축증 치료제 ‘오스페나’(성분명: Ospemifene)를 국내에 독점 공급하는 내용의 완제 수입 계약을 체결했다고 18일 밝혔다. 오스페나는 비호르몬성 선택적 에스트로겐 수용체 조절제로서, 폐경기 여성들의 성교통 및 질 위축증 치료에 대한 유효성 및 안전성을 인정받아, FDA(미국 식품의약국), EMA(유럽 의약품 기구)로 부터 각각 2013년, 2015년에 허가받아 시판되고 있는 약물이다. 고령화 사회와 맞물려, 폐경기 여성의 숫자는 증가하고 있으며, 그에 따라 여성 건강, 여성 삶의 질에 대한 인식이 높아지고 있으나 환자들은 제한된 치료제 및 부작용 우려로 인해 적절한 치료를 받지 못하고 있는 실정이다. 남봉길 한국팜비오 회장은 “오스페나는 시오노기사의 남다른 기술력을 바탕으로 미국과 주요 유럽국가에서 효과와 안전성은 물론 시장성까지 검증을 받은 약이다. 기존 치료제들이 충족시키지 못한 시장의 니즈(수요)를 충분히 만족시켜, 관련 의료진과 환자들에게 최고의 치료제로 자리매김하게 될 것으로 기대한다”고 말했다. 시오노기 사는 오스페나와 관련, 미국, 유럽의 관련 치료제 시장에서 그 효과와 안전성을 인정받아 아시아 및 그 외 시장으로 그 영역을 확대 중인 것으로 알려졌다. 통계청 및 관련 문헌에 따르면, 한국의 전체 폐경기 여성의 숫자는 약 1천 만명으로 추산되며 그 중 30~40%의 여성이 성교통 혹은 질위축증 등 의 폐경기 증상을 앓고 있는 것으로 나타났다. 외음부-질 위축증은 폐경기 에스트로겐 결핍으로 질 분비액이 감소해 질이 건조, 위축되는 증상이다. 질 분비액 감소로 이어지면 성교통이 동반될 수 있다. 이기수 의학전문기자 kslee@kmib.co.kr\",스포츠\n",
            "\"만취 상태로 폭행을 하고 경찰 지구대에서 난동을 부린 래퍼 정상수씨에 대한 구속영장 청구가 기각됐다. 증거 인멸이나 도주 우려가 없다는 판단에서다. 서울남부지법 김병철 영장전담 부장판사는 27일 구속 전 피의자심문에서 “증거 인멸 및 도주 우려가 있다고 보기 어렵다”며 정씨에 대한 구속영장을 기각했다. 정씨는 지난 22일 여성 A씨에게 만나자는 내용의 문자메시지를 보냈는데, 이를 본 A씨의 남자친구 B씨가 대신 약속 장소에 나타나 따지자 폭행을 했다. 정씨는 이를 말리던 C씨도 폭행했다. 이후 정씨는 112 신고를 받고 출동한 경찰에 현행범으로 체포됐지만, 지구대에서도 욕을 하고 테이블을 발로 차는 등 난동을 부렸다. 정씨는 서바이벌 오디션 ‘쇼미더머니’에 출연하면서 이름을 알렸다. 하지만 음주운전을 하다 교통사고를 내고 만취 상태에서 폭행을 하는 등 수차례 경찰 조사를 받았다. 권중혁 기자 green@kmib.co.kr\",사회\n",
            "\"\"\"어제 인천항에 정박중이던 중고차 운반선에서 불이 났습니다. 다행히 인명피해는 경미했지만 5만톤이 넘는 대형 화물선이어서 불을 완전히 끄는데 어려움을 겪고 있습니다. 염기석 기자입니다. [리포트] 인천항에 정박해있던 5만 2천톤급 중고차 운반선 &오토배너호&에 불이 났습니다. 불은 선박 11층에 있던 한 중고차 엔진에서 시작된 것으로 추정됩니다. [선사 관계자/음성변조 : 중고차를 실으면 전기 스파크가 일어나요. 기름이 나오면서 불이 더 번질 수 있습니다.] 어제 오전만 해도 불이 곧 꺼질 것처럼 보였는데, 오후 들어 연기가 더 자욱해지면서 불길도 커졌습니다. 해경 함정까지 동원돼 물을 뿌려보지만 불을 진화하는데는 역부족이었습니다. 폐쇄적인 선박 구조상 열기가 빠져나오지 못해 내부 진입이 어려웠기 때문입니다. [박성석/인천 중부소방서장 : 엄청난 열기가 나오고 있습니다. 그래서 현장 접근이 어렵고요.] 여기에 선내 방화벽이 작동하지 못해 불을 더 키운 것으로 추정됩니다. 중고차 4천여 대를 실을 예정이었지만 2천여 대만 실은 상황에서 불이 나 방화벽이 열려 있다보니 진화가 어려웠다는 겁니다. 소방 당국은 차량들이 전소되길 기다려 선박 내부에 진입하고 진화작업을 이어가고 있습니다. 소방 당국은 큰 불은 잡았다면서도 인명 피해를 우려해 선박 옆면을 절단해 안전을 확보해가면서 오늘도 진화작업을 이어갈 예정입니다. 한편 배에 타고 있던 선원 28명은 모두 119에 의해 구조됐고 불을 끄던 소방관 1명이 화상을 입고 치료를 받고 있습니다. KBS 뉴스 염기석입니다.\"\"\",연예/문화\n",
            "검찰이 이명박 전 대통령 시기 국가정보원 특수활동비 상납 사건 수사를 계속하고 있습니다. 김진모 전 청와대 민정2비서관과 김희중 전 대통령 부속실장을 통해 윗선을 향할 단서를 확보하고 있습니다. 이현기 기자의 보도입니다. [리포트] 김진모 전 청와대 민정2비서관이 호송차에서 내려 검찰에 소환됩니다. 김 전 비서관은 국가정보원 특수활동비 5천만 원을 받은 혐의로 구속됐습니다. 검찰은 김 전 비서관이 민간인 사찰을 폭로한 장진수 전 주무관을 입막음 하는 데 관여한 의혹을 집중 추궁했습니다. 검찰은 이명박 정부 당시 이뤄진 민간인 사찰 사건을 처음부터 다시 들여다보고 있습니다. 검찰이 주목하는 건 김 전 비서관의 당시 직속상사인 권재진 전 민정수석입니다. 검찰은 조만간 권 전 수석을 불러 지시 여부 등 사실관계를 확인할 방침입니다. 검찰은 국정원 특활비 사용처에 대한 본격적인 수사에 착수했습니다. 검찰은 김희중 전 대통령 부속실장을 연일 비공개로 조사 중입니다. 검찰은 김 전 실장을 상대로 국정원 특활비가 넘어오게 된 경위와 최종 사용처는 어딘지 집중 조사하고 있습니다. 이런 가운데 더불어민주당 박홍근 의원은 김 전 부속실장의 검찰 진술 내용이라며 국정원 특활비가 김윤옥 여사 측에 전달됐다고 주장했습니다. [박홍근/더불어민주당 원내수석부대표 : 달러로 환전해서 김윤옥 여사를 보좌하던 제2부속실장 쪽에 줬고 그 돈이 김윤옥 당시 여사의 명품구입 등에 쓰였다는 것입니다.] 이에 대해 검찰은 현재까지 수사과정에서 확인된 바 없다고 밝혔습니다. KBS 뉴스 이현기입니다.,정치\n",
            "\"국방부가 올해부터 감사원 지적사항을 인터넷과국방전산망에 동시에 게재하는 방안을 추진하고 있다. 국방부 관계자는 15일 \"\"정부부처의 정보공개 활성화 추세를 반영하고 국방행정의 투명성 제고와 부정부패ㆍ부조리 예방의식 확립 차원에서 군에 대한 감사원 감사결과를 공개하기로 했다\"\"고 밝혔다. 감사원 지적사항이 공개되면 군이 부패집단으로 오해를 사고 부정적인 여론에따른 국방비 확보의 어려움 등 부작용이 초래될 수도 있지만 폐부를 솔직하게 드러냄으로써 부조리 근절 의지를 보여주자는 차원에서 공개하기로 했다는 것이다. 이에 따라 국방부는 장관에게 감사결과 보고를 마치는 즉시, 대외비 및 업무에지장을 주는 사항을 제외한 나머지는 인터넷 홈 페이지( www.mnd.go.kr )와 국방전산망인 인트라넷에 공개키로 했다. 국방부 관계자는 \"\"국방부 인터넷 홈 페이지에 소개된 국방조직업무 메뉴에서 감사관실을 클릭하면 감사원 지적사항을 볼 수 있도록 준비하고 있다\"\"며 \"\"감사결과는감사처분 요약형식으로 공개하되 전투력 상실과 인권 시비 의혹이 없도록 해당 부대명칭과 담당자 이름은 공개하지 않을 계획\"\"이라고 말했다. 한편 감사원 인터넷( www.bai.go.kr )에는 고등훈련기(T-50) 양산실태 감사와 국방부 재무감사 등의 자료가 공개돼 있다.\",사회\n",
            "\"사진=JTBC 제공 개그맨 이수근과 김병만의 검증된 호흡이 다시 한번 빛났다. 이수근과 김병만은 연예계 대표 콤비로 손 꼽히는 절친이자 개그 동료다. 김병만이 KBS 17기, 이수근이 18기 공채로 입문하기 전부터 두 사람은 호흡을 맞추며 꿈을 키워왔고, 이런 검증된 케미스트리가 KBS2 개그콘서트부터 다양한 예능 프로그램까지 이어지고 있다. 두 사람은 개그콘서트에서 각자의 장점을 살린 코너로 먼저 이름을 알렸다. 김병만의 달인, 이수근의 키 컸으면 등 대표 코너는 아직까지 많은 이들에게 회자되고 있다. 지난해 5월에는 개그콘서트 900회 특집 메인 호스트로 함께 등장해 후배 사랑을 보여줬다. JTBC 초창기를 이끈 예능 프로그램 상류사회에서는 이수근과 김병만의 본격적인 콤비 호흡이 빛났다. 시청자들로부터 택배로 물품을 받아 나름의 고품격 삶을 누린다는 포맷에 다양한 미션이 더해져 큰 웃음을 자아냈다. 두 사람은 코미디와 버라이어티를 모두 잡았다. 사진=SM CC 제공 해당 프로그램이 2013년 종영한 뒤 두 사람이 다시 만난 건 지난해 SBS 정글의 법칙 in 코모도 편에서였다. 이수근은 생존을 마친 뒤 김병만은 존경할 수밖에 없다며 울먹였다. 김병만 또한 이수근의 존재만으로 즐겁다고 화답했다. 20년 절친다운 우정을 엿볼 수 있었다. 지난 3일 방송된 JTBC 한끼줍쇼에서도 이수근과 김병만의 진한 우정을 확인할 수 있었다. 두 사람은 단칸방 시절을 추억하며 뭉클해했다. 서로를 응원하는 감동적인 일화들이 시청자들에게 감동을 안겼다. 또한 개그맨답게 한끼 도전에서 보여준 너스레는 웃음을 자아냈다. 현재 이수근은 밤도깨비, 아는형님, 마스터키에서 활약하고 있다. 최근 종영된 나의 외사친과 강식당에도 출연했다. 김병만은 정글의 법칙을 이끄는 중이다. 센스를 타고난 이수근과 우직한 리더쉽의 김병만이 따로 또 같이 선사할 웃음이 앞으로도 기대된다. /hostory_star@fnnews.com fn스타 이호연 기자\",연예/문화\n",
            "\"\"\"며칠 전 서울 이수역 근처 한 술집에서 벌어진 쌍방 폭행 사건이 요즘 인터넷을 뜨겁게 달구고 있습니다. 우발적인 폭행 사건이 남성과 여성에 대한 혐오 논란으로 번지면서 성 대결 양상으로 확대되고 있습니다. 결국 경찰청장까지 나서서 엄정 수사를 약속했습니다. 무슨 일인지 김지숙 기자가 전해드립니다. [리포트] 종일 인터넷을 달궜던 이른바 &이수역 폭행 사건&. 그제 서울 이수역의 한 술집에서 남성 3명과 여성 2명이 서로 싸우다 여성 1명이 머리를 다쳤습니다. 단순 폭행으로 끝날 뻔 했지만, &여성 혐오& 발언으로 싸움이 붙었다는 인터넷 게시글이 올라오며 사건이 커졌습니다. 무슨 일이 있었던 걸까. 취재진은 여성 2명 중 1명을 직접 만났습니다. 여성은 사건 당시 찍은 동영상을 제시했습니다. 계단에서 한 남성이 여성의 팔목을 잡고 있습니다. [여성 A 씨/음성변조 : 계단에서 밀지 말라고! 밀지 말라고!] 남성이 여성을 밀치기도 합니다. 여성 측은 술집에서 남성들이 먼저 페미니즘을 비하하는 발언을 했고 밖에서는 계단 앞에서 발로 차 머리를 심하게 다쳤다고 주장했습니다. [여성 A 씨/사건 당사자/음성변조 : 페미니즘 관련적인 얘기를 했어요. 근데 저희가 들은 단어는 메갈X이다... 속닥속닥 거리고. 저희도 불쾌해서 &한남& 그런 단어들이 나온 거죠.] 하지만 인터넷에는 여성 측이 남성 측에 거친 욕설을 하는 영상이 올라와 반대로 &남성 혐오& 논란이 일었습니다. [A 씨/음성변조 : 내 OO가 네 OO보다 더 크다...] 남성들도 경찰 조사에서 여성들이 &남성 혐오& 발언을 했고, 계단에서 혼자 뒤로 넘어졌다고 진술한 것으로 알려졌습니다. [술집 직원/음성변조 : 저쪽 여자분들이 삿대질한 것 같던데. 안에선 싸움 안 났어요. 여기서 말다툼하다가 여기 나가서 사고 나고.] 사태가 커지자 민갑룡 경찰청장은 빠르고 엄정하게 수사하겠다고 밝혔습니다. 하지만 지나친 관심 탓에 사건 관계자들은 경찰 출석을 모두 연기했습니다. 경찰은 CCTV 확인 결과, 술집 안에서 여성들이 먼저 신체 접촉을 하고 소란을 피운 사실만 확인했다고 밝혔습니다. KBS 뉴스 김지숙입니다.\"\"\",연예/문화\n",
            "한 유튜버가 고양이 폭행 영상을 인터넷에 올려 네티즌의 공분을 사고 있다. 제보받은 동물권단체 ‘케어’는 영상 게재자로 보이는 사람을 찾아냈으며 경찰에 고발할 계획이다. 11일 밤 여러 온라인 커뮤니티와 SNS에 가정집 바닥에 누워있는 고양이가 이마 부근을 손으로 수차례 맞는 영상이 확산됐다. ‘더 쌔게 때려줘!!!’란 유튜브 계정에 올라온 것으로 폭행 당사자와 영상 게재자가 동일 인물일 가능성이 높다. 많은 네티즌이 댓글로 항의하자 “내가 왜 얘를 넘겨야 하나” “오늘 얘한테 칼 꽂는 거 보여줄 테니 잘 봐라” 등의 답을 남겼기 때문이다. 현재 이 계정은 삭제됐다. 네티즌이 이 계정의 게시물 목록을 캡처한 사진에 따르면 폭행 영상은 4개 올라왔다. 모두 ‘고양이 학대’라는 제목을 달았으며 1분을 살짝 넘긴 분량이다. 영상 2개는 고양이 머리를 툭툭 치는 장면만 담고 있지만 나머지 1개 영상 속 폭력은 심각한 수준이다. 남성은 고양이 목줄을 벽에 묶어 움직이지 못하게 한 뒤 이마를 여러 차례 세게 때렸다. 고양이는 축 늘어진 상태로 우는 소리를 냈다. 이 영상은 일부 네티즌에 의해 복사돼 몇몇 동물 보호 단체 SNS 페이지에 공개돼있다. 유튜브에서 영상을 본 네티즌이 알린 것이라고 한다. 케어에도 홈페이지와 이메일을 합쳐 40건 이상의 제보가 들어왔다. 케어 관계자는 “네티즌이 보낸 사진에 따르면 10일 오후 2시쯤 첫 영상이 올라왔던 것 같다”며 “부산에 거주하는 박모씨가 영상을 올린 것으로 추정하고 있다”고 12일 국민일보에 밝혔다. 이어 “확신은 못 하지만 영상 속 고양이가 몸을 떨고 있던 것으로 보아 이전에도 비슷한 상황이 있었을 수 있다. 고발장을 다 작성하는 대로 부산 경찰에 알릴 예정이다”고 덧붙였다. 청와대 홈페이지에 이 남성의 처벌을 요구하는 국민 청원도 등장했다. 글이 게시된 지 하루도 채 지나지 않아 벌써 5000명 이상이 동의했다. 청원자는 한 동물 보호 단체이며 남성의 신원과 관련된 정보를 제보받고 있다. 박은주 기자 wn1247@kmib.co.kr,연예/문화\n",
            "\"미성년 여자 단원을 성폭행한 혐의를 받고 있는 경남 김해 극단 ‘번작이’ 조증윤(50) 대표가 1일 구속됐다. 성폭력 피해를 폭로하는 미투 운동이 확산된 뒤 가해자로 지목된 인물 중에는 첫 구속 사례다. 창원지법 강희구 영장전담판사는 아동‧청소년성보호에 관한 법률 위반 혐의(위계에 의한 미성년자 간음)로 구속영장이 청구된 조 대표의 구속 전 피의자 심문(영장실질심사)에서 “도주 우려 등이 있다”며 구속영장을 발부했다. 조 대표는 이날 오후 3시쯤 창원지법에서 열린 구속 전 피의자 심문(영장실질심사)에 출석했다. 점퍼 모자를 뒤집어쓰고 고개를 숙인채 등장한 조 대표는 “혐의를 인정하느냐”는 취재진의 질문에 아무 말도 하지 않았다. “피해 여성들에게 할 말이 없느냐”는 질문엔 “정말 죄송하다. 깊이 사죄드린다”고 말했다. 조 대표는 2007년부터 2012년까지 극단 사무실과 승용차 등에서 미성년 단원 2명을 수차례 성폭행·성추행한 혐의를 받고 있다. 조 대표는 경찰 조사에서는 “서로 동의하에 (성관계)했다. 강제적으로 한 건 아니다”며 혐의를 부인했지만, 경찰은 피해자들 진술이 구체적이고 일관되며 이를 뒷받침할 참고인 진술도 나오자 조 대표에게 혐의가 있는 것으로 판단했다. 경찰은 조증윤 대표가 피해자 중 1명을 성폭행할 당시 동영상까지 촬영했다는 진술도 확보한 상태다. 최근 압수수색으로 확보한 조 대표의 휴대전화와 극단 사무실 컴퓨터 등 디지털 자료를 분석 중으로 알려졌다. 경찰은 피해 여성들의 진술 등을 토대로 조 대표에게 아동‧청소년성보호에 관한 법률 위반 혐의를 적용, 구속영장을 신청했다. 최민우 기자 cmwoo11@kmib.co.kr\",생활\n",
            "\"\"\"지난 2011년 일본 후쿠시마 원전 사고 이후 한국이 이 지역 수산물 수입을 지속적으로 금지한 것은 협정 위반이라는 WTO 1심 판결이 나왔습니다. 과학적 증명 없이 식품 안전을 이유로 수입을 금지 할 수 없다는 것입니다. 파리 박진현 특파원의 보도입니다. [리포트] 일본 후쿠시마 원전 사고 이후 한국 정부는 이 지역 농.수산물 수입을 금지해왔습니다. 사고가 났던 2011년에는 후쿠시마 지역 농·수산물 수입을 전면 금지했습니다. 그리고 2013년부터는 후쿠시마 인근 8개 현의 28가지 수산물에 대해 수입 금지를 유지해왔습니다. 이에 대해 일본은 지난 2015년 5월 한국 정부의 이같은 조치가 부당하다며 세계 무역 기구, WTO에 소송을 제기했습니다. WTO는 이에 대해 원전 사고 직후 한국이 취한 첫번째 수입 금지 조치는 정당했다고 판단했습니다. 하지만, 지금까지 지속적으로 수입을 금지한 것은 WTO 협정을 위반 한 것이라며 일본측의 손을 들어줬습니다. WTO는 과학적인 증명 없이 식품 안전을 이유로 수입을 금지할 수 없다고 규정하고 있습니다. 이번 판정은 1심에 해당하기 때문에 당장 후쿠시마 지역 수산물에 대한 수입 금지 조치를 해제해야 되는 상황은 아닙니다. 파리에서 KBS 뉴스 박진현입니다.\"\"\",사회\n",
            "\"\"\"재정정보 유출 의혹을 받고 있는 자유한국당 심재철 의원이 오늘(28일)도 청와대를 겨냥한 폭로전을 이어갔습니다. 청와대 직원들이 회의 참석 수당 2억 5천만 원을 부당하게 수령했다는 의혹인데, 청와대는 해당 금액은 정책 자문료라며 심 의원에 대한 법적 대응을 예고했습니다. 황현택 기자입니다. [리포트] 자유한국당 심재철 의원이 오늘(28일)은 청와대 직원들의 회의 참석 부당 수령 의혹을 추가로 제기했습니다. 청와대 직원 13명이 내부 회의에 참석할 때마다 10에서 25만 원씩, 모두 2억 5천만 원의 수당을 받아 정부 지침을 위반했다는 겁니다. 윤건영 청와대 국정상황실장과 송인배 정무비서관, 권혁기 춘추관장은 21차례, 315만 원, 김봉준 인사비서관이 14차례, 210만 원을 받았다고 실명도 거론했습니다. 김성태 원내대표는 김동연 기재부 장관, 박상기 법무부 장관 해임 건의안 발의를 검토하겠다고 밝혔고, 한국당 의원들은 대검찰청과 대법원을 방문해 심 의원 사무실압수수색을 강력 항의했습니다. 이에 대해 청와대는 심 의원이 말한 돈은 &회의 참석 수당&이 아닌 정식 임용 전에 받은 &정책자문료&로, 인수위 없이 정권이 출범하게 된 상황 때문이었다고 설명했습니다. 또 지난해 6월 임용 이후엔 회의 수당이 지급된 일이 없다고 반박했습니다. 이어 정책자문료 지급 대상자는 129명, 지급액은 4억 6천여만 원으로, 이는 지난 3월, 감사원 기관운영 감사에서 적합 판정을 받은 사항이라고 설명했습니다. 또 심 의원이 어제 지적한 업무추진비 부당 사용 의혹에 대해서도 평창 동계올림픽 때 고생한 경찰,경호인력 등을 지원하기 위해 사우나 비용을 대거나 치킨.피자 등을 구입한 비용이라고 설명했습니다. 청와대는 심 의원이 실명을 거론하며 일고의 가치도 없는 허위사실을 말하고 있다며 명예훼손 등 법적 대응을 검토하겠다고 밝혔습니다. KBS 뉴스 황현택입니다.\"\"\",정치\n",
            "\"\"\"KBS가 이번 남북정상회담 결과를 국민들은 어떻게 평가하는지 긴급 여론조사를 실시했습니다. 10명 중 9명 이상이 회담 성과를 긍정 평가했고, 북미 정상회담에서 성과가 있을 것이라는 기대도 높았습니다. 먼저, 김영인 기자의 보도입니다. [리포트] 남북 정상회담에 대한 평가를 물었습니다. 긍정 평가가 94.1%, 이가운데 매우 성과가 컸다는 답변도 63%로 나타났습니다. 지역별 편차가 거의 없었습니다. 가장 큰 성과로 꼽은 분야는 종전선언 추진이 가장 많았고, 완전한 비핵화 명기, 군사적 긴장완화와 적대행위 중지 등이 뒤를 이었습니다. 북한이 &판문점 선언&대로 핵과 미사일을 포기할 것으로 보느냐고 물어 봤습니다. 이행할 것으로 보는 응답자는 70%를 넘겼고, 26% 정도는 북한이 이행하지 않을 것으로 봤습니다. 남북관계를 적극적으로 발전시켜 나가기 위해 우선 추진해야 할 일로는 &군사적 신뢰 구축&이라고 응답한 사람이 가장 많았고 경제교류협력, 이산가족 왕래와 고향 방문, 전방위적 남북 고위급 회담 등이 뒤를 이었습니다. 비핵화 문제를 본격 다루게 될 북미정상회담 결과에 대해서는 91.8%가 성과가 있을 것이라고 답했습니다. KBS 뉴스 김영인입니다.조사기관 : KBS 방송문화연구소대 상 : 전국 만 19세 이상 남녀 1077명기 간 : 2018년 4월 30일조사방법 : KBS 국민패널 인터넷 설문조사(IPS)응 답 률 : 7.25%표본오차 : ±2.9%p (95% 신뢰 수준)\"\"\",연예/문화\n",
            "\"고환율의 필요성을 줄곧 강조해온 최중경 지식경제부 장관의 예상이 어긋나고 있다. 올해 들어 원달러 환율이 지속적으로 하락하고 있지만, 수출은 지난 7월 사상 최대치를 기록하는 등 호조세를 보이기 때문이다. 최 장관은 과거 기획재정부 재직시절 최틀러라는 별명이 붙을 정도로 고환율에 대한 정책의지가 높았다. 지경부로 자리를 옮긴 이후에도 이러한 생각은 변하지 않았다. 최 장관은 지난 5월초 취임 100주년 기자간담회에서 환율인하에도 수출이 잘되고 있다는 질문에 대해 \"\"나중에 문제가 될 것\"\"이라며 \"\"(수출)계약 하는 시점과 돈을 받는 시점은 다르다. 환율하락에 의한 효과는 몇 개월 후에 나타난다\"\"고 우려한 바 있다. 이어 \"\"현재 수출은 과거 환율을 적용받는다\"\"며 제품경쟁력 효과가 3~6개월 정도인 점을 감안하면 대책마련이 필요함을 시사했다. 그는 또 \"\"환율 인하는 곧 중소기업의 채산성을 떨어뜨려 공장폐쇄점을 앞당길 것\"\"이라며 \"\"공장 폐쇄점은 판매가격이 (환율하락 영향으로)변동비를 커버하지 못할 때 그렇다\"\"는 주장도 폈다. 최 장관은 지난달 중순 기자간담회에서도 \"\"원달러 환율이 1050원대까지 내려가 중소 수출업체의 경우 어렵다는 이야기를 많이 한다\"\"며 \"\"물가가 어려우니 환율을 내려 물가를 조절해야한다고 주장하는 사람들이 있는데, 이는 유통과정을 모르는 순진무구한 생각\"\"이라고 말했다. 그는 \"\"(물건이 들어올 때)수입에서부터 최종 소비자까지 여러 단계를 거치는데, 그 과정에서 환율인하폭만큼 최종 소비자가격에 반영되겠느냐\"\"며 \"\"산업적 측면에서 금융시장, 수급 등 종합적인 상황을 봐야지 물가에만 집중해 환율을 이야기하는 것은 적절치 않다\"\"고 강조했다. 이와 관련, 올해 들어 환율하락세가 지속돼 4월 1일 1091.00원, 5월 2일 1065.00원, 8월 1일 1049.20원을 기록하고 있다. 하지만 지난 7월 수출이 4월 환율에 영향을 받았다고 가정해도 사상 처음 500억달러를 넘어섰고, 무역흑자 규모도 사상 최대치인 70억달러를 돌파했다. 품목별 수출은 13개 주력품목 가운데 선박, 자동차, 철강, 석유제품 등 10개 품목이 두자릿수 증가세를 시현했고, 반도체·디스플레이만 감소했다. 완성차업체에서 국제금융 업무를 담당하는 한 관계자는 \"\"회사 입장에서 보면 매일 수출계약이 체결되고, 또 매일 자금이 들어오기 때문에 현재 환율이 바로 적용된다고 보면 된다\"\"는 입장을 밝혔다. 이에 대해 지경부 관계자는 \"\"일반적으로 환율이 수출에 미치는 영향은 3~4개월 후로 본다\"\"며 \"\"올 4분기쯤에는 현재 환율이 영향을 미칠 가능성이 크다\"\"고 내다봤다. 반면 박상현 하이투자증권 연구원은 \"\"과거에 비해 수출과 환율의 상관성이 떨어졌다\"\"며 \"\"현재 수출호황은 국내 수출 주력업체들의 경쟁력 자체가 높아졌기 때문\"\"이라고 평가했다. 이어 \"\"아무래도 환율이 오르면 성장에 다소 도움이 되겠지만 서민 물가안정에 기여하고 있는 만큼 현 시점에서 무리하게 고환율 정책을 펼 필요는 없다\"\"고 강조했다.\",경제\n",
            "\"싱글족·안전·자기만족상의, 주요 열쇳말 선정 올해 소비시장에서는 ‘3S’를 주목하라! 대한상공회의소는 4일 ‘2005년 소비 키워드 전망’ 보고서를 통해 독신가구(single), 안전(safety), 자기만족(self-satisfaction)을 얼어붙은 소비자 마음을 녹일 주요 열쇳말로 선정했다. 보고서는 “올해 1인 가구 수가 270만에 이를 것으로 보인다”며, 이들 ‘싱글족’의 관심을 끄는 상품이나 업종으로는 복합기능을 갖춘 가전제품과 정보통신기기, 텔레매틱스, 할인형 묶음상품, 결혼정보업, 파티문화 산업 등을 지목했다. 보고서는 또 범죄를 비롯한 각종 사회문제의 증폭과 함께 보안 상품이나 서비스 수요도 커질 것으로 내다봤다. 이에 따라 휴대전화로 집에 설치된 폐쇄회로를 살필 수 있는 서비스, 이민, 가정교육(홈스쿨링), 대안학교 등이 주목을 받을 것이라고 보고서는 밝혔다. 20대를 중심으로 자신을 과시하고, 자기만족을 추구하는 소비도 촉진될 것으로 전망됐다. 보고서는 미니홈페이지 서비스인 싸이월드와 치아 미백 바람 등이 이런 흐름을 반영한다고 지적했다. 보고서는 “이제 신세대뿐 아니라 중장년층도 자기만족을 위한 취미 활동에 시간과 비용을 기꺼이 집중할 것으로 예상된다”고 내다봤다.\",연예/문화\n",
            "\"[IMG1] 종영을 앞둔 SBS 주말드라마 ‘신기생뎐’(극본 임성한, 연출 이영희 손문권)에 대한 시청자 들의 거센 항의가 빗발치고 있다. 11일 방송통신심의위원회(이하 방통심의위)에 따르면 ‘신기생뎐’의 내용에 대한 민원이 계속해서 접수됨에 따라 드라마 제작 담당자를 조만간 출석시켜 의견을 청취할 예정이다. ‘신기생뎐’ 관계자가 방통심의위에 출석하는 것은 지난 5월에 이어 두 번째. 당초 50부작이었던 ‘신기생뎐’은 2회 연장 방송을 결정, 오는 17일을 끝으로 종영을 맞이한다. 종영을 2회를 앞둔 상황에 또 다시 징계위원회에 회부될 위기에 놓인 것. 앞서 방통심의위는 지난달 3일 ‘신기생뎐’의 일부 내용을 두고 “‘기생 머리 올리기’를 우리 고유의 전통문화인 것처럼 미화, 출생의 비밀 등 지나치게 왜곡된 상황과 비윤리적, 비현실적인 내용을 방송했다”는 ‘시청자에 대한 사과’와 더불어 해당 프로그램 관계자에 대한 징계 조치를 내린 바 있다. 이에 ‘신기생뎐’은 지난달 25일 방송에서 지난 4월2일 방송된 내용에 따른 사과의 뜻을 표명했다. 또 다시 이러한 논란이 불거진 것은 최근 ‘신기생뎐’에 등장하는 전반적인 내용 때문이다. 극중 아수라(임혁 분)에게는 할머니부터 장군, 아기에 이르기까지 귀신이 빙의돼 온갖 희귀한 증상들을 보이며 시청자들의 빈축을 샀다. 특히 지난 10일 방송에서는 아수라의 눈에서 레이저가 나오는 등 현실감이 없을 뿐더러 개연성 없는 스토리가 전개됐다. 이에 시청자들은 드라마를 집필한 임성한 작가에 대한 비난의 의견을 쏟아내며, 드라마 내용에 대해 민원을 제기했다. 종영까지 2회만을 남겨둔 ‘신기생뎐’이 또 다시 징계조치를 받게 될 것인지 관심이 집중된다. [이슈데일리 김하진기자]\",연예/문화\n",
            "\"\"\"이런 가운데, 한진그룹 일가의 해외 농산물 밀반입 의혹에 대해 농림축산검역본부가 수사에 착수한 사실이 KBS 취재결과 확인됐습니다. 박대기 기자의 단독 보도입니다. [리포트] 대한항공 직원이 제보한, 조양호 회장 일가의 비서에게 전달됐다는 종이상자입니다. 이 안에 여러 밀반입품이 담겨 수시로 회장 일가에게 전달됐다는 겁니다. &사모님& 지시 사항이라며 &제일 좋은 것& 을 사 보내라는 또 다른 직원의 메일도 공개됐습니다. 농림축산 검역본부가 별도 수사팀을 꾸려 한진 일가의 밀반입 실태 수사에 착수한 건, 대한항공 직원들이 실어나른 것으로 보이는 이 밀반입품들 가운데 수입이 금지된 해외 특산품들도 다수 포함됐을 걸로 보고 있기 때문입니다. 대한항공 해외 직원들이 중국산 비파와 터키산 살구, 그리고 인도산 망고 등을 전달하는데 동원됐다는 구체적인 의혹까지 제기된 상탭니다. 수사팀은 우선 출입국 기록 등을 확인하며 수입금지 품목을 들여오지는 않았는지, 수입 가능한 거라도 검역은 제대로 이뤄졌는지 조사하고 있습니다. 검역본부 관계자는 전달 받은 특산물이 여전히 남아 있을 가능성은 크지 않아, 회장 일가의 지시가 담긴 문건 등을 확보하는데도 주력하고 있다고 밝혔습니다. 필요할 경우, 관련자도 소환해 조사할 계획입니다. 농림축산검역본부는 관련 법을 어길경우 3년 이하의 징역이나 3천만 원 이하의 벌금에 처할 수 있다며 조사 결과에 따라 원칙대로 처리하겠다고 밝혔습니다. KBS 뉴스 박대기입니다.\"\"\",사회\n",
            "\"\"\"가상화폐 거래소 코인 레일이 해킹 공격을 당해 거래가 전면 중단됐습니다. 경찰도 서버 자료를 분석해 해킹 경로 추적에 나섰습니다. 김범주 기자의 보도입니다. [리포트] 국내 7위의 가상화폐 거래소 코인 레일이 해킹 공격을 당해 거래를 전면 중단했습니다. 코인 레일은 어제 새벽 1시쯤, 한 시간에 걸친 해킹 공격으로 거래소가 보유하고 있던 가상화폐가 유출됐다고 밝혔습니다. 해킹으로 유출된 가상화폐는 펀디엑스, 애스톤, 엔퍼 등 아홉 종류입니다. 코인 레일은 거래량 기준 국내 7번째 규모의 거래소로, 유출된 가상화폐는 코인 레일 보유 가상화폐의 30%로 파악되고 있습니다. 코인 레일은 홈페이지 공지를 통해, 나머지 70%의 보유 가상화폐를 온라인에서 분리된 &콜드 월렛&으로 옮겼으며, 유출된 가상화폐에 대해선 한국인터넷진흥원, 경찰과의 협조를 통해 회수하겠다고 밝혔습니다. 경찰은 코인 레일로부터 제출받은 접속 기록 등을 토대로 해킹 경로를 분석하는 한편, 업체 측의 과실 여부에 대해서도 조사할 방침입니다. KBS 뉴스 김범주입니다.\"\"\",연예/문화\n",
            "\"[헤럴드경제 스타&컬처팀=이은영 기자] 배구선수 김연경과 전 국가대표 유도선수 조준호이 열애설에 휘말렸던 과거가 재조명 받고 있다. 지난해 2월 방소된 MBC '나혼자산다'에 출연했던 조준호는 과거 열애설이 났던 배구여제 김연경과 자연스럽게 연락하는 모습을 보여줬다. 당시 그는 김연경에게 친근한 말투에 깜찍한 이모티콘을 더한 메시지를 보냈다. 조준호는“태릉선수촌에 썸도 타지 않냐”라는 질문에 \"\"절대 아니다”라며 오로지 운동의 길만 걸었다고 강조했다. 조준호와 김연경은 과거 SNS에 올린 사진 때문에 열애설에 휩싸인 바 있다. 지난해 3월 KBS 쿨FM ‘박명수의 라디오쇼’에 게스트로 출연한 조준호는 열애설에 대해 묻자 \"\"그 친구에게 피해를 주는 것 같아서 송구스럽다. 아무 것도 없었다. 진짜 사귀면 사진을 올렸겠냐. 김연경은 너무 좋은 친구다.예전부터 팬이었는데 런던 올림픽 때 친해져 같이 사진을 찍은 것이다\"\"고 해명했다. 한편 김연경은 현재 중국리그에서 뛰고 있으며 그가 속한 상하이 브라이트 유베스트를 17년 만의 정규리그 우승을 차지했다. culture@heraldcorp.com - Copyrights ⓒ 헤럴드경제 & heraldbiz.com, 무단 전재 및 재배포 금지 -\",스포츠\n",
            "\"서울시내 버스의 교통카드 시스템이 11일 장애를 일으켜 서울시가 복구때까지 시민들에게 무임승차를 결정했다. 서울시는 \"\"오늘 오전 5시께부터 시내버스 단말기가 작동하지 않는다는 신고가 접수됐으며 갈수록 신고가 늘어나 승객들의 불편을 줄이기 위해 시스템이 복구될때까지 무임승차를 결정했다\"\"고 밝혔다. 이 관계자는 \"\"운행 중인 시내버스 가운데 500대 가량을 제외하고는 모두 카드 단말기가 정상 작동되지 않고 있다\"\"며 \"\"프로그램을 단말기에 내려받는 과정에서 과부하가 발생한 것으로 추정되고 있으나 정확한 원인을 조사하고 있다\"\"고 말했다. 한편 서울시는 지난해 7월 1일 버스, 지하철의 대중교통체계를 개편하는 과정에서 버스와 지하철의 교통카드 단말기가 오작동을 일으켜 무임승차를 결정한 바있다.\",생활\n",
            "\"\"\"&아메리칸 드림&을 꿈꾸며 미국을 향하고 있는 중남미 이민자 행렬이 7천여 명으로 불어났습니다. 트럼프 대통령은 이들의 미국행을 국가 비상사태로 규정하고 이민자들이 대거 포함된 중남미 3개국에 대해 원조를 중단하겠다고 경고했습니다. 로스앤젤레스 최동혁 특파원의 보도입니다. [리포트] 1.6 Km에 이르는 긴 행렬이 꼬리를 물고 있습니다. 멕시코 국경에서 진입이 막히자 뗏목을 이용하거나 수영을 해 국경을 건넙니다. 중미 국가에서 탈출해 온 이민 행렬입니다. 이들은 모국의 가난과 범죄를 피해 미국에 정착을 바라며 무작정 걸어가고 있습니다. [온두라스 출신 이민자 : 우리는 범죄자들이 아닙니다. 일하고 싶어 미국으로 가는 겁니다. 더 나은 삶을 위해 일자리가 필요해요. 이것이 우리가 오는 이유이고 메시지입니다.] 세계에서 가장 살인율이 높은 온두라스로부터 탈출한 160명 규모의 이민자들이 멕시코 국경까지 넘어서면서 규모가 7천여 명으로 불어났다고 현지 언론은 전했습니다. 미국 남부 국경에 가까워질수록 멕시코에 체류했던 중미 이민자들까지 속속 행렬에 합류할 것으로 보입니다. 트럼프 대통령은 대규모 중미 이민 행렬을 연일 비난했습니다. 트위터를 통해 국가 비상사태라면서 이를 막지 못한 온두라스, 과테말라, 엘살바도르 3개국에 대해 원조를 중단하겠다고 밝혔습니다. [트럼프/미국 대통령/지난 20일 : 이민 행렬이 계속 올라온다면 군대를 동원하고 국경을 차단할 겁니다.] 중간 선거를 앞두고 반이민 정책을 찬성하는 표심을 결집하려는 의도지만, 자칫 미국 국경에서 충돌이 일어나거나 이들의 난민 신청권을 인정하지 않을 경우 국내외적 비판에 직면할 수도 있습니다. 로스앤젤레스에서 KBS 뉴스 최동혁입니다.\"\"\",연예/문화\n",
            "\"\"\"이곳 노르웨이 북부 지역은 최근 십 년 사이 세계 곳곳에서 북극광을 보기 위해 찾아오는 관광객들이 두 배 이상 늘었습니다. 오로라라고도 불리는 북극광은 붉은색, 녹색, 보라 등 신비로운 색채들로 밤하늘을 수놓을 뿐만 아니라 광선, 소용돌이 등으로 그 형태가 쉼 없이 바뀌는데요. 살면서 꼭 한번은 봐야 할 자연 절경이라며 가까운 유럽에서부터 인도, 일본 등 외국 관광객들이 몰려드는데요. 인터뷰 북극광을 보기 위해 온 것인데, 노르웨이 북부가 가장 이상적인 곳인 것 같습니다. 북극광 외에도 아이스 호텔, 스칸디나비아 크랩 관광, 그리고 범고래 관광 등 자연 속에서 특별한 경험을 하며 노르웨이의 매력에 푹 빠져듭니다. 인터뷰 이곳의 삶과 자연, 특히 자연의 아름다움에 중독될 것 같습니다. 갑자기 늘어난 외국 관광객들로 이들을 맞을 충분한 숙소와 식당 등이 모자랄 정도여서 지역 관광 업계는 서비스 시설을 확충할 계획입니다. KBS 월드뉴스입니다.\"\"\",연예/문화\n",
            "\"[IMG1] 8월 3일 오전 일본 도쿄에서 열리는 ‘SMTOWN LIVE WORLD TOUR’ 공연 차 SM 소속 가수들이 김포국제공항을 통해 출국하고 있는 가운데 많은 팬들이 몰려 공항이 마비됐다. 이번 ‘SMTOWN LIVE WORLD TOUR’에서는 동방신기(유노윤호, 최강창민), 슈퍼주니어(이특, 예성, 강인, 신동, 성민, 은혁, 동해, 시원, 려욱, 규현), 소녀시대(윤아, 수영, 효연, 유리, 태연, 제시카, 티파니, 써니, 서현), 샤이니(온유, 종현, Key, 민호, 태민), 에프엑스(빅토리아, 크리스탈, 엠버, 설리, 루나), 보아, EXO(카이, 루한, 타오, 첸, 세훈, 레이, 시우민, 백현, 디오, 수호, 크리스, 찬열) 등 SM 소속 아티스트들이 총출동해 다채로운 무대를 가질 예정이다. [김포공항=연예부 송재원기자]\",연예/문화\n",
            "\"이기택씨 별세, 충호(계원예술대학교 교무팀장) 충희(현대·기아자동차 홍보실 부장)씨 부친상, 김민희(주부) 신수진(봉은중학교 교사)씨 시부상 = 17일 안양 한림대학교성심병원 장례식장, 발인 19일 오전 08시20분(031-384-1247) 한영식씨 별세, 승훈(서울경제신문 마케팅국 차장) 승철(KPGA)씨 부친상=16일 경남 거창장례식장, 발인 19일 오전 6시30분(055-944-4444) 함정자씨 별세, 조성민(연합뉴스 대전충남취재본부 서산주재 부국장대우)씨 모친상=16일 대전 성심장례식장, 발인 18일 오전 8시(042-522-4494) 홍판례씨 별세, 문환규(광주전남연구원 연구기획 본부장)씨 모친상=16일 광주 천지장례식장, 발인 18일 오전 7시(061-931-9300)\",생활\n",
            "\"교육인적자원부는 전문대생의 외국기업 및 외국 진출 국내기업 취업 기회를 늘려주기 위해 전문대생 해외 인턴십 국비 지원 사업을 벌인다고 30일 밝혔다. 교육부는 올해 20억원의 예산을 확보해 1학기에 75명을 뽑고 2학기에는 255명을 선발해 내보내기로 했다. 학생 한명당 지원 경비는 800만원(국비 600만원, 소속 전문대 200만원)이며 선정된 학생은 국내 대학에서 외국어 집중교육을 받은 뒤 4개월 동안 파견되고 학점도 20학점까지 인정한다. 신청 요건은 파견 대상국 언어를 구사할 수 있어야 하며 전문대 1학년 2학기 수료자로 40학점 이상 취득해야 하고 성적은 비(B°)이상이다. 문의는 한국전문대학교육협의회(kcce.or.kr, 02-364-1545)로 하면 된다.\",사회\n",
            "\"사회복지법인 감리회 태화복지재단(대표이사 전명구)은 지난 2018년 3월 5일 기독교 대한감리회 늘푸른교회 윤연수 목사와 이영호 총무가 참석한 가운데 태화복지재단 사회복지사업을 위한 후원금 200만원 전달식을 진행했다. 이날 후원금 전달식과 함께 지난 4년간 후원한 후원금 400만원에 대한 후원금 사용 결과 보고도 진행됐다. 지난 2014년 첫 기부를 시작으로 5년째 후원을 이어오고 있는 늘푸른교회 윤연수 목사는 “소외된 이웃을 향한 하나님의 긴팔 역할을 하는 태화복지재단의 사명에 동참하며, 앞으로도 지속적인 후원으로 함께 하겠다”고 약속했다. 한편, 태화복지재단은 1921년 한국 최초로 설립된 사회복지기관으로 국내 41개의 사회복지시설과 캄보디아, 라오스 해외 센터를 통해 소외된 이웃의 삶의 질을 향상시키는데 앞장서고 있다. 디지털기획팀 이세연 lovok@kmib.co.kr\",생활\n",
            "\"국민은행은 제117회차 로또복권의 1등 당첨자가 9명이 나와 각각 15억5천837만8천334원의 당첨금을 받게 됐다고 26일 밝혔다. 국민은행은 이날 오후에 실시한 공개추첨에서 행운의 6개 숫자 `05, 10, 22, 34,36, 44'를 모두 맞힌 1등 당첨자는 9명으로 지난주 판매액을 기준으로 한 1등 총당첨금 140억2천540만5천6원을 나눠 갖는다고 설명했다. 행운의 숫자 6개중 5개를 맞히고 보너스 숫자 `35'를 찍은 2등은 50명으로 각각 4천675만1천350원의 당첨금을 받게 됐다. 5개 숫자를 맞힌 3등(당첨금 142만3천610원)은 1천642명, 4개 숫자를 맞힌 4등(당첨금 5만9천662원)은 7만8천361명이며 3개 숫자를 맞혀 5천원의 고정 상금을 받는5등은 전국적으로 126만7천826명에 달한 것으로 각각 집계됐다.\",생활\n",
            "삼성 현대ㆍ기아차 등 상위 6대그룹의 순환출자 해소에 최소 14조6000억원이 든다는 조사결과가 나왔다. 13일 재발닷컴에 따르면 삼성 현대차 롯데 현대중공업 한진 한화 등 6개 그룹 순환출자 해소 규모는 14조6440억원으로 추정됐다. 이는 핵심 순환출자를 대상으로 한 것이며 지난 2일 종가와 지난해말 장부가치로 계산한 수치다. 이는 9조6000억원으로 계산한 경제개혁연구소 수치보다 다소 높은 편이다. 경제개혁연구소는 지난 6월 1일 종가 기준으로 계산했다. 재벌닷컴 조사결과에 따르면 현대차그룹은 현재 순환출자 해소 대상이 되는 지분가치는 6조860억원으로 가장 높았다. 삼성그룹은 4조3290억원으로 예상된다. 삼성은 15개의 순환출자 형태를 가지고 있으며 이 가운데 최소한 8개사의 연결지분을 해소해야 한다. 롯데그룹은 19개 순환출자 연결고리 가운데 최소 6개사의 연결지분을 해소하는데 2조4570억원이 예상된다. 현대중공업그룹은 1개의 순환출자 연결고리를 해소하는데 1조5550억원이 예상된다. 한진그룹은 6개 순환출자 연결고리를 가지고 있으며 이 가운데 최소 1개사의 지분을 처리하면 순환출자 고리가 끊어진다. 순환출자 해소에 해당하는 지분가치는 2130억원이다. 한화그룹은 순환출자 해소에 해당하는 최소 지분가치는 겨우 40억원뿐이다. 한화손해보험이 보유한 ㈜한화의 지분 0.19%가 이에 해당한다.,경제\n",
            "\"\"\"요즘 대법원 앞은 날마다 사법행정권 남용 사태를 규탄하는 집회와 시위로 북적이고 있습니다. 사법불신이 고조되는 가운데 법원 내부 갈등도 심화되는 모습입니다. 김유대 기자의 보도입니다. [리포트] 제주 해군기지와 밀양 송전탑 사건 마을 주민들이 대법원 앞에 모였습니다. [규명하라! 규명하라! 규명하라!] 대법원이 자신들의 사건을 재판거래 대상으로 삼았다며 분통을 터뜨렸습니다. [김영자/밀양 송전탑 마을 주민 : 검찰이 되든 특검이 되든 사법부에 대한 철저한 진상 규명과 처벌, 그리고 재심 청구를 통해 진상을 밝힐 것이다.] KTX 해고 승무원, 강제 징용 피해자, 전교조 등, 대법원 앞 시위는 2주 째 단 하루도 빠지지 않고 계속되고 있습니다. 법원 공무원 노조는 관련자들의 처벌을 촉구하며 단식 농성에 들어갔습니다. 법원 내부에선 이번 사태 해법을 놓고 갈등이 고조되는 양상입니다. 어제 법원장 간담회에선 법원 차원의 형사조치가 부적절하다는 의견이 모아졌습니다. 하지만 오늘도 이어진 일선 판사회의에선 수사가 필요하다는 강경한 의견이 대세였습니다. 김명수 대법원장은 한 발 뒤로 물러서는 모양샙니다. [김명수/대법원장 : 기본적으로 처음 출발할 때 말씀드렸다시피 원칙적으로 법원 내에서 해결하는 것을 제일 중요한 한 부분으로 생각하고 있습니다.] 이런 가운데 일부 법원장들과 고법부장판사 등 고참급 판사들은 법원이 나서서 고발조치 등을 하는 게 부적절하다는 뜻이지 검찰 수사를 거부하는 건 아니라고 말해 주목을 끌었습니다. 재판 거래가 있었다면 해당 법관은 탄핵 대상이기 때문에 탄핵권을 갖고 있는 국회가 국정조사하는 방법도 제시되고 있습니다. KBS 뉴스 김유대입니다.\"\"\",사회\n",
            "\"최근 북한산의 명칭이 일제잔재이며 본래의 이름은 삼각산(三角山)이라고 하는 내용의 언론보도가 있었다. 북한산의 명칭에 대한 논란이 본격적으로 시작된 것은 1990년 중반 서울시 강북구에서 삼각산 회복 운동을 시작하면서 부터이다. 명칭 논란의 핵심은 북한산은 일제 강점기에 조선총독부의 고적조사위원이었던 금서룡(今西龍)의 경기도 고양군 북한산 유적조사보고서에 북한산을 명기했고 1983년에 북한산을 국립공원으로 지정하면서 역사적 배경을 알지 못하고 북한산 국립공원으로 정했다는 것이다. 일부 유명 산악인도 삼각산을 북한산의 본명으로 알고 있다고 인터뷰를 통해 언론에 의견을 밝히기도 했다 . 삼국사기도 분명히 '북한산'이라고 기록 그러나 위와 같은 북한산의 일제 잔재 명칭설은 잘못된 주장이다. 삼국사기를 보면 '북한산'이 고려시대 이전부터 보편적으로 사용된 공식 명칭임을 알 수 있다. 삼국사기 신라본기 진흥왕 16년(서기555년)에는 \"\"冬十月, 王巡幸北漢山, 拓定封彊 10월에 왕이 북한산에 순행하여 강역을 확정했다\"\"라는 기록이 보이며, 동년 11월에는 \"\"至自北漢山 왕이 북한산에서 돌아왔다\"\"라는 기록이 있다. 북한산이 한산(漢山)의 북쪽에 있는 지역명이며 산 명칭이 아니라는 일부 주장도 있으나 비록 한산 북쪽의 지명에서 시작되었다 하더라도 위의 기록을 보면 북한산은 시간이 지나면서 단독의 산 명칭이 되었음이 명확하다. 북한산에 축성된 북한산성 명칭은 그 역사가 더욱 오래 되었다. 삼국사기에 \"\"백제 개루왕 5년(서기 132년) 2월 북한산성을 축조했다\"\"는 기록이 보이며 이후 고구려와 신라의 영토전쟁 등 북한산성에 대한 고대사의 기록은 수 십 곳에 이른다. 삼국사기 고구려조에 \"\"본래 고구려의 북한산군(北漢山郡)이었으며, 이후 신라시대인 668년에 문무대왕이 군사를 이끌고 북한산성에 이르렀다\"\"는 내용도 있다. 고려사 및 고려사 절요 등은 북한산을 삼각산으로 표기했다. 고려는 북한산의 주요 봉우리인 백운대, 인수봉, 만경대 세 봉우리를 가리켜 삼각산으로 부른 것이다. 조선시대에도 삼각산이란 이름이 더 많이 사용되었다. 그러나 조선 숙종 때 북한산성을 축조하면서 북한산이란 이름이 다시 거론된다. 1711년 산성이 완료되자 성의 정식 명칭을 북한산성, 북한성으로 표기했다. 현재 북한산 내의 북한산성 금위영 이건기비를 비롯하여 조선조 철종대의 북한산성 승도 절목문, 그리고 영조대에 발간된 북한지(北漢誌)의 내용을 보면 일제강점기 이전에 북한산이 공식적인 명칭으로 사용되었음을 알 수 있다. 숙종 이후 영조, 철종, 고종을 거쳐 1906년 독일인 헤르만 산더의 여행기에도 북한산으로 표기되었다. 고양시 '북한산성 복원 전담팀' 활동 주목 북한산의 주봉인 백운대 인수봉은 전 지역이 고양시 덕양구 북한동 산1-1번지이며 만경대는 고양시와 강북구의 경계를 이룬다. 북한산은 문화유산의 보고(寶庫)이다. 북한산 내에는 사적, 보물, 유형문화재, 기념물 등 수십 점의 문화유산이 있으며 현재 발굴조사 등을 통해 그 역사적 중요성과 문화재적 가치가 속속 밝혀지고 있다. 문화재청 및 경기도, 고양시, 서울시에서 북한산의 복원과 조사를 위해 노력하고 있으며 특히 고양시에는 북한산성 복원 전담팀이 구성되어 다양한 문화사업을 추진하고 있다. 북한산은 삼국시대부터 사용한 고유한 명칭임을 다시 한번 밝혀두며 앞으로도 많은 시민들이 이용하는 명산이 이름으로 인해 혼란이 발생되지 않았으면 한다. 정동일/고양시 역사 문화재 전문위원\",연예/문화\n",
            "\"\"\"험준하기로 이름난 장가계 산악도로인 &판산도로&를 롱보드를 타고 활강한 중국 청년이 화제입니다. [리포트] 장가계 톈먼산 판산도로는 전체 길이 10.77km 해발 낙차 천 백m로, 기암절벽과 맞닿은 99개의 굽이 고개는 험준하기로 유명해 99개의 하늘길 고개로도 불립니다. 올해 21살인 쓰촨성 청두 출신의 롱보드 선수 칭윈후이씨가 굽이 고개 완주에 도전합니다. 칭씨는 자세를 낮춰 몸의 중심을 유지하는 방법으로 굽이 고개를 안전감 있게 내려옵니다. 180도 각도의 최악의 코스인 &피차만&과 나선형 내리막길 케이크탑 그리고 노면이 미끄러운 &괘벽만&과 판산도로 유일한 오르막길까지. 99개의 고개를 무사히 통과합니다.[칭윈후이/롱보드 선수 : 99개의 고개를 무사히 통과한 것은 체력과 인내력에 대한 도전이라고 생각합니다.] 실수 하나 없이 18분 만에 굽이 고개를 완주한 칭 선수는 롱보드를 알리기 위해 이번 도전을 계획했습니다.\"\"\",생활\n",
            "\"광주 남부경찰서는 26일 초등학생을 납치, 감금하고 성폭행한 혐의(특정범죄가중처벌법상 약취유인 등)로 윤모(51)씨를 긴급체포했다. 경찰에 따르면 윤씨는 25일 오후 1시10분께 광주시 남구 모 교회 앞에서 피아노학원에 가던 A(9)양에게 접근, \"\"아빠 친구인데 데려다 주겠다\"\"고 속인뒤 오토바이에태워 자신의 비닐 움막으로 납치, 17시간 동안 감금하고 성폭행한 혐의다. 윤씨는 이날 오전 4시50분께 A양을 집에 데려다 주고 도주했으나 A양이 기억을되살려 집에서 10km떨어진 윤씨의 비닐 움막을 찾아내 결국 덜미가 잡혔다. 한편 윤씨는 출동한 경찰관에게 돌을 던지고 둔기를 휘두르며 20여분간 격렬하게 반항하다 격투끝에 붙잡혔다. 경찰은 윤씨에 대해 구속영장을 신청하는 한편 여죄를 추궁하고 있다.\",사회\n",
            "\"미국이 한국을 환율조작국으로 지정하지 않았다. 다만 관찰대상국에는 여전히 포함되고 있다. 미국 재무부는 13일(현지시간) 공개한 ‘미국의 주요 교역국의 환율정책’이라는 제목의 보고서에서 한국 중국 일본 독일 스위스 인도를 환율조작 관찰대상국으로 지정한다고 밝혔다. 이번 보고서에서 환율조작국으로 지정된 국가는 없다. 한국은 지난해 10월에 이어 이번에도 관찰대상국에 들어갔다. 인도는 새로 관찰대상국에 포함됐다. 미국은 1988년 종합무역법을 제정해 환율조작국을 지정해왔다. 2015년에는 교역촉진법 제정을 통해 환율조작국의 기준을 ‘대미 무역흑자 200억 달러 이상’ ‘경상수지 흑자 국내총생산(GDP) 대비 3% 이상’ ‘GDP 대비 외환 순매수 비중 2% 초과‘ 등으로 세분화했다. 이 요건 3개 중 2개를 충족할 경우 관찰대상국으로 분류된다. 또 대미 무역흑자 규모가 과다할 경우 요건과 관계없이 관찰대상국으로 지정될 수 있다. 한국은 대미 무역흑자, 경상수지 흑자 GDP 대비 3% 초과에 해당돼 관찰대상국으로 분류됐다. 조성은 기자 jse130801@kmib.co.kr\",사회\n",
            "\"\"\"지난달 가계대출 증가폭이 크게 둔화된 것으로 나타났습니다. 하지만 자영업자 대출은 석 달 만에 가장 많이 늘어 풍선 효과 우려가 여전한 상황입니다. 국현호 기자가 보도합니다. [리포트] 금융위원회와 금융감독원 집계 결과 지난달 국내 가계 대출은 3조 3천억 원이 늘었습니다.2월 기준으로 볼 때 2015년엔 증가액이 4조 4천억 원, 지난해엔 6조 8천억 원까지 늘었지만 올해 증가 폭은 지난해의 절반 이하로 떨어진 겁니다. 제2금융권을 중심으로 대출 증가세가 크게 꺾인 영향이 큽니다. 지난해와 비교할 때 은행권 가계대출 증가액은 4천억 원 줄었지만, 제2금융권의 경우 3조 천억 원 급감했습니다. 설 상여금으로 대출 수요가 줄어든데다, 특히 제2금융권의 주택담보대출이 크게 줄었기 때문으로 분석됩니다. [최종구/금융위원장 : (지난해부터) 가계부채 대책을 만들어왔고 이러한 대책이 어느 정도 성과를 거두고 있다고 생각합니다.] 하지만 자영업자 대출이 크게 늘어난 것은 우려되는 부분입니다. 한국은행 집계 결과 지난달 은행권의 자영업자 대출 잔액은 한 달 전보다 2조 4천억 원 늘어났습니다. 지난해 11월 이후 3개월 만에 증가 폭이 가장 큽니다. 올 들어 지난달까지 증가액도 지난해보다 9천억 원 많습니다. 한국은행은 중소기업 경기가 개선되면서 자영업자 대출이 확대되고 있다고 평가했지만, 부동산 임대업을 위주로 대출이 커지고 있다는 점에서 가계대출 규제 정책에 따른 풍선효과라는 우려도 제기되고 있습니다. KBS 뉴스 국현호입니다.\"\"\",경제\n",
            "\"\"\"아랍에미리트 왕세제의 최측근인 칼둔 아부다비 행정청장이 내일(8일) 우리나라를 방문해 문재인 대통령을 만날 것으로 알려졌습니다. 칼둔 청장의 방한을 통해 임종석 비서실장의 아랍에미리트 방문을 둘러싼 의혹들이 해소될 수 있을지, 관심이 쏠리고 있습니다. 정아연 기자의 보도입니다. 리포트 아랍에미리트 권력 서열 2위 칼둔 아부다비 행정청장이 내일(8일) 오전 전용기 편으로 김포공항에 도착할 것으로 전해졌습니다. 칼둔 행정청장은 지난달 임종석 대통령 비서실장이 아랍에미리트 왕세제를 예방했을 당시 배석한 인물로 아랍에미리트 원자력공사 이사회 의장을 맡고 있습니다. 칼둔 청장은 1박2일 방한 기간 문재인 대통령을 예방할 것으로 알려졌습니다. 칼둔 청장은 방한을 통해 한국과 아랍에미리트 간 대규모 방산 협력 계약, 인프라 분야 각종 계약 체결은 물론 양국 간 교류와 협력 강화 방안을 논의할 거란 관측입니다. 또 문 대통령이 지난해 6월 모하메드 왕세제와 통화 당시 바라카 원전 1호기 준공식에 참석을 추진해보겠다고 밝혔던 만큼 아랍에미리트 방문 문제에 대해서도 논의할 가능성이 있습니다. 무엇보다 임종석 특사 파견으로 촉발된 각종 의혹에 대해 사실 여부를 밝힐 지 주목됩니다. 의혹은 크게 두 가지로 우선 이명박 정부 시절 &유사시 군사 지원& 등 아랍에리미트와 군사협력 이면계약을 체결했고, 현 정부에서 송영무 국방장관을 보내 이를 수정하려다 아랍에리트측의 불만을 샀다는 겁니다. 또 이로 인해 현지 국내 기업들에 대한 아랍에미리트의 보복이 본격화되자 임 실장이 급하게 방문해 봉합했다는 것으로 칼둔 청장의 방한으로 이런 의혹들이 해소될 지 관심이 쏠리고 있습니다. KBS 뉴스 정아연입니다.\"\"\",정치\n",
            "\"가수 정준영이 팬들에게 청첩장을 보냈다. 신랑은 정준영, 신부의 이름은 ‘빈 칸’이다. 정준영은 29일 새 솔로 싱글 ‘피앙세(fiancee)’ 음원과 뮤직비디오를 공개했다. 정준영이 지난해 2월 발표한 정규 1집 ‘1인칭’ 이후 약 1년 1개월 만에 새롭게 발표하는 솔로곡이다. 싱글 앨범은 ‘피앙세’라는 노래 제목에 맞춰 결혼식 초대장 스타일로 디자인됐다. 신랑 이름에는 정준영을, 문구와 장소에는 노래 가사를 넣었다. 날짜는 음원 발표일이다. 센스있는 앨범 디자인은 팬들에게 호평을 얻고 있다. “이름 쓰면서 설렜다”거나 “팬사인회에 가져가야겠다”는 댓글이 이어졌다. 온라인뉴스부\",연예/문화\n",
            "\"\"\"방한 중인 양제츠 중국 공산당 중앙정치국 위원이 북중 정상 간 만남이 남북 정상회담에 도움을 줄 것이라고 밝혔습니다. 정의용 청와대 국가안보실장은 오늘 방한한 양제츠 위원과 만나 북-중 정상회담 결과를 비롯한 한반도 현안을 폭넓게 논의했습니다. 보도에 김기현 기자입니다. [리포트] 정의용 청와대 국가안보실장이 시진핑 주석 특별 대표 자격으로 방한한 양제츠 중국 공산당 중앙정치국 위원을 서울 시내 한 호텔에서 만났습니다. 정의용 실장은 이 자리에서 북중 정상회담을 성공적이라고 평가하며 한반도 비핵화와 함께 남북과 북미 정상회담에 대한 김정은 위원장 의지를 재확인 한 것은 의미가 크다고 말했습니다. 정 실장은 한반도 문제에 대한 한중간 공통 인식을 바탕으로 전략적 소통이 긴밀히 이뤄지고 있다며 매우 만족스럽게 생각한다고 밝혔습니다. 이에 대해, 양제츠 위원은 김정은 북한 노동당 위원장이 중국을 비공식 방문해 시진핑 주석과 오랜 시간 의견을 교환했다며 이번 방문이 한반도 비핵화와 평화 안전 보장, 정치적 협의를 통한 문제 해결 등에 도움을 줄 것이라고 밝혔습니다. 양 위원은 특히, 북중 정상회담이 앞으로 개최될 남북 정상회담에서 더 많은 성과를 낼수 있도록 도움이 될 수 있다고 강조했습니다. 그러면서 대한민국 정부가 북중 정상회담을 높이 평가한 데 대해서도 같은 입장이라며 최근 한반도 정세 변화에 맞춰 기회를 잡고 대승적 발전을 함께 추진해야 할 것이라고 말했습니다. 양 위원은 내일 청와대를 찾아 문재인 대통령에게 북중 정상회담 결과 등을 설명합니다. KBS 뉴스 김기현입니다.\"\"\",정치\n",
            "\"\"\"서지현 검사의 폭로로 출범한 검찰 성추행 진상조사단이 오늘 석달에 걸친 수사 결과를 발표합니다. 조사단은 안태근 전 검사장 등 모두 7명을 기소하며 활동을 마무리하게 됐습니다. 이지윤 기자입니다. [리포트] 검찰 성추행 진상조사단이 어제 안태근 전 검사장을 직권남용권리행사방해 혐의로 불구속기소하면서 석달 간의 수사를 사실상 마무리했습니다. 검찰은 지난 1월 서지현 검사가 안태근 전 검사장에게 성추행을 당한 뒤 인사보복을 당했다고 폭로하자 자체적으로 진상조사단을 꾸려 수사에 착수했습니다. 조사단은 안태근 전 검사장을 세 번에 걸쳐 소환해 2015년 서 검사를 통영지청으로 발령내는데 부당하게 개입한 정황을 확인했습니다. 조사단은 이와 함께 검사 재직 시절 후배 검사를 성추행한 혐의를 받고 있는 전직 검사 등 6명을 추가로 수사해 재판에 넘겼습니다. 하지만 제식구 감싸기 논란은 숙제로 남았습니다. 조사단은 검찰 수사심의위의 의견에 따라 수사에 착수한 지 2달 반이 지나서야 안 전 검사장에 대한 구속영장을 청구했지만, 법원은 영장을 기각했습니다. 또 서 검사 성추행 사건 감찰을 무마했다는 의혹을 받은 최교일 자유한국당 의원을 서면으로만 조사해 비판을 받기도 했습니다. 논란 끝에 성추행 진상조사단은 오늘로 활동을 일단락하고 공소유지에 집중할 방침입니다. KBS 뉴스 이지윤입니다.\"\"\",사회\n",
            "\"\"\"[기자]지난 주말, 트럼프 미 대통이 폼페이오 미 국무장관이 평양에 가기로 했던 걸 전격 취소했습니다. 역시 트위터를 통해서 이걸 알렸는데요. 폼페이오 국무장관이 공식적으로 발표한 걸, 하루 만에 뒤집은 겁니다. 트럼프 대통령의 갑작스런 발표 후에 백악관이 공개한 사진인데요. 백악관 집무실입니다.앞 줄에 펜스 부통령, 성 김 주 필리핀 미국대사, 폼페이오 국무장관 등 대북 정책 핵심 참모 5인방의 모습이 보이죠. 이번 폼페이오 장관 방북 취소 결정이 트럼프 대통령의 즉흥적인 결정이 아니라는 걸 강조하려는 의도로 읽힙니다. 트럼프 대통령이 직접 밝힌 이번 방북 취소 배경은 크게 두 가집니다. 먼저, 한반도 비핵화 측면에서 충분한 진전을 내지 못했다고 느낀다 는게 첫 번째 이유구요. 두 번째로, 중국이 무역 갈등 때문에 예전만큼 비핵화 과정을 돕지 않고 있다는 겁니다.하지만, 김정은 위원장에 대해선 &곧 만나길 고대한다&고 해서요, 2차 정상회담 가능성은 열어 뒀습니다. 북미간 신뢰 관계는 일단 유지되고 있다, 이렇게 밝힌 셈인데요.다음 방북 시기와 관련해선, 중국과의 무역 관계가 해결된 이후라고 했거든요, 판을 흔들면서, &중국 책임론&을 최대한 키운 겁니다. 당장, 다음달에 시징핑 중국 국가 주석의 방북이 예고 돼 있잖아요?중국 책임론을 키워서, 북중 밀착 막고, 무역 전쟁에서도 성과 내기 위한 거 아니냐는 분석이 나옵니다.중국 외교부는 휴일인 토요일 오후에 이례적으로 입장을 발표했는데요. 중국은 유엔안보리 대북제재를 전면적으로 이행하고 있는데, 미국의 논법은 기본 사실과 다르고, 무책임하다고 강하게 비판했습니다. 청와대는 어제 긴급회의를 소집했습니다. 북미대화에 제동이 걸리면, 남북관계도 영향을 받을 수 있으니까요. 청와대는 우리 정부의 역할이 더 막중해졌다고 밝혔습니다. 북한과 미국 사이에서, 촉진자, 중재자 역할이 더 커졌다는 겁니다. 9월로 예정된 남북정상회담도 예정대로 계속 추진하기로 했다고 밝혔습니다.청와대 발표에 대한 전문가 분석을 조금 더 들어보시죠. [김준형/한동대 국제정치학과 교수: 한반도 프로세스는 모든 것이 북미 간에 인질이 되거나 걸림돌이 돼서 한 발도 진행되지 않는다면 문제가 있다고 생각하고요. 남북이 꾸준히 만난다는 모습을 보여줄 필요가 있기 때문에...]이렇게 한반도 정세가 다시 출렁이는 가운데, 2년 10개월 만에 열린 이산가족 상봉행사는 어제 모두 끝났습니다. 기약없는 작별 인사를 건네는 이산가족들, 또 한번 지켜봐야 했는데요.그나마 상봉 기회라도 있었던 가족들은 다행입니다. 아직도 헤어진 가족들 못 만난 이산상봉 신청자들이 5만 6천 명이나 됩니다. 상봉 신청자들 고령화도 심각해서요, 이 중에서 70대 이상이 85%고, 해마다 3천 명 정도가 세상을 떠나고 있습니다.근본적인 해법 마련이 절실한데요.일단 대한적십자 측은 남북이 연내에 추가 상봉을 하는 데, 공감했다고 밝혔습니다. 실무 회담 계획도 밝혔습니다. 추가 상봉 시기는, 빠르면 올 10월 쯤이 될 전망입니다. 친절한 뉴스였습니다.\"\"\",정치\n"
          ]
        }
      ]
    },
    {
      "cell_type": "code",
      "source": [
        "# test 라인수 확인\n",
        "total_count = 0\n",
        "with zipfile.ZipFile(args.corpus1) as z:  \n",
        "    with z.open('test.csv') as f: \n",
        "       for i, line in enumerate(f) :\n",
        "           total_count += 1\n",
        "print(total_count)\n",
        "\n",
        "# 3104"
      ],
      "metadata": {
        "colab": {
          "base_uri": "https://localhost:8080/"
        },
        "id": "VW2pZALaDf6A",
        "outputId": "67429d8c-f2af-41be-cc8f-a10e057c5fc7"
      },
      "execution_count": null,
      "outputs": [
        {
          "output_type": "stream",
          "name": "stdout",
          "text": [
            "3104\n"
          ]
        }
      ]
    },
    {
      "cell_type": "code",
      "source": [
        "# train 라인수 확인\n",
        "total_count = 0\n",
        "with zipfile.ZipFile(args.corpus2) as z:  \n",
        "    with z.open('train.csv') as f: \n",
        "       for i, line in enumerate(f) :\n",
        "           total_count += 1\n",
        "print(total_count)\n",
        "\n",
        "# 37649"
      ],
      "metadata": {
        "colab": {
          "base_uri": "https://localhost:8080/"
        },
        "id": "bkNjPaarD2Be",
        "outputId": "46ab580d-347a-4ae3-8ba6-a916d30aef9c"
      },
      "execution_count": null,
      "outputs": [
        {
          "output_type": "stream",
          "name": "stdout",
          "text": [
            "37649\n"
          ]
        }
      ]
    },
    {
      "cell_type": "code",
      "source": [
        "print('test 라인 비율 :', round(3104 / (3104 + 37649),2))   \n",
        "print('trian 라인 비율 :', round(37649 / (3104 + 37649),2))"
      ],
      "metadata": {
        "colab": {
          "base_uri": "https://localhost:8080/"
        },
        "id": "JknO8BqsELjH",
        "outputId": "e0f921d9-231a-45ac-cf07-4e2ae6f5854b"
      },
      "execution_count": null,
      "outputs": [
        {
          "output_type": "stream",
          "name": "stdout",
          "text": [
            "test 라인 비율 : 0.08\n",
            "trian 라인 비율 : 0.92\n"
          ]
        }
      ]
    },
    {
      "cell_type": "code",
      "source": [
        "# test 글자수 확인\n",
        "total_char = 0\n",
        "with zipfile.ZipFile(args.corpus1) as z:  # args.corpus 안에 있는 파일 압축을 풉니다\n",
        "    with z.open('test.csv') as f: # 그 안에 있는 파일을 열었습니다.\n",
        "       for i, line in enumerate(f) :\n",
        "           total_char += len(line)\n",
        "print(total_char)\n",
        "\n",
        "# 6,354,365"
      ],
      "metadata": {
        "colab": {
          "base_uri": "https://localhost:8080/"
        },
        "id": "YDGagB6KD3td",
        "outputId": "a846a888-2a87-452d-a432-341d18f76817"
      },
      "execution_count": null,
      "outputs": [
        {
          "output_type": "stream",
          "name": "stdout",
          "text": [
            "6354365\n"
          ]
        }
      ]
    },
    {
      "cell_type": "code",
      "source": [
        "# train 글자수 확인\n",
        "total_char = 0\n",
        "with zipfile.ZipFile(args.corpus2) as z:  # args.corpus 안에 있는 파일 압축을 풉니다\n",
        "    with z.open('train.csv') as f: # 그 안에 있는 파일을 열었습니다.\n",
        "       for i, line in enumerate(f) :\n",
        "           total_char += len(line)\n",
        "print(total_char)\n",
        "\n",
        "# 78,339,064"
      ],
      "metadata": {
        "colab": {
          "base_uri": "https://localhost:8080/"
        },
        "id": "hWmgei3vD_oD",
        "outputId": "20253b3c-62b9-42da-c89e-a4a12ddad75d"
      },
      "execution_count": null,
      "outputs": [
        {
          "output_type": "stream",
          "name": "stdout",
          "text": [
            "78339064\n"
          ]
        }
      ]
    },
    {
      "cell_type": "markdown",
      "source": [
        "# 3. Char Tokenizer"
      ],
      "metadata": {
        "id": "wySLcxp8Ew8u"
      }
    },
    {
      "cell_type": "code",
      "source": [
        "line = \"안녕.나는,만나서!반가워?너는(누구니)?나는\\\"인공지능'입니다\" # 온라인에서 가져온 텍스트를 \n",
        "line = re.sub('([,.!?()·\\\"\\'])', ' \\1 ', line)  # 'r'과 'R'은 문자열에 사용된 이스케이프 시퀀스들을 이스케이프 시퀀스들이 아닌 원시 문자열(raw string)로 만들기 위하여 사용되는 접두사(string prefix)들입니다.\n",
        "line "
      ],
      "metadata": {
        "id": "kR3PCFs0ECuO"
      },
      "execution_count": null,
      "outputs": []
    },
    {
      "cell_type": "code",
      "source": [],
      "metadata": {
        "id": "5df_ZaVKojPC"
      },
      "execution_count": null,
      "outputs": []
    }
  ]
}