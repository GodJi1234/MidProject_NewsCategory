{
  "cells": [
    {
      "cell_type": "markdown",
      "metadata": {
        "id": "view-in-github",
        "colab_type": "text"
      },
      "source": [
        "<a href=\"https://colab.research.google.com/github/JISOO0213/MidProject_NewsCategory/blob/main/%EC%A4%91%EA%B0%84%ED%94%84%EB%A1%9C%EC%A0%9D%ED%8A%B8_%EB%89%B4%EC%8A%A4_%EA%B8%B0%EC%82%AC_%ED%85%8D%EC%8A%A4%ED%8A%B8_%EC%B9%B4%ED%85%8C%EA%B3%A0%EB%A6%AC_%EB%B6%84%EB%A5%98_%EC%88%98%EC%A0%95.ipynb\" target=\"_parent\"><img src=\"https://colab.research.google.com/assets/colab-badge.svg\" alt=\"Open In Colab\"/></a>"
      ]
    },
    {
      "cell_type": "code",
      "execution_count": null,
      "metadata": {
        "id": "RPPh_hV89SU-"
      },
      "outputs": [],
      "source": [
        "# !pip install sentencepiece # 토크나이저 인스톨"
      ]
    },
    {
      "cell_type": "code",
      "execution_count": null,
      "metadata": {
        "id": "MXtBX5S39Gi-"
      },
      "outputs": [],
      "source": [
        "# imports\n",
        "import argparse # 자주 사용하게 될 SEED 값이나 경로 등을 딕셔너리 형태로 저장해주는 모듈 \n",
        "import os  # 운영체제 제어 \n",
        "import random  # 랜덤\n",
        "import shutil # 쉘 명령어 등을 대신 실행해주는 유틸 \n",
        "import json\n",
        "import zipfile # 압축 푸는 애\n",
        "import math \n",
        "import copy\n",
        "import collections  # dict 형태의 자료들을 좀더 쉽게 사용할 수 있게 만들어주는 패키지  - counter: 각 dict에 있는 빈도 세어주는 역할\n",
        "import re  # 정규식에 의해 텍스트 데이터를 찾을 때 사용\n",
        "\n",
        "import matplotlib.pyplot as plt\n",
        "import pandas as pd\n",
        "import numpy as np\n",
        "import sentencepiece as spm  # 토크나이저\n",
        "import tensorflow as tf\n",
        "import tensorflow.keras.backend as K\n",
        "\n",
        "from tqdm.notebook import tqdm, trange   # 작업량을 막대그래프로 표시 \n",
        "import tensorflow as tf\n",
        "import tensorflow_datasets as tfds #Dataset API\n",
        "from PIL import Image #Manipulate Images\n",
        "import warnings\n",
        "warnings.filterwarnings('ignore') #ignores warnings"
      ]
    },
    {
      "cell_type": "code",
      "source": [
        "from google.colab import drive\n",
        "drive.mount('/content/drive')"
      ],
      "metadata": {
        "colab": {
          "base_uri": "https://localhost:8080/"
        },
        "id": "uxFYxcXJVd9U",
        "outputId": "35876638-39eb-4800-cde6-4e32e63ea4a3"
      },
      "execution_count": null,
      "outputs": [
        {
          "output_type": "stream",
          "name": "stdout",
          "text": [
            "Mounted at /content/drive\n"
          ]
        }
      ]
    },
    {
      "cell_type": "markdown",
      "metadata": {
        "id": "j3gODZ7GCUNi"
      },
      "source": [
        "# 2. 내용확인"
      ]
    },
    {
      "cell_type": "code",
      "execution_count": null,
      "metadata": {
        "id": "4Hdp-J6NrqVB"
      },
      "outputs": [],
      "source": [
        "train_text = pd.read_csv('drive/MyDrive/ITStudy/data/train.csv')\n",
        "test_text = pd.read_csv('drive/MyDrive/ITStudy/data/test.csv')"
      ]
    },
    {
      "cell_type": "code",
      "execution_count": null,
      "metadata": {
        "colab": {
          "base_uri": "https://localhost:8080/",
          "height": 424
        },
        "id": "dvtmx9iLr5Wi",
        "outputId": "6dacf009-0672-41f8-ec17-d41c79619620"
      },
      "outputs": [
        {
          "output_type": "execute_result",
          "data": {
            "text/plain": [
              "                                                    text category\n",
              "0      이에 따른다면 초등학생들의 소비 문화는 디지털 강국의 ‘개국 공신’이 되려는 몸부림...    연예/문화\n",
              "1      \"지난 14일 우리정부가 난민 신청을 한 예멘인들에 대해 인도적 체류를 허가했는데요...    연예/문화\n",
              "2      인천시 서구와 계양구에서 경기도 부천을 거쳐 서울 홍대까지 지하철이 건설될 것으로 ...       생활\n",
              "3      김성태 자유한국당 의원이 최근 황운하 울산경찰청장과 벌인 ‘미친개’ 공방을 언급하며...       정치\n",
              "4      \"지난해 사상 최대 실적을 거뒀던 우리 수출이 새해에도 좋은 흐름을 이어갔습니다. ...      스포츠\n",
              "...                                                  ...      ...\n",
              "37643  뉴욕 대화 이후 북한이 추가 북미대화와 조기 협상재개를 강조하고 있는 반면, 미국은...       정치\n",
              "37644  \"프로농구 DB의 두경민이 생애 첫 최우수 선수의 영광을 안았습니다. 무명 설움을 ...      스포츠\n",
              "37645  대한치과의사협회가 '공정위가 증거를 조작했다는 의혹이 있다'고 주장해 파문이 일고 ...       생활\n",
              "37646  \"세상의 종말을 느꼈다 필리핀 주민은 올해 가장 강력한 태풍인 &망쿳&의 위력을 이...    연예/문화\n",
              "37647  [텐아시아=손예지 기자] /사진=김미화 SNS방송인 김미화가 부적절한 사과문에 대해...    연예/문화\n",
              "\n",
              "[37648 rows x 2 columns]"
            ],
            "text/html": [
              "\n",
              "  <div id=\"df-360847cc-64ce-4794-b2c0-1367e5875c9b\">\n",
              "    <div class=\"colab-df-container\">\n",
              "      <div>\n",
              "<style scoped>\n",
              "    .dataframe tbody tr th:only-of-type {\n",
              "        vertical-align: middle;\n",
              "    }\n",
              "\n",
              "    .dataframe tbody tr th {\n",
              "        vertical-align: top;\n",
              "    }\n",
              "\n",
              "    .dataframe thead th {\n",
              "        text-align: right;\n",
              "    }\n",
              "</style>\n",
              "<table border=\"1\" class=\"dataframe\">\n",
              "  <thead>\n",
              "    <tr style=\"text-align: right;\">\n",
              "      <th></th>\n",
              "      <th>text</th>\n",
              "      <th>category</th>\n",
              "    </tr>\n",
              "  </thead>\n",
              "  <tbody>\n",
              "    <tr>\n",
              "      <th>0</th>\n",
              "      <td>이에 따른다면 초등학생들의 소비 문화는 디지털 강국의 ‘개국 공신’이 되려는 몸부림...</td>\n",
              "      <td>연예/문화</td>\n",
              "    </tr>\n",
              "    <tr>\n",
              "      <th>1</th>\n",
              "      <td>\"지난 14일 우리정부가 난민 신청을 한 예멘인들에 대해 인도적 체류를 허가했는데요...</td>\n",
              "      <td>연예/문화</td>\n",
              "    </tr>\n",
              "    <tr>\n",
              "      <th>2</th>\n",
              "      <td>인천시 서구와 계양구에서 경기도 부천을 거쳐 서울 홍대까지 지하철이 건설될 것으로 ...</td>\n",
              "      <td>생활</td>\n",
              "    </tr>\n",
              "    <tr>\n",
              "      <th>3</th>\n",
              "      <td>김성태 자유한국당 의원이 최근 황운하 울산경찰청장과 벌인 ‘미친개’ 공방을 언급하며...</td>\n",
              "      <td>정치</td>\n",
              "    </tr>\n",
              "    <tr>\n",
              "      <th>4</th>\n",
              "      <td>\"지난해 사상 최대 실적을 거뒀던 우리 수출이 새해에도 좋은 흐름을 이어갔습니다. ...</td>\n",
              "      <td>스포츠</td>\n",
              "    </tr>\n",
              "    <tr>\n",
              "      <th>...</th>\n",
              "      <td>...</td>\n",
              "      <td>...</td>\n",
              "    </tr>\n",
              "    <tr>\n",
              "      <th>37643</th>\n",
              "      <td>뉴욕 대화 이후 북한이 추가 북미대화와 조기 협상재개를 강조하고 있는 반면, 미국은...</td>\n",
              "      <td>정치</td>\n",
              "    </tr>\n",
              "    <tr>\n",
              "      <th>37644</th>\n",
              "      <td>\"프로농구 DB의 두경민이 생애 첫 최우수 선수의 영광을 안았습니다. 무명 설움을 ...</td>\n",
              "      <td>스포츠</td>\n",
              "    </tr>\n",
              "    <tr>\n",
              "      <th>37645</th>\n",
              "      <td>대한치과의사협회가 '공정위가 증거를 조작했다는 의혹이 있다'고 주장해 파문이 일고 ...</td>\n",
              "      <td>생활</td>\n",
              "    </tr>\n",
              "    <tr>\n",
              "      <th>37646</th>\n",
              "      <td>\"세상의 종말을 느꼈다 필리핀 주민은 올해 가장 강력한 태풍인 &amp;망쿳&amp;의 위력을 이...</td>\n",
              "      <td>연예/문화</td>\n",
              "    </tr>\n",
              "    <tr>\n",
              "      <th>37647</th>\n",
              "      <td>[텐아시아=손예지 기자] /사진=김미화 SNS방송인 김미화가 부적절한 사과문에 대해...</td>\n",
              "      <td>연예/문화</td>\n",
              "    </tr>\n",
              "  </tbody>\n",
              "</table>\n",
              "<p>37648 rows × 2 columns</p>\n",
              "</div>\n",
              "      <button class=\"colab-df-convert\" onclick=\"convertToInteractive('df-360847cc-64ce-4794-b2c0-1367e5875c9b')\"\n",
              "              title=\"Convert this dataframe to an interactive table.\"\n",
              "              style=\"display:none;\">\n",
              "        \n",
              "  <svg xmlns=\"http://www.w3.org/2000/svg\" height=\"24px\"viewBox=\"0 0 24 24\"\n",
              "       width=\"24px\">\n",
              "    <path d=\"M0 0h24v24H0V0z\" fill=\"none\"/>\n",
              "    <path d=\"M18.56 5.44l.94 2.06.94-2.06 2.06-.94-2.06-.94-.94-2.06-.94 2.06-2.06.94zm-11 1L8.5 8.5l.94-2.06 2.06-.94-2.06-.94L8.5 2.5l-.94 2.06-2.06.94zm10 10l.94 2.06.94-2.06 2.06-.94-2.06-.94-.94-2.06-.94 2.06-2.06.94z\"/><path d=\"M17.41 7.96l-1.37-1.37c-.4-.4-.92-.59-1.43-.59-.52 0-1.04.2-1.43.59L10.3 9.45l-7.72 7.72c-.78.78-.78 2.05 0 2.83L4 21.41c.39.39.9.59 1.41.59.51 0 1.02-.2 1.41-.59l7.78-7.78 2.81-2.81c.8-.78.8-2.07 0-2.86zM5.41 20L4 18.59l7.72-7.72 1.47 1.35L5.41 20z\"/>\n",
              "  </svg>\n",
              "      </button>\n",
              "      \n",
              "  <style>\n",
              "    .colab-df-container {\n",
              "      display:flex;\n",
              "      flex-wrap:wrap;\n",
              "      gap: 12px;\n",
              "    }\n",
              "\n",
              "    .colab-df-convert {\n",
              "      background-color: #E8F0FE;\n",
              "      border: none;\n",
              "      border-radius: 50%;\n",
              "      cursor: pointer;\n",
              "      display: none;\n",
              "      fill: #1967D2;\n",
              "      height: 32px;\n",
              "      padding: 0 0 0 0;\n",
              "      width: 32px;\n",
              "    }\n",
              "\n",
              "    .colab-df-convert:hover {\n",
              "      background-color: #E2EBFA;\n",
              "      box-shadow: 0px 1px 2px rgba(60, 64, 67, 0.3), 0px 1px 3px 1px rgba(60, 64, 67, 0.15);\n",
              "      fill: #174EA6;\n",
              "    }\n",
              "\n",
              "    [theme=dark] .colab-df-convert {\n",
              "      background-color: #3B4455;\n",
              "      fill: #D2E3FC;\n",
              "    }\n",
              "\n",
              "    [theme=dark] .colab-df-convert:hover {\n",
              "      background-color: #434B5C;\n",
              "      box-shadow: 0px 1px 3px 1px rgba(0, 0, 0, 0.15);\n",
              "      filter: drop-shadow(0px 1px 2px rgba(0, 0, 0, 0.3));\n",
              "      fill: #FFFFFF;\n",
              "    }\n",
              "  </style>\n",
              "\n",
              "      <script>\n",
              "        const buttonEl =\n",
              "          document.querySelector('#df-360847cc-64ce-4794-b2c0-1367e5875c9b button.colab-df-convert');\n",
              "        buttonEl.style.display =\n",
              "          google.colab.kernel.accessAllowed ? 'block' : 'none';\n",
              "\n",
              "        async function convertToInteractive(key) {\n",
              "          const element = document.querySelector('#df-360847cc-64ce-4794-b2c0-1367e5875c9b');\n",
              "          const dataTable =\n",
              "            await google.colab.kernel.invokeFunction('convertToInteractive',\n",
              "                                                     [key], {});\n",
              "          if (!dataTable) return;\n",
              "\n",
              "          const docLinkHtml = 'Like what you see? Visit the ' +\n",
              "            '<a target=\"_blank\" href=https://colab.research.google.com/notebooks/data_table.ipynb>data table notebook</a>'\n",
              "            + ' to learn more about interactive tables.';\n",
              "          element.innerHTML = '';\n",
              "          dataTable['output_type'] = 'display_data';\n",
              "          await google.colab.output.renderOutput(dataTable, element);\n",
              "          const docLink = document.createElement('div');\n",
              "          docLink.innerHTML = docLinkHtml;\n",
              "          element.appendChild(docLink);\n",
              "        }\n",
              "      </script>\n",
              "    </div>\n",
              "  </div>\n",
              "  "
            ]
          },
          "metadata": {},
          "execution_count": 16
        }
      ],
      "source": [
        "train_text"
      ]
    },
    {
      "cell_type": "code",
      "execution_count": null,
      "metadata": {
        "id": "Ub3U0dDeHyEn"
      },
      "outputs": [],
      "source": [
        "# 카테고리별로 묶어서 text 확인\n",
        "temp = train_text.groupby('category')\n",
        "li = [line for line in temp]\n",
        "\n",
        "c1 = li[0][1]   \n",
        "c2 = li[1][1]\n",
        "c3 = li[2][1]\n",
        "c4 = li[3][1]\n",
        "c5 = li[4][1]\n",
        "c6 = li[5][1]"
      ]
    },
    {
      "cell_type": "code",
      "execution_count": null,
      "metadata": {
        "colab": {
          "base_uri": "https://localhost:8080/",
          "height": 424
        },
        "id": "ajWsodFyPfXn",
        "outputId": "91e594a3-b5bb-42be-880c-083710b32b94"
      },
      "outputs": [
        {
          "output_type": "execute_result",
          "data": {
            "text/plain": [
              "                                                    text category\n",
              "3      김성태 자유한국당 의원이 최근 황운하 울산경찰청장과 벌인 ‘미친개’ 공방을 언급하며...       정치\n",
              "8      \"전교조는 지난 2013년 조합원 가운데 해직자 9명이 포함 됐다는 이유로 지난 2...       정치\n",
              "9      \"이제 북미간의 협상이 본격적인 해법찾기 국면에 접어든 게 아닌가 싶습니다. 그럼,...       정치\n",
              "14     검찰이 이명박 전 대통령 시기 국가정보원 특수활동비 상납 사건 수사를 계속하고 있습...       정치\n",
              "21     \"재정정보 유출 의혹을 받고 있는 자유한국당 심재철 의원이 오늘(28일)도 청와대를...       정치\n",
              "...                                                  ...      ...\n",
              "37609  \"[기자] 이명박 전 대통령에게 적용된 혐의는 10여 개인데요, 그 가운데 핵심은 ...       정치\n",
              "37610  이라크 총선 개표가 진행되고 있는 가운데 지금까지 개표 결과 이슬람 시아파 정당 연...       정치\n",
              "37636  \"트럼프 미국 대통령에 이어 해리스 주한미대사 지명자도 한미연합훈련을 중단한 필요성...       정치\n",
              "37638  민주통합당 대선후보 선출을 위한 선거인단 신청자가 20만명을 넘어섰다. 민주당 중앙...       정치\n",
              "37643  뉴욕 대화 이후 북한이 추가 북미대화와 조기 협상재개를 강조하고 있는 반면, 미국은...       정치\n",
              "\n",
              "[7654 rows x 2 columns]"
            ],
            "text/html": [
              "\n",
              "  <div id=\"df-22749fa9-3c68-411f-afc2-c04c887f45b7\">\n",
              "    <div class=\"colab-df-container\">\n",
              "      <div>\n",
              "<style scoped>\n",
              "    .dataframe tbody tr th:only-of-type {\n",
              "        vertical-align: middle;\n",
              "    }\n",
              "\n",
              "    .dataframe tbody tr th {\n",
              "        vertical-align: top;\n",
              "    }\n",
              "\n",
              "    .dataframe thead th {\n",
              "        text-align: right;\n",
              "    }\n",
              "</style>\n",
              "<table border=\"1\" class=\"dataframe\">\n",
              "  <thead>\n",
              "    <tr style=\"text-align: right;\">\n",
              "      <th></th>\n",
              "      <th>text</th>\n",
              "      <th>category</th>\n",
              "    </tr>\n",
              "  </thead>\n",
              "  <tbody>\n",
              "    <tr>\n",
              "      <th>3</th>\n",
              "      <td>김성태 자유한국당 의원이 최근 황운하 울산경찰청장과 벌인 ‘미친개’ 공방을 언급하며...</td>\n",
              "      <td>정치</td>\n",
              "    </tr>\n",
              "    <tr>\n",
              "      <th>8</th>\n",
              "      <td>\"전교조는 지난 2013년 조합원 가운데 해직자 9명이 포함 됐다는 이유로 지난 2...</td>\n",
              "      <td>정치</td>\n",
              "    </tr>\n",
              "    <tr>\n",
              "      <th>9</th>\n",
              "      <td>\"이제 북미간의 협상이 본격적인 해법찾기 국면에 접어든 게 아닌가 싶습니다. 그럼,...</td>\n",
              "      <td>정치</td>\n",
              "    </tr>\n",
              "    <tr>\n",
              "      <th>14</th>\n",
              "      <td>검찰이 이명박 전 대통령 시기 국가정보원 특수활동비 상납 사건 수사를 계속하고 있습...</td>\n",
              "      <td>정치</td>\n",
              "    </tr>\n",
              "    <tr>\n",
              "      <th>21</th>\n",
              "      <td>\"재정정보 유출 의혹을 받고 있는 자유한국당 심재철 의원이 오늘(28일)도 청와대를...</td>\n",
              "      <td>정치</td>\n",
              "    </tr>\n",
              "    <tr>\n",
              "      <th>...</th>\n",
              "      <td>...</td>\n",
              "      <td>...</td>\n",
              "    </tr>\n",
              "    <tr>\n",
              "      <th>37609</th>\n",
              "      <td>\"[기자] 이명박 전 대통령에게 적용된 혐의는 10여 개인데요, 그 가운데 핵심은 ...</td>\n",
              "      <td>정치</td>\n",
              "    </tr>\n",
              "    <tr>\n",
              "      <th>37610</th>\n",
              "      <td>이라크 총선 개표가 진행되고 있는 가운데 지금까지 개표 결과 이슬람 시아파 정당 연...</td>\n",
              "      <td>정치</td>\n",
              "    </tr>\n",
              "    <tr>\n",
              "      <th>37636</th>\n",
              "      <td>\"트럼프 미국 대통령에 이어 해리스 주한미대사 지명자도 한미연합훈련을 중단한 필요성...</td>\n",
              "      <td>정치</td>\n",
              "    </tr>\n",
              "    <tr>\n",
              "      <th>37638</th>\n",
              "      <td>민주통합당 대선후보 선출을 위한 선거인단 신청자가 20만명을 넘어섰다. 민주당 중앙...</td>\n",
              "      <td>정치</td>\n",
              "    </tr>\n",
              "    <tr>\n",
              "      <th>37643</th>\n",
              "      <td>뉴욕 대화 이후 북한이 추가 북미대화와 조기 협상재개를 강조하고 있는 반면, 미국은...</td>\n",
              "      <td>정치</td>\n",
              "    </tr>\n",
              "  </tbody>\n",
              "</table>\n",
              "<p>7654 rows × 2 columns</p>\n",
              "</div>\n",
              "      <button class=\"colab-df-convert\" onclick=\"convertToInteractive('df-22749fa9-3c68-411f-afc2-c04c887f45b7')\"\n",
              "              title=\"Convert this dataframe to an interactive table.\"\n",
              "              style=\"display:none;\">\n",
              "        \n",
              "  <svg xmlns=\"http://www.w3.org/2000/svg\" height=\"24px\"viewBox=\"0 0 24 24\"\n",
              "       width=\"24px\">\n",
              "    <path d=\"M0 0h24v24H0V0z\" fill=\"none\"/>\n",
              "    <path d=\"M18.56 5.44l.94 2.06.94-2.06 2.06-.94-2.06-.94-.94-2.06-.94 2.06-2.06.94zm-11 1L8.5 8.5l.94-2.06 2.06-.94-2.06-.94L8.5 2.5l-.94 2.06-2.06.94zm10 10l.94 2.06.94-2.06 2.06-.94-2.06-.94-.94-2.06-.94 2.06-2.06.94z\"/><path d=\"M17.41 7.96l-1.37-1.37c-.4-.4-.92-.59-1.43-.59-.52 0-1.04.2-1.43.59L10.3 9.45l-7.72 7.72c-.78.78-.78 2.05 0 2.83L4 21.41c.39.39.9.59 1.41.59.51 0 1.02-.2 1.41-.59l7.78-7.78 2.81-2.81c.8-.78.8-2.07 0-2.86zM5.41 20L4 18.59l7.72-7.72 1.47 1.35L5.41 20z\"/>\n",
              "  </svg>\n",
              "      </button>\n",
              "      \n",
              "  <style>\n",
              "    .colab-df-container {\n",
              "      display:flex;\n",
              "      flex-wrap:wrap;\n",
              "      gap: 12px;\n",
              "    }\n",
              "\n",
              "    .colab-df-convert {\n",
              "      background-color: #E8F0FE;\n",
              "      border: none;\n",
              "      border-radius: 50%;\n",
              "      cursor: pointer;\n",
              "      display: none;\n",
              "      fill: #1967D2;\n",
              "      height: 32px;\n",
              "      padding: 0 0 0 0;\n",
              "      width: 32px;\n",
              "    }\n",
              "\n",
              "    .colab-df-convert:hover {\n",
              "      background-color: #E2EBFA;\n",
              "      box-shadow: 0px 1px 2px rgba(60, 64, 67, 0.3), 0px 1px 3px 1px rgba(60, 64, 67, 0.15);\n",
              "      fill: #174EA6;\n",
              "    }\n",
              "\n",
              "    [theme=dark] .colab-df-convert {\n",
              "      background-color: #3B4455;\n",
              "      fill: #D2E3FC;\n",
              "    }\n",
              "\n",
              "    [theme=dark] .colab-df-convert:hover {\n",
              "      background-color: #434B5C;\n",
              "      box-shadow: 0px 1px 3px 1px rgba(0, 0, 0, 0.15);\n",
              "      filter: drop-shadow(0px 1px 2px rgba(0, 0, 0, 0.3));\n",
              "      fill: #FFFFFF;\n",
              "    }\n",
              "  </style>\n",
              "\n",
              "      <script>\n",
              "        const buttonEl =\n",
              "          document.querySelector('#df-22749fa9-3c68-411f-afc2-c04c887f45b7 button.colab-df-convert');\n",
              "        buttonEl.style.display =\n",
              "          google.colab.kernel.accessAllowed ? 'block' : 'none';\n",
              "\n",
              "        async function convertToInteractive(key) {\n",
              "          const element = document.querySelector('#df-22749fa9-3c68-411f-afc2-c04c887f45b7');\n",
              "          const dataTable =\n",
              "            await google.colab.kernel.invokeFunction('convertToInteractive',\n",
              "                                                     [key], {});\n",
              "          if (!dataTable) return;\n",
              "\n",
              "          const docLinkHtml = 'Like what you see? Visit the ' +\n",
              "            '<a target=\"_blank\" href=https://colab.research.google.com/notebooks/data_table.ipynb>data table notebook</a>'\n",
              "            + ' to learn more about interactive tables.';\n",
              "          element.innerHTML = '';\n",
              "          dataTable['output_type'] = 'display_data';\n",
              "          await google.colab.output.renderOutput(dataTable, element);\n",
              "          const docLink = document.createElement('div');\n",
              "          docLink.innerHTML = docLinkHtml;\n",
              "          element.appendChild(docLink);\n",
              "        }\n",
              "      </script>\n",
              "    </div>\n",
              "  </div>\n",
              "  "
            ]
          },
          "metadata": {},
          "execution_count": 18
        }
      ],
      "source": [
        "c6"
      ]
    },
    {
      "cell_type": "code",
      "execution_count": null,
      "metadata": {
        "id": "YOQK9dGRRiKq"
      },
      "outputs": [],
      "source": [
        "c1_label = c1['category']\n",
        "c1.drop('category', axis = 1, inplace = True)\n",
        "c2_label = c2['category']\n",
        "c2.drop('category', axis = 1, inplace = True)\n",
        "c3_label = c3['category']\n",
        "c3.drop('category', axis = 1, inplace = True)\n",
        "c4_label = c4['category']\n",
        "c4.drop('category', axis = 1, inplace = True)\n",
        "c5_label = c5['category']\n",
        "c5.drop('category', axis = 1, inplace = True)\n",
        "c6_label = c6['category']\n",
        "c6.drop('category', axis = 1, inplace = True)"
      ]
    },
    {
      "cell_type": "markdown",
      "metadata": {
        "id": "vrIDl4FOS6up"
      },
      "source": [
        "c1 - 경제\n",
        "\n",
        "c2 - 사회\n",
        "\n",
        "c3 - 생활 \n",
        "\n",
        "c4 - 스포츠\n",
        "\n",
        "c5 - 연예/문화\n",
        "\n",
        "c6 - 정치\n",
        "\n",
        "\n"
      ]
    },
    {
      "cell_type": "code",
      "execution_count": null,
      "metadata": {
        "id": "if7HF15msAkF"
      },
      "outputs": [],
      "source": [
        "target = train_text.category"
      ]
    },
    {
      "cell_type": "code",
      "execution_count": null,
      "metadata": {
        "colab": {
          "base_uri": "https://localhost:8080/"
        },
        "id": "si3J180osnkl",
        "outputId": "c61c5bf2-bdcb-473a-b0a8-7a8eda037ac0"
      },
      "outputs": [
        {
          "output_type": "execute_result",
          "data": {
            "text/plain": [
              "0        연예/문화\n",
              "1        연예/문화\n",
              "2           생활\n",
              "3           정치\n",
              "4          스포츠\n",
              "         ...  \n",
              "37643       정치\n",
              "37644      스포츠\n",
              "37645       생활\n",
              "37646    연예/문화\n",
              "37647    연예/문화\n",
              "Name: category, Length: 37648, dtype: object"
            ]
          },
          "metadata": {},
          "execution_count": 21
        }
      ],
      "source": [
        "target"
      ]
    },
    {
      "cell_type": "code",
      "execution_count": null,
      "metadata": {
        "id": "6_9ifLjaswL-"
      },
      "outputs": [],
      "source": [
        "train_text = train_text.drop('category', axis = 1)"
      ]
    },
    {
      "cell_type": "code",
      "execution_count": null,
      "metadata": {
        "colab": {
          "base_uri": "https://localhost:8080/",
          "height": 424
        },
        "id": "16BlqI1cs9HJ",
        "outputId": "599fc2e8-e875-4e94-9fb9-28c5c78037cc"
      },
      "outputs": [
        {
          "output_type": "execute_result",
          "data": {
            "text/plain": [
              "                                                    text\n",
              "0      이에 따른다면 초등학생들의 소비 문화는 디지털 강국의 ‘개국 공신’이 되려는 몸부림...\n",
              "1      \"지난 14일 우리정부가 난민 신청을 한 예멘인들에 대해 인도적 체류를 허가했는데요...\n",
              "2      인천시 서구와 계양구에서 경기도 부천을 거쳐 서울 홍대까지 지하철이 건설될 것으로 ...\n",
              "3      김성태 자유한국당 의원이 최근 황운하 울산경찰청장과 벌인 ‘미친개’ 공방을 언급하며...\n",
              "4      \"지난해 사상 최대 실적을 거뒀던 우리 수출이 새해에도 좋은 흐름을 이어갔습니다. ...\n",
              "...                                                  ...\n",
              "37643  뉴욕 대화 이후 북한이 추가 북미대화와 조기 협상재개를 강조하고 있는 반면, 미국은...\n",
              "37644  \"프로농구 DB의 두경민이 생애 첫 최우수 선수의 영광을 안았습니다. 무명 설움을 ...\n",
              "37645  대한치과의사협회가 '공정위가 증거를 조작했다는 의혹이 있다'고 주장해 파문이 일고 ...\n",
              "37646  \"세상의 종말을 느꼈다 필리핀 주민은 올해 가장 강력한 태풍인 &망쿳&의 위력을 이...\n",
              "37647  [텐아시아=손예지 기자] /사진=김미화 SNS방송인 김미화가 부적절한 사과문에 대해...\n",
              "\n",
              "[37648 rows x 1 columns]"
            ],
            "text/html": [
              "\n",
              "  <div id=\"df-7e9dc1fb-5456-498e-8630-7b73f1d80e2f\">\n",
              "    <div class=\"colab-df-container\">\n",
              "      <div>\n",
              "<style scoped>\n",
              "    .dataframe tbody tr th:only-of-type {\n",
              "        vertical-align: middle;\n",
              "    }\n",
              "\n",
              "    .dataframe tbody tr th {\n",
              "        vertical-align: top;\n",
              "    }\n",
              "\n",
              "    .dataframe thead th {\n",
              "        text-align: right;\n",
              "    }\n",
              "</style>\n",
              "<table border=\"1\" class=\"dataframe\">\n",
              "  <thead>\n",
              "    <tr style=\"text-align: right;\">\n",
              "      <th></th>\n",
              "      <th>text</th>\n",
              "    </tr>\n",
              "  </thead>\n",
              "  <tbody>\n",
              "    <tr>\n",
              "      <th>0</th>\n",
              "      <td>이에 따른다면 초등학생들의 소비 문화는 디지털 강국의 ‘개국 공신’이 되려는 몸부림...</td>\n",
              "    </tr>\n",
              "    <tr>\n",
              "      <th>1</th>\n",
              "      <td>\"지난 14일 우리정부가 난민 신청을 한 예멘인들에 대해 인도적 체류를 허가했는데요...</td>\n",
              "    </tr>\n",
              "    <tr>\n",
              "      <th>2</th>\n",
              "      <td>인천시 서구와 계양구에서 경기도 부천을 거쳐 서울 홍대까지 지하철이 건설될 것으로 ...</td>\n",
              "    </tr>\n",
              "    <tr>\n",
              "      <th>3</th>\n",
              "      <td>김성태 자유한국당 의원이 최근 황운하 울산경찰청장과 벌인 ‘미친개’ 공방을 언급하며...</td>\n",
              "    </tr>\n",
              "    <tr>\n",
              "      <th>4</th>\n",
              "      <td>\"지난해 사상 최대 실적을 거뒀던 우리 수출이 새해에도 좋은 흐름을 이어갔습니다. ...</td>\n",
              "    </tr>\n",
              "    <tr>\n",
              "      <th>...</th>\n",
              "      <td>...</td>\n",
              "    </tr>\n",
              "    <tr>\n",
              "      <th>37643</th>\n",
              "      <td>뉴욕 대화 이후 북한이 추가 북미대화와 조기 협상재개를 강조하고 있는 반면, 미국은...</td>\n",
              "    </tr>\n",
              "    <tr>\n",
              "      <th>37644</th>\n",
              "      <td>\"프로농구 DB의 두경민이 생애 첫 최우수 선수의 영광을 안았습니다. 무명 설움을 ...</td>\n",
              "    </tr>\n",
              "    <tr>\n",
              "      <th>37645</th>\n",
              "      <td>대한치과의사협회가 '공정위가 증거를 조작했다는 의혹이 있다'고 주장해 파문이 일고 ...</td>\n",
              "    </tr>\n",
              "    <tr>\n",
              "      <th>37646</th>\n",
              "      <td>\"세상의 종말을 느꼈다 필리핀 주민은 올해 가장 강력한 태풍인 &amp;망쿳&amp;의 위력을 이...</td>\n",
              "    </tr>\n",
              "    <tr>\n",
              "      <th>37647</th>\n",
              "      <td>[텐아시아=손예지 기자] /사진=김미화 SNS방송인 김미화가 부적절한 사과문에 대해...</td>\n",
              "    </tr>\n",
              "  </tbody>\n",
              "</table>\n",
              "<p>37648 rows × 1 columns</p>\n",
              "</div>\n",
              "      <button class=\"colab-df-convert\" onclick=\"convertToInteractive('df-7e9dc1fb-5456-498e-8630-7b73f1d80e2f')\"\n",
              "              title=\"Convert this dataframe to an interactive table.\"\n",
              "              style=\"display:none;\">\n",
              "        \n",
              "  <svg xmlns=\"http://www.w3.org/2000/svg\" height=\"24px\"viewBox=\"0 0 24 24\"\n",
              "       width=\"24px\">\n",
              "    <path d=\"M0 0h24v24H0V0z\" fill=\"none\"/>\n",
              "    <path d=\"M18.56 5.44l.94 2.06.94-2.06 2.06-.94-2.06-.94-.94-2.06-.94 2.06-2.06.94zm-11 1L8.5 8.5l.94-2.06 2.06-.94-2.06-.94L8.5 2.5l-.94 2.06-2.06.94zm10 10l.94 2.06.94-2.06 2.06-.94-2.06-.94-.94-2.06-.94 2.06-2.06.94z\"/><path d=\"M17.41 7.96l-1.37-1.37c-.4-.4-.92-.59-1.43-.59-.52 0-1.04.2-1.43.59L10.3 9.45l-7.72 7.72c-.78.78-.78 2.05 0 2.83L4 21.41c.39.39.9.59 1.41.59.51 0 1.02-.2 1.41-.59l7.78-7.78 2.81-2.81c.8-.78.8-2.07 0-2.86zM5.41 20L4 18.59l7.72-7.72 1.47 1.35L5.41 20z\"/>\n",
              "  </svg>\n",
              "      </button>\n",
              "      \n",
              "  <style>\n",
              "    .colab-df-container {\n",
              "      display:flex;\n",
              "      flex-wrap:wrap;\n",
              "      gap: 12px;\n",
              "    }\n",
              "\n",
              "    .colab-df-convert {\n",
              "      background-color: #E8F0FE;\n",
              "      border: none;\n",
              "      border-radius: 50%;\n",
              "      cursor: pointer;\n",
              "      display: none;\n",
              "      fill: #1967D2;\n",
              "      height: 32px;\n",
              "      padding: 0 0 0 0;\n",
              "      width: 32px;\n",
              "    }\n",
              "\n",
              "    .colab-df-convert:hover {\n",
              "      background-color: #E2EBFA;\n",
              "      box-shadow: 0px 1px 2px rgba(60, 64, 67, 0.3), 0px 1px 3px 1px rgba(60, 64, 67, 0.15);\n",
              "      fill: #174EA6;\n",
              "    }\n",
              "\n",
              "    [theme=dark] .colab-df-convert {\n",
              "      background-color: #3B4455;\n",
              "      fill: #D2E3FC;\n",
              "    }\n",
              "\n",
              "    [theme=dark] .colab-df-convert:hover {\n",
              "      background-color: #434B5C;\n",
              "      box-shadow: 0px 1px 3px 1px rgba(0, 0, 0, 0.15);\n",
              "      filter: drop-shadow(0px 1px 2px rgba(0, 0, 0, 0.3));\n",
              "      fill: #FFFFFF;\n",
              "    }\n",
              "  </style>\n",
              "\n",
              "      <script>\n",
              "        const buttonEl =\n",
              "          document.querySelector('#df-7e9dc1fb-5456-498e-8630-7b73f1d80e2f button.colab-df-convert');\n",
              "        buttonEl.style.display =\n",
              "          google.colab.kernel.accessAllowed ? 'block' : 'none';\n",
              "\n",
              "        async function convertToInteractive(key) {\n",
              "          const element = document.querySelector('#df-7e9dc1fb-5456-498e-8630-7b73f1d80e2f');\n",
              "          const dataTable =\n",
              "            await google.colab.kernel.invokeFunction('convertToInteractive',\n",
              "                                                     [key], {});\n",
              "          if (!dataTable) return;\n",
              "\n",
              "          const docLinkHtml = 'Like what you see? Visit the ' +\n",
              "            '<a target=\"_blank\" href=https://colab.research.google.com/notebooks/data_table.ipynb>data table notebook</a>'\n",
              "            + ' to learn more about interactive tables.';\n",
              "          element.innerHTML = '';\n",
              "          dataTable['output_type'] = 'display_data';\n",
              "          await google.colab.output.renderOutput(dataTable, element);\n",
              "          const docLink = document.createElement('div');\n",
              "          docLink.innerHTML = docLinkHtml;\n",
              "          element.appendChild(docLink);\n",
              "        }\n",
              "      </script>\n",
              "    </div>\n",
              "  </div>\n",
              "  "
            ]
          },
          "metadata": {},
          "execution_count": 23
        }
      ],
      "source": [
        "train_text"
      ]
    },
    {
      "cell_type": "code",
      "execution_count": null,
      "metadata": {
        "colab": {
          "base_uri": "https://localhost:8080/"
        },
        "id": "7yLOMj-EuOXw",
        "outputId": "9da1ac55-8436-4a65-e2a4-8d373a385af7"
      },
      "outputs": [
        {
          "output_type": "execute_result",
          "data": {
            "text/plain": [
              "array([4, 4, 2, ..., 2, 4, 4])"
            ]
          },
          "metadata": {},
          "execution_count": 24
        }
      ],
      "source": [
        "# category 별로 LabelEncoder 적용\n",
        "from sklearn.preprocessing import LabelEncoder\n",
        "\n",
        "encoder = LabelEncoder()\n",
        "encoder.fit(target)\n",
        "target = encoder.transform(target)\n",
        "target"
      ]
    },
    {
      "cell_type": "code",
      "execution_count": null,
      "metadata": {
        "colab": {
          "base_uri": "https://localhost:8080/"
        },
        "id": "8eDh6d3tuPtV",
        "outputId": "0150609b-09dc-41c8-e173-6a5cba3501b8"
      },
      "outputs": [
        {
          "output_type": "execute_result",
          "data": {
            "text/plain": [
              "{0: '경제', 1: '사회', 2: '생활', 3: '스포츠', 4: '연예/문화', 5: '정치'}"
            ]
          },
          "metadata": {},
          "execution_count": 25
        }
      ],
      "source": [
        "mapping = dict(zip(range(len(encoder.classes_)), encoder.classes_))\n",
        "mapping"
      ]
    },
    {
      "cell_type": "markdown",
      "metadata": {
        "id": "tOgJeHVJtNDq"
      },
      "source": [
        "# 3. Char Tokenizer\n",
        "\n",
        "[ , ] , / , = , & , "
      ]
    },
    {
      "cell_type": "code",
      "execution_count": null,
      "metadata": {
        "id": "EKfmFAtIvnHg"
      },
      "outputs": [],
      "source": [
        " # train 데이터 전처리\n",
        " # 참고: https://github.com/yoonkim/CNN_sentence/blob/master/process_data.py\n",
        "import re\n",
        "\n",
        "def clean_str(string):    \n",
        "    string = re.sub(r\"[^가-힣A-Za-z0-9]\", \" \", string) \n",
        "    string = re.sub(r\"\\s{2,}\", \" \", string)\n",
        "    string = re.sub(r\"\\'{2,}\", \"\\'\", string)\n",
        "    string = re.sub(r\"\\'\", \"\", string)\n",
        "\n",
        "    return string\n"
      ]
    },
    {
      "cell_type": "code",
      "execution_count": null,
      "metadata": {
        "id": "Q7xlVzchR7e7"
      },
      "outputs": [],
      "source": [
        "# 카테고리별로 불필요한 특수문자 제거\n",
        "train_X_cleaned1 = [clean_str(sentence) for sentence in c1.text]\n",
        "train_X_cleaned_split1 = [sentence.split() for sentence in train_X_cleaned1]\n",
        "train_X_cleaned2 = [clean_str(sentence) for sentence in c2.text]\n",
        "train_X_cleaned_split2 = [sentence.split() for sentence in train_X_cleaned2]\n",
        "train_X_cleaned3 = [clean_str(sentence) for sentence in c3.text]\n",
        "train_X_cleaned_split3 = [sentence.split() for sentence in train_X_cleaned3]\n",
        "train_X_cleaned4 = [clean_str(sentence) for sentence in c4.text]\n",
        "train_X_cleaned_split4 = [sentence.split() for sentence in train_X_cleaned4]\n",
        "train_X_cleaned5 = [clean_str(sentence) for sentence in c5.text]\n",
        "train_X_cleaned_split5 = [sentence.split() for sentence in train_X_cleaned5]\n",
        "train_X_cleaned6 = [clean_str(sentence) for sentence in c6.text]\n",
        "train_X_cleaned_split6 = [sentence.split() for sentence in train_X_cleaned6]"
      ]
    },
    {
      "cell_type": "markdown",
      "metadata": {
        "id": "IudIknR7l4zN"
      },
      "source": [
        "## 4. 모델 (LSTM)"
      ]
    },
    {
      "cell_type": "code",
      "execution_count": null,
      "metadata": {
        "id": "H1qIJWU_z-Ei",
        "colab": {
          "base_uri": "https://localhost:8080/"
        },
        "outputId": "26976c4e-24c2-461f-da71-85af9f774c67"
      },
      "outputs": [
        {
          "output_type": "execute_result",
          "data": {
            "text/plain": [
              "['이에 따른다면 초등학생들의 소비 문화는 디지털 강국의 개국 공신 이 되려는 몸부림으로 여길 수도 있다 하지만 지나친 부모의 교육열이 부른 무분별한 소비라는 지적도 만만치 않다 경기도 수원의 한 초등학교 교사는 수업 시간에 휴대전화로 문자를 주고받기에 혼냈더니 다음날 부모가 찾아와 내 아이 문제에 끼어들지 말라 고 했다 요즘 초등학생들은 서구적 가치관도 전통적 가치관도 지니지 못한 경우가 많다 고 고민을 토로했다 사진 5 BOX 요즘 아프트 놀이터에서 초등학생을 찾기는 쉽지 않다 지금 아이들은 학원과 PC방을 전전하고 있는지도 모른다 요즘 취학하는 아이들은 심각한 주의력 결핍증이 있다고 한다 유아기 때부터 온갖 시각 영상물에 노출된 탓이다 다양한 시각 정보를 처리하는 데 익숙하더라도 그 속에서 소비 욕구만 자극받는다면 헛일이다 인터넷 게임을 넓은 화면에서 즐기고 싶다며 벽걸이형 PDP Plasma Display Panel 텔레비전 구입을 요구하는 아이에게 무슨 말을 할 수 있을까 언제까지 자녀와의 친밀도를 경제력 으로 확인할 수도 없는 일 아닌가 참교육을 위한 전국 학부모회 장은숙 사무처장은 올바른 디지털 소비문화 기준을 세워서 적용해야 한다 적어도 무엇 때문에 필요한지에 대해 식탁 토론 이라도 벌이는 게 중요하다 고 말한다 글 한겨레21 바로가기',\n",
              " ' 지난 14일 우리정부가 난민 신청을 한 예멘인들에 대해 인도적 체류를 허가했는데요 난민 체류 허가 뒤 맞이한 첫 주말 서울 도심에선 도로 하나를 사이에 두고난민에 대한 서로 다른 목소리가 터져나왔습니다 강병수 기자가 현장에 다녀왔습니다 리포트 정부의 제주도 예멘 난민 일부에 대한 인도적 체류 허가 뒤 맞은 첫 주말 난민 찬성을 주장하는 집회에서는 인도적 체류만으로는 아직 갈 길이 멀다는 지적이 나왔습니다 이정원 난민 찬성 집회 참가자 예멘 난민들에 대해 난민으로 인정할 수 없다고 결정했습니다 누구는 난민이고 누구는 난민이 아닐 수 없고 난민이 아니라는 정부의 판단이 잘못됐다고 생각합니다 문제는 난민 자체가 아니라 난민 혐오라는 지적 역시 이어졌습니다 난민 혐오 반대한다 집회에는 단식 농성을 멈춘 이집트 난민들도 함께했습니다 참석자들은 난민이 한국 사람들과 다르지 않다고 이야기하기도 했습니다 난민 집회 참가자 우리는 한국 사회에 우리 모두가 형제라고 말하고 싶습니다 하지만 같은 시각 도로 하나를 사이에 두고 난민 반대 집회에서는 이들을 내쫓는 소리가 들려왔습니다 추방하라 추방하라 정부의 인도적 체류 허가에 대한 시각 역시 달랐습니다 난민이 아니란 결정이 나왔음에도 여전히 추방당하지 않고 있다는겁니다 난민 반대 집회 참가자 심사 완료자 전원이 난민이 아니라고 결정됐음에도 100 전원이 인도적 체류라는 이름으로 받아들여졌다 두 시간 가까이 날 선 발언이 계속된 난민 찬 반 집회 양측은 도심을 행진하는 과정에서 서로를 향해 야유를 퍼붓는 등 소란이 빚어지기도 했습니다 추방하라 민혐오 반대한다 경찰은 집회 참가자들 사이의 충돌에 대비해 현장에 경력을 배치했지만 우려했던 큰 충돌은 없었습니다 KBS 뉴스 강병수입니다 ',\n",
              " '인천시 서구와 계양구에서 경기도 부천을 거쳐 서울 홍대까지 지하철이 건설될 것으로 보인다 유정복 인천시장 강범석 서구청장 박형우 계양구청장 남경필 경기도지사 김만수 부천시장은 20일 오후 부천시청에서 수도권 서부지역 경인축 광역철도망 확충을 위한 공동업무 추진협약 을 맺었다 협약에 따라 이들 시 도와 시 구는 인천시 서구 계양구 부천 원종 구간 12 3 의 지하철 건설을 공동으로 추진한다 총 사업비는 1조6347억원이다 이를 위해 내년 상반기까지 새 노선 발굴을 위한 사전타당성조사 용역을 하고 2021년 상반기 국토교통부의 제4차 국가철도망 구축계획에 반영시킨다는 계획이다 이어 예비타당성 조사 기본계획 수립 실시설계 등을 거쳐 이르면 2026년 착공해 2030년 개통한다는 구상이다 이 노선은 2026년 개통 예정인 서울지하철 7호선 루원시티 주변 002역 가칭 을 출발해 인천지하철 2호선 가정역과 인천지하철 1호선 작전역과 각각 환승될 것으로 보인다 새 노선은 경인국철과 공항철도 사이 동서축 지하철로 건설이 확정된 부천 원종 서울 홍대 사이 16 3 의 지하철 노선과 연결돼 인천 서구 계양구와 강서 마포 등 서울 서부지역 사이 교통 편의를 획기적으로 향상시킬 것으로 보인다 또한 한창 진행 중인 청라국제도시 검단신도시 루원시티 개발사업을 촉진하고 물류 비용 감축으로 지역 발전에도 크게 기여할 것으로 기대된다 유정복 인천시장은 인천 북부지역은 국제공항과 가깝고 청라국제도시 건설 등으로 인구가 급증하고 있다 며 인천시민 300만명의 교통 편의와 지역발전을 위해 지하철이 가능한 한 이른 시일 안에 건설되도록 최선을 다할 것 이라고 강조했다 인천 정창교 기자 jcgyo kmib co kr']"
            ]
          },
          "metadata": {},
          "execution_count": 82
        }
      ],
      "source": [
        "# train 데이터 전처리\n",
        "train_X_cleaned = [clean_str(sentence) for sentence in train_text.text]\n",
        "train_X_cleaned_split = [sentence.split() for sentence in train_X_cleaned]\n",
        "train_X_cleaned[:3]"
      ]
    },
    {
      "cell_type": "code",
      "execution_count": null,
      "metadata": {
        "colab": {
          "base_uri": "https://localhost:8080/",
          "height": 286
        },
        "id": "gBLXwso60Icc",
        "outputId": "1368e5b7-6b59-46d3-942b-66e7491f21d5"
      },
      "outputs": [
        {
          "output_type": "display_data",
          "data": {
            "text/plain": [
              "<Figure size 432x288 with 1 Axes>"
            ],
            "image/png": "[encoded data removed]"
          },
          "metadata": {
            "needs_background": "light"
          }
        },
        {
          "output_type": "stream",
          "name": "stdout",
          "text": [
            "10\n"
          ]
        }
      ],
      "source": [
        "# 전체 문장의 단어 길이 확인\n",
        "import matplotlib.pyplot as plt\n",
        "sentence_len = [len(sentence) for sentence in train_X_cleaned_split]\n",
        "sentence_len.sort()\n",
        "plt.plot(sentence_len)\n",
        "plt.show()\n",
        "\n",
        "print(sum([int(l<=25) for l in sentence_len]))"
      ]
    },
    {
      "cell_type": "code",
      "source": [
        "np.mean([len(x) for x in train_X_cleaned_split])"
      ],
      "metadata": {
        "colab": {
          "base_uri": "https://localhost:8080/"
        },
        "id": "CatKm33dnW5_",
        "outputId": "5e49d36b-973f-4653-9341-2f860a3e3613"
      },
      "execution_count": null,
      "outputs": [
        {
          "output_type": "execute_result",
          "data": {
            "text/plain": [
              "202.76646833829153"
            ]
          },
          "metadata": {},
          "execution_count": 31
        }
      ]
    },
    {
      "cell_type": "markdown",
      "source": [
        "## 그래프로 확인하고 train 데이터의 문장 길이들의 평균을 조사해봤는데 200 라인이 나왔다. \n",
        "## 그러나 단어를 많이 나온 순서대로 정렬해 놓은 상태가 아니기 때문에 너무 긴 문장 길이는 오히려 학습에 악영향을 끼칠 수 있으므로 학습속도와 정확도를 고려하여 적절하게 조절하였다.\n",
        "\n",
        "## 다만, 좀 더 시간이 주어진다면 상위 단어들을 학습에 이용하여 학습에 얼마나 차이가 있는지 비교하면 좋을 거 같다."
      ],
      "metadata": {
        "id": "W3cgJywBqFvw"
      }
    },
    {
      "cell_type": "code",
      "execution_count": null,
      "metadata": {
        "colab": {
          "base_uri": "https://localhost:8080/"
        },
        "id": "hOvU-VBX0fmw",
        "outputId": "a0e69adc-d3da-41e2-8aa3-a84dc0c49e15"
      },
      "outputs": [
        {
          "output_type": "stream",
          "name": "stdout",
          "text": [
            "['이에', '따른다면', '초등학생들', '소비', '문화는', '디지털', '강국의', '개국', '공신', '이', '되려는', '몸부림으로', '여길', '수도', '있다', '하지만', '지나친', '부모의', '교육열이', '부른', '무분별한', '소비라는', '지적도', '만만치', '않다', '경기도', '수원의', '한', '초등학교', '교사는', '수업', '시간에', '휴대전화로', '문자를', '주고받기에', '혼냈더니', '다음날', '부모가', '찾아와', '내', '아이', '문제에', '끼어들지', '말라', '고', '했다', '요즘', '초등학생들', '서구적', '가치관도']\n",
            "['지난', '14일', '우리정부가', '난민', '신청을', '한', '예멘인들에', '대해', '인도적', '체류를', '허가했는데', '난민', '체류', '허가', '뒤', '맞이한', '첫', '주말', '서울', '도심에선', '도로', '하나를', '사이에', '두고난민에', '대한', '서로', '다른', '목소리가', '터져나왔습', '강병수', '기자가', '현장에', '다녀왔습니', '리포트', '정부의', '제주도', '예멘', '난민', '일부에', '대한', '인도적', '체류', '허가', '뒤', '맞은', '첫', '주말', '난민', '찬성을', '주장하는']\n",
            "['인천시', '서구와', '계양구에서', '경기도', '부천을', '거쳐', '서울', '홍대까지', '지하철이', '건설될', '것으로', '보인다', '유정복', '인천시장', '강범석', '서구청장', '박형우', '계양구청장', '남경필', '경기도지사', '김만수', '부천시장은', '20일', '오후', '부천시청에', '수도권', '서부지역', '경인축', '광역철도망', '확충을', '위한', '공동업무', '추진협약', '을', '맺었다', '협약에', '따라', '이들', '시', '도와', '시', '구는', '인천시', '서구', '계양구', '부천', '원종', '구간', '12', '3']\n",
            "['김성태', '자유한국당', '의원이', '최근', '황운하', '울산경찰청', '벌인', '미친개', '공방을', '언급하며', '몸을', '낮췄다', '김', '원내대표는', '27일', 'YTN', '라디오', '출발', '새아침', '에', '출연해', '우리', '당', '대변인', '발언이', '좀', '강했던', '건', '사실', '이라며', '울산', '경찰청의', '정치공작적', '일면을', '가지고', '이야기한', '부분이', '마치', '경찰', '전체에게', '모욕감을', '준', '내용처럼', '본말이', '전도돼', '버렸다', '고', '설명했다', '그러면서', '대단히']\n",
            "['지난해', '사상', '최대', '실적을', '거뒀던', '우리', '수출이', '새해에도', '좋은', '흐름을', '이어갔습니', '지난달', '수출이', '22', '증가해', '역대', '1월', '실적', '가운데', '최대를', '기록했습니', '보도에', '김병용', '기자입니다', '리포트', '산업통상자', '지난달', '수출액이', '492억', '달러로', '잠정', '집계됐다고', '밝혔습니다', '지난해', '같은', '기간보다', '22', '증가한', '것인데', '역대', '1월', '수출', '가운데', '최대', '실적입니다', '4개월', '만에', '다시', '두', '자릿수']\n"
          ]
        }
      ],
      "source": [
        "# 단어 정제 및 문장 길이 일정화\n",
        "sentences_new = []\n",
        "for sentence in train_X_cleaned_split:\n",
        "    sentences_new.append([word[:5] for word in sentence][:50])\n",
        "sentences = sentences_new\n",
        "for i in range(5): \n",
        "    print(sentences[i])"
      ]
    },
    {
      "cell_type": "markdown",
      "source": [
        "## 시각화를 위해 상위 단어들을 정렬하면서 불용어들을 팀원 주관적으로 조사하여 추가하였다."
      ],
      "metadata": {
        "id": "qjcK5t-nqwa_"
      }
    },
    {
      "cell_type": "code",
      "source": [
        "import nltk\n",
        "from konlpy.corpus import kolaw\n",
        "from konlpy.tag import Okt\n",
        "t = Okt()\n",
        "\n",
        "noun_sentences = []\n",
        "\n",
        "for sentence in tqdm(sentences):\n",
        "    temp_joined = ' '.join(sentence)\n",
        "    text_no = t.nouns(temp_joined)\n",
        "    stop_words = ['등', '말', '대해', '대한', '김', '이번', '며', '지난', '박', '이', '오늘', '문', '통해', '우리', '명' , '상황',\n",
        "                    '관', '강조', '사실', '대화', '뒤', '내용', '라며', '이후', '확인', '일', '중', '제', '오', '점', '씨', '것',\n",
        "                '수', '고', '때문', '지난해', '로', '를', '전', '최근', '개', '위해','또', '달', '위', '더', '그', '때', '올해', '의',\n",
        "                '건', '모두', '및', '관련', '결과', '경우', '곳', '과정', '당시', '가운데', '예정', '비', '시작', '지금', '날', '앞',\n",
        "                '내일', '다시', '게', '못', '후', '정도', '거', '다른', '현재', '데', '최' '기자', '뉴스', '사람', '두', '한편', '나',\n",
        "                '도', '처음', '저', '계속', '단', '하나']\n",
        "    ko_token = [each_word for each_word in text_no if each_word not in stop_words]\n",
        "    noun_sentences.append(ko_token)"
      ],
      "metadata": {
        "colab": {
          "base_uri": "https://localhost:8080/",
          "height": 49,
          "referenced_widgets": [
            "63baa401b90c41238ce23d5441041b78",
            "8fa6fc796eb14fe294600817b376a945",
            "b388f09fdf7c4b409ea1caf2c62234b1",
            "0f2b434f46b84d5a8571b0365d7280e5",
            "7290a67c9527478bb5339ac2e743fbf0",
            "88a41f2e777c40f3aa63505b2bacd788",
            "15d65b5ef0a3494d805cbb7a47b8e5b1",
            "528d714d31a948ef8706475d46002721",
            "9ce2f41c55804fff92de18999c0b9a35",
            "d0eb42b969eb401db4a937092a1e4d6b",
            "e554885aced14b4aae9345d90d296e99"
          ]
        },
        "id": "x2KckkY6epRB",
        "outputId": "d92509e2-4e5a-407e-8fe9-951ca097493a"
      },
      "execution_count": null,
      "outputs": [
        {
          "output_type": "display_data",
          "data": {
            "text/plain": [
              "  0%|          | 0/37648 [00:00<?, ?it/s]"
            ],
            "application/vnd.jupyter.widget-view+json": {
              "version_major": 2,
              "version_minor": 0,
              "model_id": "63baa401b90c41238ce23d5441041b78"
            }
          },
          "metadata": {}
        }
      ]
    },
    {
      "cell_type": "code",
      "source": [
        "for i in range(5): \n",
        "    print(noun_sentences[i])"
      ],
      "metadata": {
        "colab": {
          "base_uri": "https://localhost:8080/"
        },
        "id": "xMK5l0ZTvN_Z",
        "outputId": "d92cb768-7e62-46ac-f405-4b5d0d6343f5"
      },
      "execution_count": null,
      "outputs": [
        {
          "output_type": "stream",
          "name": "stdout",
          "text": [
            "['초등학생', '소비', '문화', '디지털', '강국', '개국', '공신', '몸부림', '수도', '부모', '교육', '열', '무분별', '소비', '지적도', '만', '경기도', '수원', '초등학교', '교사', '수업', '시간', '휴대전화', '문자', '다음', '부모', '내', '아이', '문제', '요즘', '초등학생', '서구', '가치관']\n",
            "['정부', '난민', '신청', '예멘', '인도', '체류', '허가', '난민', '체류', '허가', '맞이', '첫', '주말', '서울', '도심', '도로', '사이', '난민', '서로', '목소리', '습', '강병수', '기자', '현장', '습', '리포트', '정부', '제주도', '예멘', '난민', '일부', '인도', '체류', '허가', '첫', '주말', '난민', '찬성', '주장']\n",
            "['인천', '시', '서구', '계양구', '경기도', '부천', '서울', '홍대', '지하철', '건설', '유정복', '인천', '시장', '강범석', '서구청', '박형우', '계양구', '청장', '남경필', '경기도', '지사', '김만수', '부천시', '오후', '부천', '시청', '수도권', '부지역', '경인', '축', '광역철도', '망', '확충', '공동', '업무', '추진', '협약', '협약', '시', '시', '구', '인천', '시', '서구', '계양구', '부천', '원종', '구간']\n",
            "['김성태', '자유', '한국', '의원', '황운하', '울산', '경찰청', '방', '언급', '몸', '원내대표', '라디오', '출발', '아침', '출연', '당', '대변인', '발언', '좀', '울산', '경찰청', '정치', '공작', '일면', '가지', '이야기', '부분', '마치', '경찰', '전체', '모욕감', '준', '전도', '설명']\n",
            "['사상', '최대', '실적', '수출', '새해', '흐름', '습', '지난달', '수출', '증가', '역대', '실적', '최대', '기록', '습', '보도', '병용', '기자', '리포트', '산업', '통상', '지난달', '수출', '액', '달러', '잠정', '집계', '기간', '증가', '역대', '수출', '최대', '실적', '개월', '자릿수']\n"
          ]
        }
      ]
    },
    {
      "cell_type": "code",
      "execution_count": null,
      "metadata": {
        "colab": {
          "base_uri": "https://localhost:8080/"
        },
        "id": "xGnTE0BP1zFi",
        "outputId": "3aeac564-0b95-498f-adea-dec8ac3d5aef"
      },
      "outputs": [
        {
          "output_type": "stream",
          "name": "stdout",
          "text": [
            "[[153 944 486 167 319 133 521  27 102  62 237  20 456   0   0   0   0   0\n",
            "    0   0   0   0   0   0   0   0   0   0   0   0   0   0   0   0   0   0\n",
            "    0   0   0   0   0   0   0   0   0   0   0   0   0   0   0   0]\n",
            " [ 10 405 739  33 332   8 813 156 219 902 519   1   2 119   1   3  10 468\n",
            "   84 739  33 332 137   0   0   0   0   0   0   0   0   0   0   0   0   0\n",
            "    0   0   0   0   0   0   0   0   0   0   0   0   0   0   0   0]\n",
            " [131 108 133   8 152 131  63 133 218  15 275 243 377  86 911 911 108 108\n",
            "  453 131 108   0   0   0   0   0   0   0   0   0   0   0   0   0   0   0\n",
            "    0   0   0   0   0   0   0   0   0   0   0   0   0   0   0   0]\n",
            " [147   7  13 707 469 586 802 563 635 251 175 257 564 447 707 230 346 427\n",
            "  857 744  18 291 648 344   0   0   0   0   0   0   0   0   0   0   0   0\n",
            "    0   0   0   0   0   0   0   0   0   0   0   0   0   0   0   0]\n",
            " [531 157 512 870   1 111 512 173 157  68   1   4   2   3 225 111 512 383\n",
            "  858 617 224 173 512 157 192   0   0   0   0   0   0   0   0   0   0   0\n",
            "    0   0   0   0   0   0   0   0   0   0   0   0   0   0   0   0]]\n",
            "37648\n"
          ]
        }
      ],
      "source": [
        "# Tokenizer와 pad_sequences를 사용한 문장 전처리\n",
        "from tensorflow.keras.preprocessing.text import Tokenizer\n",
        "from tensorflow.keras.preprocessing.sequence import pad_sequences\n",
        "\n",
        "tokenizer = Tokenizer(num_words=1000) # 빈도수대로 1000개의 단어만 토큰화(사전화)\n",
        "tokenizer.fit_on_texts(noun_sentences) # 토크나이저에 각 문장을 실제로 입력\n",
        "train_X = tokenizer.texts_to_sequences(noun_sentences) # 입력받은 문장을 실제로 변환\n",
        "train_X = pad_sequences(train_X, padding='post')  # 짧은 문장을 같은 길이의 문장(52단어)로 바꾸기 위한 패딩 넣기\n",
        "\n",
        "print(train_X[:5])\n",
        "print(len(train_X))"
      ]
    },
    {
      "cell_type": "code",
      "source": [
        "min([len(tr) for tr in train_X])"
      ],
      "metadata": {
        "colab": {
          "base_uri": "https://localhost:8080/"
        },
        "id": "z2wSruT3bPQv",
        "outputId": "c9601f24-641b-48c6-8b21-55c4c7f958a5"
      },
      "execution_count": null,
      "outputs": [
        {
          "output_type": "execute_result",
          "data": {
            "text/plain": [
              "52"
            ]
          },
          "metadata": {},
          "execution_count": 38
        }
      ]
    },
    {
      "cell_type": "code",
      "source": [
        "train_X.shape"
      ],
      "metadata": {
        "colab": {
          "base_uri": "https://localhost:8080/"
        },
        "id": "s6F3jpWwlRJS",
        "outputId": "5cd67503-ca9a-43ff-8f50-92dfffc895c9"
      },
      "execution_count": null,
      "outputs": [
        {
          "output_type": "execute_result",
          "data": {
            "text/plain": [
              "(37648, 52)"
            ]
          },
          "metadata": {},
          "execution_count": 39
        }
      ]
    },
    {
      "cell_type": "code",
      "source": [
        "val_X = train_X[30000:]\n",
        "print(val_X.shape)\n",
        "train_X = train_X[:30000]\n",
        "print(train_X.shape)\n",
        "val_Y = target[30000:]\n",
        "print(val_Y.shape)\n",
        "train_Y = target[:30000]\n",
        "print(train_Y.shape)"
      ],
      "metadata": {
        "colab": {
          "base_uri": "https://localhost:8080/"
        },
        "id": "r6_we7tszIMm",
        "outputId": "4521c847-900e-4e9e-9503-f432042570de"
      },
      "execution_count": null,
      "outputs": [
        {
          "output_type": "stream",
          "name": "stdout",
          "text": [
            "(7648, 52)\n",
            "(30000, 52)\n",
            "(7648,)\n",
            "(30000,)\n"
          ]
        }
      ]
    },
    {
      "cell_type": "code",
      "execution_count": null,
      "metadata": {
        "id": "jyDJrWiW4JbB",
        "colab": {
          "base_uri": "https://localhost:8080/"
        },
        "outputId": "af196d71-770b-4ccc-c42b-bbc9e987beba"
      },
      "outputs": [
        {
          "output_type": "stream",
          "name": "stderr",
          "text": [
            "WARNING:tensorflow:Layer lstm_1 will not use cuDNN kernels since it doesn't meet the criteria. It will use a generic GPU kernel as fallback when running on GPU.\n"
          ]
        },
        {
          "output_type": "stream",
          "name": "stdout",
          "text": [
            "Model: \"sequential_1\"\n",
            "_________________________________________________________________\n",
            " Layer (type)                Output Shape              Param #   \n",
            "=================================================================\n",
            " embedding_1 (Embedding)     (None, 52, 128)           128000    \n",
            "                                                                 \n",
            " lstm_1 (LSTM)               (None, 64)                49408     \n",
            "                                                                 \n",
            " dense_2 (Dense)             (None, 32)                2080      \n",
            "                                                                 \n",
            " dense_3 (Dense)             (None, 6)                 198       \n",
            "                                                                 \n",
            "=================================================================\n",
            "Total params: 179,686\n",
            "Trainable params: 179,686\n",
            "Non-trainable params: 0\n",
            "_________________________________________________________________\n",
            "Epoch 1/10\n",
            "188/188 [==============================] - 44s 213ms/step - loss: 1.4508 - accuracy: 0.4225 - val_loss: 1.3270 - val_accuracy: 0.4857\n",
            "Epoch 2/10\n",
            "188/188 [==============================] - 40s 212ms/step - loss: 1.2081 - accuracy: 0.5390 - val_loss: 1.1406 - val_accuracy: 0.5680\n",
            "Epoch 3/10\n",
            "188/188 [==============================] - 43s 228ms/step - loss: 1.0563 - accuracy: 0.6245 - val_loss: 1.0445 - val_accuracy: 0.6330\n",
            "Epoch 4/10\n",
            "188/188 [==============================] - 39s 208ms/step - loss: 0.9589 - accuracy: 0.6780 - val_loss: 0.9799 - val_accuracy: 0.6545\n",
            "Epoch 5/10\n",
            "188/188 [==============================] - 39s 210ms/step - loss: 0.9061 - accuracy: 0.7034 - val_loss: 0.9514 - val_accuracy: 0.6813\n",
            "Epoch 6/10\n",
            "188/188 [==============================] - 40s 210ms/step - loss: 0.8623 - accuracy: 0.7210 - val_loss: 0.9290 - val_accuracy: 0.6997\n",
            "Epoch 7/10\n",
            "188/188 [==============================] - 39s 207ms/step - loss: 0.8230 - accuracy: 0.7375 - val_loss: 0.9359 - val_accuracy: 0.7033\n",
            "Epoch 8/10\n",
            "188/188 [==============================] - 39s 208ms/step - loss: 0.7958 - accuracy: 0.7467 - val_loss: 0.9368 - val_accuracy: 0.7042\n",
            "Epoch 9/10\n",
            "188/188 [==============================] - 39s 210ms/step - loss: 0.7736 - accuracy: 0.7544 - val_loss: 0.9048 - val_accuracy: 0.7078\n",
            "Epoch 10/10\n",
            "188/188 [==============================] - 39s 210ms/step - loss: 0.7586 - accuracy: 0.7583 - val_loss: 0.9685 - val_accuracy: 0.6955\n"
          ]
        }
      ],
      "source": [
        "# 감성 분석 모델 정의\n",
        "model = tf.keras.Sequential([\n",
        "    tf.keras.layers.Embedding(1000, 128, input_length=train_X.shape[1]),\n",
        "    tf.keras.layers.LSTM(units=64, dropout=0.2, recurrent_dropout=0.2), \n",
        "    tf.keras.layers.Dense(32, activation='relu'),\n",
        "    tf.keras.layers.Dense(6, activation='softmax') # 6개로 분류할 예정이기에 6개 출력층 사용\n",
        "])\n",
        "\n",
        "model.compile(optimizer='rmsprop', loss='sparse_categorical_crossentropy', metrics=['accuracy'])\n",
        "model.summary()\n",
        "\n",
        "# 모델 학습\n",
        "history = model.fit(train_X, train_Y, epochs=10, batch_size=128, validation_split=0.2)"
      ]
    },
    {
      "cell_type": "code",
      "source": [
        "# 학습 결과 확인\n",
        "import matplotlib.pyplot as plt\n",
        "plt.plot(history.history['loss'], 'b-', label='loss')\n",
        "plt.plot(history.history['val_loss'], 'r--', label='val_loss')\n",
        "plt.xlabel('Epoch')\n",
        "plt.legend()\n",
        "plt.show()"
      ],
      "metadata": {
        "colab": {
          "base_uri": "https://localhost:8080/",
          "height": 285
        },
        "id": "pheC4aaoS7Bi",
        "outputId": "ecd25877-9c68-4a78-f02c-6c401281d58d"
      },
      "execution_count": null,
      "outputs": [
        {
          "output_type": "display_data",
          "data": {
            "text/plain": [
              "<Figure size 432x288 with 1 Axes>"
            ],
            "image/png": "[encoded data removed]"
          },
          "metadata": {
            "needs_background": "light"
          }
        }
      ]
    },
    {
      "cell_type": "markdown",
      "source": [
        "## 모델을 학습하였을 때 train과 validation loss를 비교하였을 때 epoch = 5 일때가 과적합이 일어나지 않는 가장 적합한 epoch으로 판단하였다."
      ],
      "metadata": {
        "id": "xFGfoTvBr2l6"
      }
    },
    {
      "cell_type": "code",
      "source": [
        "# 감성 분석 모델 정의\n",
        "model = tf.keras.Sequential([\n",
        "    tf.keras.layers.Embedding(1000, 128, input_length=train_X.shape[1]),\n",
        "    tf.keras.layers.LSTM(units=64, dropout=0.2, recurrent_dropout=0.2), \n",
        "    tf.keras.layers.Dense(32, activation='relu'),\n",
        "    # tf.keras.layers.Dense(16, activation='relu'),\n",
        "    tf.keras.layers.Dense(6, activation='softmax') # 6개로 분류할 예정이기에 6개 출력층 사용\n",
        "])\n",
        "\n",
        "# model.compile(optimizer='rmsprop', loss='sparse_categorical_crossentropy', metrics=['accuracy'])\n",
        "model.compile(optimizer='rmsprop', loss='sparse_categorical_crossentropy', metrics=['accuracy'])\n",
        "model.summary()\n",
        "\n",
        "# 모델 학습\n",
        "history = model.fit(train_X, train_Y, epochs=5, batch_size=128, validation_split=0.2)"
      ],
      "metadata": {
        "colab": {
          "base_uri": "https://localhost:8080/"
        },
        "id": "x4LV7SIDcMkC",
        "outputId": "796e02dd-ad1b-4b4f-d334-e2427bbe03bf"
      },
      "execution_count": null,
      "outputs": [
        {
          "output_type": "stream",
          "name": "stderr",
          "text": [
            "WARNING:tensorflow:Layer lstm_2 will not use cuDNN kernels since it doesn't meet the criteria. It will use a generic GPU kernel as fallback when running on GPU.\n"
          ]
        },
        {
          "output_type": "stream",
          "name": "stdout",
          "text": [
            "Model: \"sequential_2\"\n",
            "_________________________________________________________________\n",
            " Layer (type)                Output Shape              Param #   \n",
            "=================================================================\n",
            " embedding_2 (Embedding)     (None, 52, 128)           128000    \n",
            "                                                                 \n",
            " lstm_2 (LSTM)               (None, 64)                49408     \n",
            "                                                                 \n",
            " dense_4 (Dense)             (None, 32)                2080      \n",
            "                                                                 \n",
            " dense_5 (Dense)             (None, 6)                 198       \n",
            "                                                                 \n",
            "=================================================================\n",
            "Total params: 179,686\n",
            "Trainable params: 179,686\n",
            "Non-trainable params: 0\n",
            "_________________________________________________________________\n",
            "Epoch 1/5\n",
            "188/188 [==============================] - 45s 225ms/step - loss: 1.4722 - accuracy: 0.4173 - val_loss: 1.2807 - val_accuracy: 0.4990\n",
            "Epoch 2/5\n",
            "188/188 [==============================] - 50s 264ms/step - loss: 1.2075 - accuracy: 0.5363 - val_loss: 1.1205 - val_accuracy: 0.5742\n",
            "Epoch 3/5\n",
            "188/188 [==============================] - 42s 224ms/step - loss: 1.0814 - accuracy: 0.6062 - val_loss: 1.0360 - val_accuracy: 0.6240\n",
            "Epoch 4/5\n",
            "188/188 [==============================] - 41s 220ms/step - loss: 0.9763 - accuracy: 0.6622 - val_loss: 1.0019 - val_accuracy: 0.6453\n",
            "Epoch 5/5\n",
            "188/188 [==============================] - 41s 216ms/step - loss: 0.9214 - accuracy: 0.6884 - val_loss: 0.9622 - val_accuracy: 0.6655\n"
          ]
        }
      ]
    },
    {
      "cell_type": "code",
      "source": [
        "model.evaluate(val_X, val_Y, verbose=0)"
      ],
      "metadata": {
        "id": "cmU_898Yjf2l",
        "colab": {
          "base_uri": "https://localhost:8080/"
        },
        "outputId": "3be14f67-6cc8-431d-d043-bf0aceb95b12"
      },
      "execution_count": null,
      "outputs": [
        {
          "output_type": "execute_result",
          "data": {
            "text/plain": [
              "[0.9616853594779968, 0.6711558699607849]"
            ]
          },
          "metadata": {},
          "execution_count": 55
        }
      ]
    },
    {
      "cell_type": "code",
      "source": [
        "# 새 데이터 넣고 확인\n",
        "# https://n.news.naver.com/article/055/0001017423?cds=news_media_pc&type=editn\n",
        "test_sentence = '''16강 대진표가 하나 둘 추려지고 있는 2022 카타르 월드컵에서 비디오 판독(VAR)이 승패의 변수로 떠오를 만큼 큰 위력을 발휘하고 있습니다. \n",
        "오늘(2일) 새벽까지 이어진 2022 카타르 월드컵 44경기 중 판정 반복 사례를 추린 결과, 현재까지 22번의 판정 번복이 발생한 것으로 집계됐습니다. \n",
        "이는 'VAR이 판정을 바꾼 사례'만을 추린 것으로, 우리나라와 가나의 경기에서 모하메드 살리수의 첫 골 이후 진행된 'VAR 판독'은 집계에 포함되지 않습니다.'''\n",
        "test_sentence = test_sentence.split(' ')\n",
        "test_sentences = [test_sentence]\n",
        "\n",
        "test_X_1 = tokenizer.texts_to_sequences(test_sentences)\n",
        "test_X_1 = pad_sequences(test_X_1, padding='post', maxlen=52)\n",
        "print(test_X_1)\n",
        "prediction = model.predict(test_X_1)\n",
        "for pred in prediction[0]:\n",
        "    print(\"%0.4f\" % pred, end=' ')"
      ],
      "metadata": {
        "colab": {
          "base_uri": "https://localhost:8080/"
        },
        "id": "t4VRkqBpPACp",
        "outputId": "e87b1bef-297a-4c3a-c51c-fbe76268ee53"
      },
      "execution_count": null,
      "outputs": [
        {
          "output_type": "stream",
          "name": "stdout",
          "text": [
            "[[0 0 0 0 0 0 0 0 0 0 0 0 0 0 0 0 0 0 0 0 0 0 0 0 0 0 0 0 0 0 0 0 0 0 0 0\n",
            "  0 0 0 0 0 0 0 0 0 0 0 0 0 0 0 0]]\n",
            "1/1 [==============================] - 0s 53ms/step\n",
            "0.0162 0.1153 0.6064 0.1118 0.1295 0.0208 "
          ]
        }
      ]
    },
    {
      "cell_type": "markdown",
      "source": [
        "## 새로운 문장을 넣었을 때 스포츠에 대한 카테고리를 기대하고 predict 해보았으나 생활로 나온것을 알 수 있다. \n",
        "## 이러한 결과를 통해 아직 모델에 대해 학습이 부족하다는 것을 알 수 있었다."
      ],
      "metadata": {
        "id": "cPSkkgjBsPJX"
      }
    },
    {
      "cell_type": "markdown",
      "source": [
        "{0: '경제', 1: '사회', 2: '생활', 3: '스포츠', 4: '연예/문화', 5: '정치'}\n",
        "\n",
        "```\n",
        "# 코드로 형식 지정됨\n",
        "```\n",
        "\n"
      ],
      "metadata": {
        "id": "i2PYEOwkYtW2"
      }
    },
    {
      "cell_type": "markdown",
      "source": [
        "## test data를 train data 와 같은 방법으로 전처리를 해주고 모델에 결과를 확인해보았다."
      ],
      "metadata": {
        "id": "B-iVy8hRsjl-"
      }
    },
    {
      "cell_type": "code",
      "source": [
        "test_text"
      ],
      "metadata": {
        "colab": {
          "base_uri": "https://localhost:8080/",
          "height": 424
        },
        "id": "akQijouAf96o",
        "outputId": "24a6834c-6ebc-4f1f-f024-fb3d204cc834"
      },
      "execution_count": null,
      "outputs": [
        {
          "output_type": "execute_result",
          "data": {
            "text/plain": [
              "                                                   text\n",
              "0     \"[기자] 지난 24일 국회 국방위원회에서 현역 대령인 기무부대장이 송영무 국방장관...\n",
              "1     [IMG1] 한예슬-에릭 커플의 드라마 '스파이명월'의 시청률이 3회연속 하락세를 ...\n",
              "2     \"디지털 광장입니다. 운전대를 잡는 시간보다 구르고 넘어지는 시간이 더 많은 극한의...\n",
              "3     정부가 최저 임금 인상 대책으로 자영업자와 영세사업자에게 지원하는 일자리 안정자금의...\n",
              "4     청와대가 1박2일간 숨가빴던 방북 일정을 마치고 돌아온 대북특별사절단의 후일담을 8...\n",
              "...                                                 ...\n",
              "3098  중국인 왕즈, 명 밀수 차단에일본 터잡고 ‘왜구 약탈’ 솔선 일 기업인들 성금모아 ...\n",
              "3099  \"정상회담을 계기로 남북 학술 교류도 다시 시작될 것으로 보입니다. 멸종된 크낙새를...\n",
              "3100  중국 베이징시내 한국 일간신문 정기구독자들에게 18일 배달된 이 날짜 신문에서 자오...\n",
              "3101  \"인터넷전문은행이 출범한 지 1년이 됐는데요. 창구 갈 필요 없고 복잡한 인증절차도...\n",
              "3102  아파트값 상승세가 다시 확산될 조짐을 보이자 청와대 재정경제부 건설교통부 등이 모두...\n",
              "\n",
              "[3103 rows x 1 columns]"
            ],
            "text/html": [
              "\n",
              "  <div id=\"df-d48732a3-0437-4430-8c6e-6207d6909b51\">\n",
              "    <div class=\"colab-df-container\">\n",
              "      <div>\n",
              "<style scoped>\n",
              "    .dataframe tbody tr th:only-of-type {\n",
              "        vertical-align: middle;\n",
              "    }\n",
              "\n",
              "    .dataframe tbody tr th {\n",
              "        vertical-align: top;\n",
              "    }\n",
              "\n",
              "    .dataframe thead th {\n",
              "        text-align: right;\n",
              "    }\n",
              "</style>\n",
              "<table border=\"1\" class=\"dataframe\">\n",
              "  <thead>\n",
              "    <tr style=\"text-align: right;\">\n",
              "      <th></th>\n",
              "      <th>text</th>\n",
              "    </tr>\n",
              "  </thead>\n",
              "  <tbody>\n",
              "    <tr>\n",
              "      <th>0</th>\n",
              "      <td>\"[기자] 지난 24일 국회 국방위원회에서 현역 대령인 기무부대장이 송영무 국방장관...</td>\n",
              "    </tr>\n",
              "    <tr>\n",
              "      <th>1</th>\n",
              "      <td>[IMG1] 한예슬-에릭 커플의 드라마 '스파이명월'의 시청률이 3회연속 하락세를 ...</td>\n",
              "    </tr>\n",
              "    <tr>\n",
              "      <th>2</th>\n",
              "      <td>\"디지털 광장입니다. 운전대를 잡는 시간보다 구르고 넘어지는 시간이 더 많은 극한의...</td>\n",
              "    </tr>\n",
              "    <tr>\n",
              "      <th>3</th>\n",
              "      <td>정부가 최저 임금 인상 대책으로 자영업자와 영세사업자에게 지원하는 일자리 안정자금의...</td>\n",
              "    </tr>\n",
              "    <tr>\n",
              "      <th>4</th>\n",
              "      <td>청와대가 1박2일간 숨가빴던 방북 일정을 마치고 돌아온 대북특별사절단의 후일담을 8...</td>\n",
              "    </tr>\n",
              "    <tr>\n",
              "      <th>...</th>\n",
              "      <td>...</td>\n",
              "    </tr>\n",
              "    <tr>\n",
              "      <th>3098</th>\n",
              "      <td>중국인 왕즈, 명 밀수 차단에일본 터잡고 ‘왜구 약탈’ 솔선 일 기업인들 성금모아 ...</td>\n",
              "    </tr>\n",
              "    <tr>\n",
              "      <th>3099</th>\n",
              "      <td>\"정상회담을 계기로 남북 학술 교류도 다시 시작될 것으로 보입니다. 멸종된 크낙새를...</td>\n",
              "    </tr>\n",
              "    <tr>\n",
              "      <th>3100</th>\n",
              "      <td>중국 베이징시내 한국 일간신문 정기구독자들에게 18일 배달된 이 날짜 신문에서 자오...</td>\n",
              "    </tr>\n",
              "    <tr>\n",
              "      <th>3101</th>\n",
              "      <td>\"인터넷전문은행이 출범한 지 1년이 됐는데요. 창구 갈 필요 없고 복잡한 인증절차도...</td>\n",
              "    </tr>\n",
              "    <tr>\n",
              "      <th>3102</th>\n",
              "      <td>아파트값 상승세가 다시 확산될 조짐을 보이자 청와대 재정경제부 건설교통부 등이 모두...</td>\n",
              "    </tr>\n",
              "  </tbody>\n",
              "</table>\n",
              "<p>3103 rows × 1 columns</p>\n",
              "</div>\n",
              "      <button class=\"colab-df-convert\" onclick=\"convertToInteractive('df-d48732a3-0437-4430-8c6e-6207d6909b51')\"\n",
              "              title=\"Convert this dataframe to an interactive table.\"\n",
              "              style=\"display:none;\">\n",
              "        \n",
              "  <svg xmlns=\"http://www.w3.org/2000/svg\" height=\"24px\"viewBox=\"0 0 24 24\"\n",
              "       width=\"24px\">\n",
              "    <path d=\"M0 0h24v24H0V0z\" fill=\"none\"/>\n",
              "    <path d=\"M18.56 5.44l.94 2.06.94-2.06 2.06-.94-2.06-.94-.94-2.06-.94 2.06-2.06.94zm-11 1L8.5 8.5l.94-2.06 2.06-.94-2.06-.94L8.5 2.5l-.94 2.06-2.06.94zm10 10l.94 2.06.94-2.06 2.06-.94-2.06-.94-.94-2.06-.94 2.06-2.06.94z\"/><path d=\"M17.41 7.96l-1.37-1.37c-.4-.4-.92-.59-1.43-.59-.52 0-1.04.2-1.43.59L10.3 9.45l-7.72 7.72c-.78.78-.78 2.05 0 2.83L4 21.41c.39.39.9.59 1.41.59.51 0 1.02-.2 1.41-.59l7.78-7.78 2.81-2.81c.8-.78.8-2.07 0-2.86zM5.41 20L4 18.59l7.72-7.72 1.47 1.35L5.41 20z\"/>\n",
              "  </svg>\n",
              "      </button>\n",
              "      \n",
              "  <style>\n",
              "    .colab-df-container {\n",
              "      display:flex;\n",
              "      flex-wrap:wrap;\n",
              "      gap: 12px;\n",
              "    }\n",
              "\n",
              "    .colab-df-convert {\n",
              "      background-color: #E8F0FE;\n",
              "      border: none;\n",
              "      border-radius: 50%;\n",
              "      cursor: pointer;\n",
              "      display: none;\n",
              "      fill: #1967D2;\n",
              "      height: 32px;\n",
              "      padding: 0 0 0 0;\n",
              "      width: 32px;\n",
              "    }\n",
              "\n",
              "    .colab-df-convert:hover {\n",
              "      background-color: #E2EBFA;\n",
              "      box-shadow: 0px 1px 2px rgba(60, 64, 67, 0.3), 0px 1px 3px 1px rgba(60, 64, 67, 0.15);\n",
              "      fill: #174EA6;\n",
              "    }\n",
              "\n",
              "    [theme=dark] .colab-df-convert {\n",
              "      background-color: #3B4455;\n",
              "      fill: #D2E3FC;\n",
              "    }\n",
              "\n",
              "    [theme=dark] .colab-df-convert:hover {\n",
              "      background-color: #434B5C;\n",
              "      box-shadow: 0px 1px 3px 1px rgba(0, 0, 0, 0.15);\n",
              "      filter: drop-shadow(0px 1px 2px rgba(0, 0, 0, 0.3));\n",
              "      fill: #FFFFFF;\n",
              "    }\n",
              "  </style>\n",
              "\n",
              "      <script>\n",
              "        const buttonEl =\n",
              "          document.querySelector('#df-d48732a3-0437-4430-8c6e-6207d6909b51 button.colab-df-convert');\n",
              "        buttonEl.style.display =\n",
              "          google.colab.kernel.accessAllowed ? 'block' : 'none';\n",
              "\n",
              "        async function convertToInteractive(key) {\n",
              "          const element = document.querySelector('#df-d48732a3-0437-4430-8c6e-6207d6909b51');\n",
              "          const dataTable =\n",
              "            await google.colab.kernel.invokeFunction('convertToInteractive',\n",
              "                                                     [key], {});\n",
              "          if (!dataTable) return;\n",
              "\n",
              "          const docLinkHtml = 'Like what you see? Visit the ' +\n",
              "            '<a target=\"_blank\" href=https://colab.research.google.com/notebooks/data_table.ipynb>data table notebook</a>'\n",
              "            + ' to learn more about interactive tables.';\n",
              "          element.innerHTML = '';\n",
              "          dataTable['output_type'] = 'display_data';\n",
              "          await google.colab.output.renderOutput(dataTable, element);\n",
              "          const docLink = document.createElement('div');\n",
              "          docLink.innerHTML = docLinkHtml;\n",
              "          element.appendChild(docLink);\n",
              "        }\n",
              "      </script>\n",
              "    </div>\n",
              "  </div>\n",
              "  "
            ]
          },
          "metadata": {},
          "execution_count": 70
        }
      ]
    },
    {
      "cell_type": "code",
      "source": [
        "pred_arr = []\n",
        "for text in test_text.text:\n",
        "    # print(text)\n",
        "    text = text.split(' ')\n",
        "    text = [text]\n",
        "    text = tokenizer.texts_to_sequences(text)\n",
        "    text = pad_sequences(text, padding='post', maxlen=52)\n",
        "    # print(text)\n",
        "    prediction = model.predict(text)\n",
        "    idx = np.argmax(prediction[0])\n",
        "    pred_arr.append(idx)"
      ],
      "metadata": {
        "id": "AytUIw3Seqx8"
      },
      "execution_count": null,
      "outputs": []
    },
    {
      "cell_type": "code",
      "source": [
        "for pred in pred_arr[:10]:\n",
        "    print(pred, end=' ')"
      ],
      "metadata": {
        "colab": {
          "base_uri": "https://localhost:8080/"
        },
        "id": "n3AJiMPHhFXK",
        "outputId": "5b03bdc9-aca5-410c-f0d2-c0e6b3a3bb9e"
      },
      "execution_count": null,
      "outputs": [
        {
          "output_type": "stream",
          "name": "stdout",
          "text": [
            "5 4 3 1 5 1 1 4 4 5 "
          ]
        }
      ]
    },
    {
      "cell_type": "code",
      "source": [
        "mapp = {0: '경제', 1: '사회', 2: '생활', 3: '스포츠', 4: '연예/문화', 5: '정치'}\n",
        "conv_pred_arr = []\n",
        "for pred in pred_arr:\n",
        "    conv_pred_arr.append(mapp[pred])"
      ],
      "metadata": {
        "id": "cLcMu5eNf0OU"
      },
      "execution_count": null,
      "outputs": []
    },
    {
      "cell_type": "code",
      "source": [
        "for pred in conv_pred_arr[:10]:\n",
        "    print(pred, end=' ')"
      ],
      "metadata": {
        "colab": {
          "base_uri": "https://localhost:8080/"
        },
        "id": "hc-_GLdRhI7y",
        "outputId": "93a91343-7ba9-406c-dc33-93ff8bc02dfa"
      },
      "execution_count": null,
      "outputs": [
        {
          "output_type": "stream",
          "name": "stdout",
          "text": [
            "정치 연예/문화 스포츠 사회 정치 사회 사회 연예/문화 연예/문화 정치 "
          ]
        }
      ]
    },
    {
      "cell_type": "markdown",
      "source": [
        "## 대회에서 요구한 조건대로 제출할 데이터 틀을 만들기 위한 작업"
      ],
      "metadata": {
        "id": "dwlme8zYtKMm"
      }
    },
    {
      "cell_type": "code",
      "source": [
        "test_text.insert(1, \"category\", conv_pred_arr)"
      ],
      "metadata": {
        "id": "DTgPPv9gSGPB"
      },
      "execution_count": null,
      "outputs": []
    },
    {
      "cell_type": "code",
      "source": [
        "test_text.drop('text', axis=1 ,inplace=True)"
      ],
      "metadata": {
        "id": "JAZEhERahaut"
      },
      "execution_count": null,
      "outputs": []
    },
    {
      "cell_type": "code",
      "source": [
        "test_text"
      ],
      "metadata": {
        "colab": {
          "base_uri": "https://localhost:8080/",
          "height": 424
        },
        "id": "Xz983w8ahlOz",
        "outputId": "6c5fcebd-09ee-4986-dba9-a6d47530d949"
      },
      "execution_count": null,
      "outputs": [
        {
          "output_type": "execute_result",
          "data": {
            "text/plain": [
              "        ID category\n",
              "0        0       정치\n",
              "1        1    연예/문화\n",
              "2        2      스포츠\n",
              "3        3       사회\n",
              "4        4       정치\n",
              "...    ...      ...\n",
              "3098  3098       사회\n",
              "3099  3099      스포츠\n",
              "3100  3100       생활\n",
              "3101  3101       경제\n",
              "3102  3102       경제\n",
              "\n",
              "[3103 rows x 2 columns]"
            ],
            "text/html": [
              "\n",
              "  <div id=\"df-9be3aaa2-0c0c-45ae-a8ec-eab6efad052a\">\n",
              "    <div class=\"colab-df-container\">\n",
              "      <div>\n",
              "<style scoped>\n",
              "    .dataframe tbody tr th:only-of-type {\n",
              "        vertical-align: middle;\n",
              "    }\n",
              "\n",
              "    .dataframe tbody tr th {\n",
              "        vertical-align: top;\n",
              "    }\n",
              "\n",
              "    .dataframe thead th {\n",
              "        text-align: right;\n",
              "    }\n",
              "</style>\n",
              "<table border=\"1\" class=\"dataframe\">\n",
              "  <thead>\n",
              "    <tr style=\"text-align: right;\">\n",
              "      <th></th>\n",
              "      <th>ID</th>\n",
              "      <th>category</th>\n",
              "    </tr>\n",
              "  </thead>\n",
              "  <tbody>\n",
              "    <tr>\n",
              "      <th>0</th>\n",
              "      <td>0</td>\n",
              "      <td>정치</td>\n",
              "    </tr>\n",
              "    <tr>\n",
              "      <th>1</th>\n",
              "      <td>1</td>\n",
              "      <td>연예/문화</td>\n",
              "    </tr>\n",
              "    <tr>\n",
              "      <th>2</th>\n",
              "      <td>2</td>\n",
              "      <td>스포츠</td>\n",
              "    </tr>\n",
              "    <tr>\n",
              "      <th>3</th>\n",
              "      <td>3</td>\n",
              "      <td>사회</td>\n",
              "    </tr>\n",
              "    <tr>\n",
              "      <th>4</th>\n",
              "      <td>4</td>\n",
              "      <td>정치</td>\n",
              "    </tr>\n",
              "    <tr>\n",
              "      <th>...</th>\n",
              "      <td>...</td>\n",
              "      <td>...</td>\n",
              "    </tr>\n",
              "    <tr>\n",
              "      <th>3098</th>\n",
              "      <td>3098</td>\n",
              "      <td>사회</td>\n",
              "    </tr>\n",
              "    <tr>\n",
              "      <th>3099</th>\n",
              "      <td>3099</td>\n",
              "      <td>스포츠</td>\n",
              "    </tr>\n",
              "    <tr>\n",
              "      <th>3100</th>\n",
              "      <td>3100</td>\n",
              "      <td>생활</td>\n",
              "    </tr>\n",
              "    <tr>\n",
              "      <th>3101</th>\n",
              "      <td>3101</td>\n",
              "      <td>경제</td>\n",
              "    </tr>\n",
              "    <tr>\n",
              "      <th>3102</th>\n",
              "      <td>3102</td>\n",
              "      <td>경제</td>\n",
              "    </tr>\n",
              "  </tbody>\n",
              "</table>\n",
              "<p>3103 rows × 2 columns</p>\n",
              "</div>\n",
              "      <button class=\"colab-df-convert\" onclick=\"convertToInteractive('df-9be3aaa2-0c0c-45ae-a8ec-eab6efad052a')\"\n",
              "              title=\"Convert this dataframe to an interactive table.\"\n",
              "              style=\"display:none;\">\n",
              "        \n",
              "  <svg xmlns=\"http://www.w3.org/2000/svg\" height=\"24px\"viewBox=\"0 0 24 24\"\n",
              "       width=\"24px\">\n",
              "    <path d=\"M0 0h24v24H0V0z\" fill=\"none\"/>\n",
              "    <path d=\"M18.56 5.44l.94 2.06.94-2.06 2.06-.94-2.06-.94-.94-2.06-.94 2.06-2.06.94zm-11 1L8.5 8.5l.94-2.06 2.06-.94-2.06-.94L8.5 2.5l-.94 2.06-2.06.94zm10 10l.94 2.06.94-2.06 2.06-.94-2.06-.94-.94-2.06-.94 2.06-2.06.94z\"/><path d=\"M17.41 7.96l-1.37-1.37c-.4-.4-.92-.59-1.43-.59-.52 0-1.04.2-1.43.59L10.3 9.45l-7.72 7.72c-.78.78-.78 2.05 0 2.83L4 21.41c.39.39.9.59 1.41.59.51 0 1.02-.2 1.41-.59l7.78-7.78 2.81-2.81c.8-.78.8-2.07 0-2.86zM5.41 20L4 18.59l7.72-7.72 1.47 1.35L5.41 20z\"/>\n",
              "  </svg>\n",
              "      </button>\n",
              "      \n",
              "  <style>\n",
              "    .colab-df-container {\n",
              "      display:flex;\n",
              "      flex-wrap:wrap;\n",
              "      gap: 12px;\n",
              "    }\n",
              "\n",
              "    .colab-df-convert {\n",
              "      background-color: #E8F0FE;\n",
              "      border: none;\n",
              "      border-radius: 50%;\n",
              "      cursor: pointer;\n",
              "      display: none;\n",
              "      fill: #1967D2;\n",
              "      height: 32px;\n",
              "      padding: 0 0 0 0;\n",
              "      width: 32px;\n",
              "    }\n",
              "\n",
              "    .colab-df-convert:hover {\n",
              "      background-color: #E2EBFA;\n",
              "      box-shadow: 0px 1px 2px rgba(60, 64, 67, 0.3), 0px 1px 3px 1px rgba(60, 64, 67, 0.15);\n",
              "      fill: #174EA6;\n",
              "    }\n",
              "\n",
              "    [theme=dark] .colab-df-convert {\n",
              "      background-color: #3B4455;\n",
              "      fill: #D2E3FC;\n",
              "    }\n",
              "\n",
              "    [theme=dark] .colab-df-convert:hover {\n",
              "      background-color: #434B5C;\n",
              "      box-shadow: 0px 1px 3px 1px rgba(0, 0, 0, 0.15);\n",
              "      filter: drop-shadow(0px 1px 2px rgba(0, 0, 0, 0.3));\n",
              "      fill: #FFFFFF;\n",
              "    }\n",
              "  </style>\n",
              "\n",
              "      <script>\n",
              "        const buttonEl =\n",
              "          document.querySelector('#df-9be3aaa2-0c0c-45ae-a8ec-eab6efad052a button.colab-df-convert');\n",
              "        buttonEl.style.display =\n",
              "          google.colab.kernel.accessAllowed ? 'block' : 'none';\n",
              "\n",
              "        async function convertToInteractive(key) {\n",
              "          const element = document.querySelector('#df-9be3aaa2-0c0c-45ae-a8ec-eab6efad052a');\n",
              "          const dataTable =\n",
              "            await google.colab.kernel.invokeFunction('convertToInteractive',\n",
              "                                                     [key], {});\n",
              "          if (!dataTable) return;\n",
              "\n",
              "          const docLinkHtml = 'Like what you see? Visit the ' +\n",
              "            '<a target=\"_blank\" href=https://colab.research.google.com/notebooks/data_table.ipynb>data table notebook</a>'\n",
              "            + ' to learn more about interactive tables.';\n",
              "          element.innerHTML = '';\n",
              "          dataTable['output_type'] = 'display_data';\n",
              "          await google.colab.output.renderOutput(dataTable, element);\n",
              "          const docLink = document.createElement('div');\n",
              "          docLink.innerHTML = docLinkHtml;\n",
              "          element.appendChild(docLink);\n",
              "        }\n",
              "      </script>\n",
              "    </div>\n",
              "  </div>\n",
              "  "
            ]
          },
          "metadata": {},
          "execution_count": 80
        }
      ]
    },
    {
      "cell_type": "code",
      "source": [
        "# 제출 파일 제작\n",
        "test_text.to_csv(os.path.join('drive/MyDrive/ITStudy/data/', 'sample_pred.csv'), index=False)"
      ],
      "metadata": {
        "id": "x-qU_sLuSE0j"
      },
      "execution_count": null,
      "outputs": []
    }
  ],
  "metadata": {
    "colab": {
      "provenance": [],
      "toc_visible": true,
      "include_colab_link": true
    },
    "kernelspec": {
      "display_name": "Python 3.9.13 ('playdata')",
      "language": "python",
      "name": "python3"
    },
    "language_info": {
      "codemirror_mode": {
        "name": "ipython",
        "version": 3
      },
      "file_extension": ".py",
      "mimetype": "text/x-python",
      "name": "python",
      "nbconvert_exporter": "python",
      "pygments_lexer": "ipython3",
      "version": "3.9.13"
    },
    "vscode": {
      "interpreter": {
        "hash": "009ff67ebb9fd6dade4d32be45b86d738c48d6a819ebf4bfc892406def107b43"
      }
    },
    "accelerator": "GPU",
    "gpuClass": "standard",
    "widgets": {
      "application/vnd.jupyter.widget-state+json": {
        "63baa401b90c41238ce23d5441041b78": {
          "model_module": "@jupyter-widgets/controls",
          "model_name": "HBoxModel",
          "model_module_version": "1.5.0",
          "state": {
            "_dom_classes": [],
            "_model_module": "@jupyter-widgets/controls",
            "_model_module_version": "1.5.0",
            "_model_name": "HBoxModel",
            "_view_count": null,
            "_view_module": "@jupyter-widgets/controls",
            "_view_module_version": "1.5.0",
            "_view_name": "HBoxView",
            "box_style": "",
            "children": [
              "IPY_MODEL_8fa6fc796eb14fe294600817b376a945",
              "IPY_MODEL_b388f09fdf7c4b409ea1caf2c62234b1",
              "IPY_MODEL_0f2b434f46b84d5a8571b0365d7280e5"
            ],
            "layout": "IPY_MODEL_7290a67c9527478bb5339ac2e743fbf0"
          }
        },
        "8fa6fc796eb14fe294600817b376a945": {
          "model_module": "@jupyter-widgets/controls",
          "model_name": "HTMLModel",
          "model_module_version": "1.5.0",
          "state": {
            "_dom_classes": [],
            "_model_module": "@jupyter-widgets/controls",
            "_model_module_version": "1.5.0",
            "_model_name": "HTMLModel",
            "_view_count": null,
            "_view_module": "@jupyter-widgets/controls",
            "_view_module_version": "1.5.0",
            "_view_name": "HTMLView",
            "description": "",
            "description_tooltip": null,
            "layout": "IPY_MODEL_88a41f2e777c40f3aa63505b2bacd788",
            "placeholder": "​",
            "style": "IPY_MODEL_15d65b5ef0a3494d805cbb7a47b8e5b1",
            "value": "100%"
          }
        },
        "b388f09fdf7c4b409ea1caf2c62234b1": {
          "model_module": "@jupyter-widgets/controls",
          "model_name": "FloatProgressModel",
          "model_module_version": "1.5.0",
          "state": {
            "_dom_classes": [],
            "_model_module": "@jupyter-widgets/controls",
            "_model_module_version": "1.5.0",
            "_model_name": "FloatProgressModel",
            "_view_count": null,
            "_view_module": "@jupyter-widgets/controls",
            "_view_module_version": "1.5.0",
            "_view_name": "ProgressView",
            "bar_style": "success",
            "description": "",
            "description_tooltip": null,
            "layout": "IPY_MODEL_528d714d31a948ef8706475d46002721",
            "max": 37648,
            "min": 0,
            "orientation": "horizontal",
            "style": "IPY_MODEL_9ce2f41c55804fff92de18999c0b9a35",
            "value": 37648
          }
        },
        "0f2b434f46b84d5a8571b0365d7280e5": {
          "model_module": "@jupyter-widgets/controls",
          "model_name": "HTMLModel",
          "model_module_version": "1.5.0",
          "state": {
            "_dom_classes": [],
            "_model_module": "@jupyter-widgets/controls",
            "_model_module_version": "1.5.0",
            "_model_name": "HTMLModel",
            "_view_count": null,
            "_view_module": "@jupyter-widgets/controls",
            "_view_module_version": "1.5.0",
            "_view_name": "HTMLView",
            "description": "",
            "description_tooltip": null,
            "layout": "IPY_MODEL_d0eb42b969eb401db4a937092a1e4d6b",
            "placeholder": "​",
            "style": "IPY_MODEL_e554885aced14b4aae9345d90d296e99",
            "value": " 37648/37648 [15:30&lt;00:00, 31.78it/s]"
          }
        },
        "7290a67c9527478bb5339ac2e743fbf0": {
          "model_module": "@jupyter-widgets/base",
          "model_name": "LayoutModel",
          "model_module_version": "1.2.0",
          "state": {
            "_model_module": "@jupyter-widgets/base",
            "_model_module_version": "1.2.0",
            "_model_name": "LayoutModel",
            "_view_count": null,
            "_view_module": "@jupyter-widgets/base",
            "_view_module_version": "1.2.0",
            "_view_name": "LayoutView",
            "align_content": null,
            "align_items": null,
            "align_self": null,
            "border": null,
            "bottom": null,
            "display": null,
            "flex": null,
            "flex_flow": null,
            "grid_area": null,
            "grid_auto_columns": null,
            "grid_auto_flow": null,
            "grid_auto_rows": null,
            "grid_column": null,
            "grid_gap": null,
            "grid_row": null,
            "grid_template_areas": null,
            "grid_template_columns": null,
            "grid_template_rows": null,
            "height": null,
            "justify_content": null,
            "justify_items": null,
            "left": null,
            "margin": null,
            "max_height": null,
            "max_width": null,
            "min_height": null,
            "min_width": null,
            "object_fit": null,
            "object_position": null,
            "order": null,
            "overflow": null,
            "overflow_x": null,
            "overflow_y": null,
            "padding": null,
            "right": null,
            "top": null,
            "visibility": null,
            "width": null
          }
        },
        "88a41f2e777c40f3aa63505b2bacd788": {
          "model_module": "@jupyter-widgets/base",
          "model_name": "LayoutModel",
          "model_module_version": "1.2.0",
          "state": {
            "_model_module": "@jupyter-widgets/base",
            "_model_module_version": "1.2.0",
            "_model_name": "LayoutModel",
            "_view_count": null,
            "_view_module": "@jupyter-widgets/base",
            "_view_module_version": "1.2.0",
            "_view_name": "LayoutView",
            "align_content": null,
            "align_items": null,
            "align_self": null,
            "border": null,
            "bottom": null,
            "display": null,
            "flex": null,
            "flex_flow": null,
            "grid_area": null,
            "grid_auto_columns": null,
            "grid_auto_flow": null,
            "grid_auto_rows": null,
            "grid_column": null,
            "grid_gap": null,
            "grid_row": null,
            "grid_template_areas": null,
            "grid_template_columns": null,
            "grid_template_rows": null,
            "height": null,
            "justify_content": null,
            "justify_items": null,
            "left": null,
            "margin": null,
            "max_height": null,
            "max_width": null,
            "min_height": null,
            "min_width": null,
            "object_fit": null,
            "object_position": null,
            "order": null,
            "overflow": null,
            "overflow_x": null,
            "overflow_y": null,
            "padding": null,
            "right": null,
            "top": null,
            "visibility": null,
            "width": null
          }
        },
        "15d65b5ef0a3494d805cbb7a47b8e5b1": {
          "model_module": "@jupyter-widgets/controls",
          "model_name": "DescriptionStyleModel",
          "model_module_version": "1.5.0",
          "state": {
            "_model_module": "@jupyter-widgets/controls",
            "_model_module_version": "1.5.0",
            "_model_name": "DescriptionStyleModel",
            "_view_count": null,
            "_view_module": "@jupyter-widgets/base",
            "_view_module_version": "1.2.0",
            "_view_name": "StyleView",
            "description_width": ""
          }
        },
        "528d714d31a948ef8706475d46002721": {
          "model_module": "@jupyter-widgets/base",
          "model_name": "LayoutModel",
          "model_module_version": "1.2.0",
          "state": {
            "_model_module": "@jupyter-widgets/base",
            "_model_module_version": "1.2.0",
            "_model_name": "LayoutModel",
            "_view_count": null,
            "_view_module": "@jupyter-widgets/base",
            "_view_module_version": "1.2.0",
            "_view_name": "LayoutView",
            "align_content": null,
            "align_items": null,
            "align_self": null,
            "border": null,
            "bottom": null,
            "display": null,
            "flex": null,
            "flex_flow": null,
            "grid_area": null,
            "grid_auto_columns": null,
            "grid_auto_flow": null,
            "grid_auto_rows": null,
            "grid_column": null,
            "grid_gap": null,
            "grid_row": null,
            "grid_template_areas": null,
            "grid_template_columns": null,
            "grid_template_rows": null,
            "height": null,
            "justify_content": null,
            "justify_items": null,
            "left": null,
            "margin": null,
            "max_height": null,
            "max_width": null,
            "min_height": null,
            "min_width": null,
            "object_fit": null,
            "object_position": null,
            "order": null,
            "overflow": null,
            "overflow_x": null,
            "overflow_y": null,
            "padding": null,
            "right": null,
            "top": null,
            "visibility": null,
            "width": null
          }
        },
        "9ce2f41c55804fff92de18999c0b9a35": {
          "model_module": "@jupyter-widgets/controls",
          "model_name": "ProgressStyleModel",
          "model_module_version": "1.5.0",
          "state": {
            "_model_module": "@jupyter-widgets/controls",
            "_model_module_version": "1.5.0",
            "_model_name": "ProgressStyleModel",
            "_view_count": null,
            "_view_module": "@jupyter-widgets/base",
            "_view_module_version": "1.2.0",
            "_view_name": "StyleView",
            "bar_color": null,
            "description_width": ""
          }
        },
        "d0eb42b969eb401db4a937092a1e4d6b": {
          "model_module": "@jupyter-widgets/base",
          "model_name": "LayoutModel",
          "model_module_version": "1.2.0",
          "state": {
            "_model_module": "@jupyter-widgets/base",
            "_model_module_version": "1.2.0",
            "_model_name": "LayoutModel",
            "_view_count": null,
            "_view_module": "@jupyter-widgets/base",
            "_view_module_version": "1.2.0",
            "_view_name": "LayoutView",
            "align_content": null,
            "align_items": null,
            "align_self": null,
            "border": null,
            "bottom": null,
            "display": null,
            "flex": null,
            "flex_flow": null,
            "grid_area": null,
            "grid_auto_columns": null,
            "grid_auto_flow": null,
            "grid_auto_rows": null,
            "grid_column": null,
            "grid_gap": null,
            "grid_row": null,
            "grid_template_areas": null,
            "grid_template_columns": null,
            "grid_template_rows": null,
            "height": null,
            "justify_content": null,
            "justify_items": null,
            "left": null,
            "margin": null,
            "max_height": null,
            "max_width": null,
            "min_height": null,
            "min_width": null,
            "object_fit": null,
            "object_position": null,
            "order": null,
            "overflow": null,
            "overflow_x": null,
            "overflow_y": null,
            "padding": null,
            "right": null,
            "top": null,
            "visibility": null,
            "width": null
          }
        },
        "e554885aced14b4aae9345d90d296e99": {
          "model_module": "@jupyter-widgets/controls",
          "model_name": "DescriptionStyleModel",
          "model_module_version": "1.5.0",
          "state": {
            "_model_module": "@jupyter-widgets/controls",
            "_model_module_version": "1.5.0",
            "_model_name": "DescriptionStyleModel",
            "_view_count": null,
            "_view_module": "@jupyter-widgets/base",
            "_view_module_version": "1.2.0",
            "_view_name": "StyleView",
            "description_width": ""
          }
        }
      }
    }
  },
  "nbformat": 4,
  "nbformat_minor": 0
}